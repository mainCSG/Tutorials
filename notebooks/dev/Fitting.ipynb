{
 "cells": [
  {
   "attachments": {},
   "cell_type": "markdown",
   "id": "2c32b330",
   "metadata": {},
   "source": [
    "# Finding Best Quartic Fit - 2 dot system"
   ]
  },
  {
   "attachments": {},
   "cell_type": "markdown",
   "id": "1e16180b",
   "metadata": {},
   "source": [
    "The Goal of this tutorial is to demonstrate the `fit_quartic()` function as it creates a quartic potential well of best fit.\n",
    "\n",
    "**Section 0.0 `fit_quartic()` Function**\n",
    "> Details about the fit function to note before the tutorial\n",
    "\n",
    "**Section 1.0 Basic Fit Example**\n",
    "> Creating a basic quartic potential well with the same parameters as the fitted well to check for validity. \n",
    "We will compare parameter values and plot the potentials.\n",
    "\n",
    "**Section 2.0 Adding Complexity**\n",
    "> Creating a slightly more complex well and adding noise to demonstrate the functions ability to smooth the data and create the potential of best fit"
   ]
  },
  {
   "attachments": {},
   "cell_type": "markdown",
   "id": "b77c68d3",
   "metadata": {},
   "source": [
    "# Section 0.0 - `fit_quartic()` Function"
   ]
  },
  {
   "attachments": {},
   "cell_type": "markdown",
   "id": "c6e28aa5",
   "metadata": {},
   "source": [
    "First, Import all of the needed modules"
   ]
  },
  {
   "cell_type": "code",
   "execution_count": null,
   "id": "6f806115",
   "metadata": {},
   "outputs": [],
   "source": [
    "import os, sys\n",
    "from pathlib import Path\n",
    "sys.path.append(Path(os.getcwd()).parents[1])\n",
    "\n",
    "print(Path(os.getcwd()).parents[1])"
   ]
  },
  {
   "cell_type": "code",
   "execution_count": null,
   "id": "13fed8d5",
   "metadata": {},
   "outputs": [],
   "source": [
    "\n",
    "import pandas as pd\n",
    "import numpy as np\n",
    "import matplotlib.pyplot as plt\n",
    "\n",
    "from qudipy.utils import constants\n",
    "from qudipy.potential.manipulate import fit_quartic\n",
    "from qudipy.potential import GridParameters"
   ]
  },
  {
   "attachments": {},
   "cell_type": "markdown",
   "id": "6fa841ff",
   "metadata": {},
   "source": [
    "### 0.1 How is the data being fit?\n",
    "\n",
    "The data is being fit to the following quartic function:  \n",
    "\n",
    "$$\n",
    "U_{fit}(x,y) = \\frac{m^* \\omega_0^2}{2}\\left(\\frac{[(x-x_c)^2-d^2]^2}{4d^2} + (y - y_c)^2\\right) + e \\mathscr{E} (x-x_c) + U_0\n",
    "$$\n",
    "Here, $m^*$ and $e$ are the electron effective mass and charge, respectively, whereas the fitting parameters are:\n",
    "- $(x_c, y_c)$ is the position of the center of the double-dot potential  \n",
    "- $\\omega_0$ determines the effective widths of the quantum dots $\\sqrt{\\hbar/m^*\\omega_0}$\n",
    "- $2 d$ is the dot seperation  \n",
    "- $\\mathscr{E}$ is the electric field along $x$ axis, i.e., the major axis connecting two dots\n",
    "- $U_0$ is the average lowest energy of the two valleys (zero-energy level) \n"
   ]
  },
  {
   "attachments": {},
   "cell_type": "markdown",
   "id": "a32967e5",
   "metadata": {},
   "source": [
    "**The fitting procedure** is performed on a pair of quantum dots.\n",
    "\n",
    "\n",
    "We consider the case when the bias is small compared to the electron confinement energy: this ensures charge stability, among other things. Therefore, $\\zeta = \\frac{e \\mathscr{E}d}{m^* \\omega_0^2 d^2} \\ll 1$ is treated as a small parameter."
   ]
  },
  {
   "attachments": {},
   "cell_type": "markdown",
   "id": "f5b896bd",
   "metadata": {},
   "source": [
    "\n",
    "> 1. $y_c$ is found at the position of the _global minimum_ of $U_{fit}(x,y)$.\n",
    " \n",
    "All further calculations are done for the 1D slice $U(x) \\equiv U_{fit}(x, y=y_c)$\n"
   ]
  },
  {
   "attachments": {},
   "cell_type": "markdown",
   "id": "294af220",
   "metadata": {},
   "source": [
    "  \n",
    "> 2. Finding the local minima (approximated by two parabolas) and evaluating potential energies there: \n",
    "\n",
    "$$\n",
    "    x_{1,2} = x_c \\mp d - \\frac{e \\mathscr{E}}{m^* \\omega_0^2} + o(\\zeta), \n",
    "        \\qquad U_{1,2}  = U_0 \\mp e \\mathscr{E} d \n",
    "    - \\frac{(e \\mathscr{E})^2}{2 m^* \\omega_0^2 } + o(\\zeta^2)\n",
    "$$\n",
    "\n",
    "We obtain the estimate for $d$ up to $o(\\zeta)$ directly from here :\n",
    "$\n",
    "   \\quad \\color{indigo} d \\approx \\dfrac{x_1 + x_2}{2} \n",
    "$"
   ]
  },
  {
   "attachments": {},
   "cell_type": "markdown",
   "id": "9f9e0c6f",
   "metadata": {},
   "source": [
    "> 3. Rewriting $U(x)$ to find the local maximum (saddle point in 2D):\n",
    "$$\n",
    "    U(x) = U_0 + \\frac{m^* \\omega_0^2 d^2}{8} + \n",
    "        \\frac{m^* \\omega_0^2}{8 d^2} (x - x_c)^4 \n",
    "            - \\frac{m^* \\omega_0^2 }{4}\n",
    "                \\left(x - x_c - \\frac{2 e \\mathscr{E}}{m^* \\omega_0^2}\\right)^2\n",
    "                    + \\frac{(e \\mathscr{E})^2}{ m^* \\omega_0^2 }\n",
    "$$\n",
    "\n",
    "In case of no bias ($\\mathscr{E}=0$), obviously, $x_{max}=x_c$. Since the quadratic term dominates over the quartic one for small values of $x - x_c$, \n",
    "we conclude that the local maximum is approximately determined by the quadratic term: \n",
    "\n",
    "$$\n",
    "    x_{max} = x_c + \\frac{2 e \\mathscr{E}}{m^* \\omega_0^2} + o(\\zeta), \n",
    "    \\qquad \n",
    "    U_{max} = U(x_{max}) = U_0 + \\frac{m^* \\omega_0^2 d^2}{8 } \n",
    "                    + \\frac{(e \\mathscr{E})^2}{ m^* \\omega_0^2 } + o(\\zeta^2)\n",
    "$$\n"
   ]
  },
  {
   "attachments": {},
   "cell_type": "markdown",
   "id": "32c105a9",
   "metadata": {},
   "source": [
    "> 4. Rewriting expressions for $x_1, x_2, x_{max}$ to estimate $x_c$ to the highest order of $\\zeta$:\n",
    "$$\n",
    "    \\mathrm{add\\ two\\ equations:}\\quad \\begin{cases} x_1 + x_2 = 2 x_c - \\frac{2 e \\mathscr{E}}{ m^* \\omega_0^2 } + o(\\zeta) \\\\\n",
    "                x_{max} = x_c + \\frac{2 e \\mathscr{E}}{m^* \\omega_0^2} + o(\\zeta) \n",
    "    \\end{cases} \n",
    "    \\quad \\Rightarrow \\quad \\color{indigo} x_c \\approx \\frac{x_1 + x_2 + x_{max}}{3}\n",
    "$$\n"
   ]
  },
  {
   "attachments": {},
   "cell_type": "markdown",
   "id": "506465b4",
   "metadata": {},
   "source": [
    "> 5. Rewriting expressions for $U_1, U_2, U_{max}$ to estimate $U_0, \\omega_0$ to the highest order of $\\zeta$:\n",
    "\n",
    "Eliminating $U_0$ gives a quadratic equation for $\\color{indigo} m^* \\omega_0^2$:\n",
    "$$ \n",
    "    U_{max} - \\frac{U_1 + U_2}{2} = \\frac{m^* \\omega_0^2 d^2}{8 } + \\frac{3}{2} \\frac{(e \\mathscr{E})^2}{ m^* \\omega_0^2 } + o(\\zeta^2)   \n",
    "$$\n",
    "$$\n",
    " \\Rightarrow \\quad    \\color{indigo} \\omega_0 \\approx \n",
    "    \\sqrt{\\frac{1}{2 m^*}\\left(k + \\sqrt{k^2 - 6 (e \\mathscr{E})^2}\\right)}, \n",
    "        \\quad  {\\color{gray}\\mathrm{where}} \\quad\n",
    "              k = \\frac{4}{d^2} \\left(2U_{max} - U_1 - U_2\\right)\n",
    "$$\n",
    "\n",
    "Then, having eliminated the explicit term with $\\mathscr{E}$, we find the expression for $U_0$:\n",
    "$$\n",
    "    U_{max} + (U_1 + U_2) = 3 U_0 + \\frac{m^* \\omega_0^2 d^2}{8 } + o(\\zeta^2)\n",
    "        \\\\ \\Rightarrow  \\quad \\color{indigo}\n",
    "            U_0 \\approx \\frac{U_{max} + U_1 + U_2}{3} - \\frac{m^* \\omega_0^2 d^2}{24}\n",
    "$$"
   ]
  },
  {
   "attachments": {},
   "cell_type": "markdown",
   "id": "0194fef2",
   "metadata": {},
   "source": [
    "### 0.2 What is the `fit_quartic()` Function\n",
    "To find the potential of best fit we must call the **'quartic'** function from the **potential.manipulate.py** module. The function has the following parameters and Optional Parameters:\n",
    "\n",
    "`quartic(U_data, gparams, y_slice=0, material='vacuum', return_params=False)`\n",
    "\n",
    " **Parameters**   \n",
    "> - `U_data` = 2D array of potential data to be fit   \n",
    "> - `gparams` = GridParameters object (follow path qudipy.potential.grid_params.py for more)  \n",
    "\n",
    "**Optional Parameters**  \n",
    "> - `y_slice=0` = The y value that the well is centered on, default is at 0   \n",
    "> - `material='vacuum'` = The material used. Default is vacuum   \n",
    "> - `return_params=False` = The predicate to determine if the user wishes to return a dictionary of parameter values. Default is `False`, and the function will return the 2D array of best fitting potential values.   \n",
    "\n",
    "\n",
    "***\n",
    "**keys for return_params=True**\n",
    "> When `return_params=True` the function will return a dictionary with parameter values inside. The following are the keys used to call out these parameters. If `return_params=False`, the function will return the 2D Array of fit values:\n",
    "> - <font color=green>'U_fit'</font> : 2D Array of fitted potential values  \n",
    "> - <font color=green>'dot_sep'</font> : dot_seperation \n",
    "> - <font color=green>'e_field_x'</font> : electric field along $x$ axis\n",
    "> - <font color=green>'omega_0'</font>: characteristic width of the 2-well potential\n",
    "> - <font color=green>'x_centre'</font> : centre of the 2-well potential\n",
    "> - <font color=green>'U_0'</font> : zero energy level\n"
   ]
  },
  {
   "attachments": {},
   "cell_type": "markdown",
   "id": "8aedd7cd",
   "metadata": {},
   "source": [
    "# Section 1.0 Basic Fit Example"
   ]
  },
  {
   "attachments": {},
   "cell_type": "markdown",
   "id": "81973d23",
   "metadata": {},
   "source": [
    "### 1.1 Create Potential Data"
   ]
  },
  {
   "attachments": {},
   "cell_type": "markdown",
   "id": "9c7ad2f6",
   "metadata": {},
   "source": [
    "First, let's create a 2D Array of potential values that we will pass to the fitting function. Let us create a potential identiсal to the fitting function so that we may verify our values.\n",
    "\n",
    "Let's create a well of the shape specified in *0.1* so that we can test that the fitted well gives us back the same potentails.\n",
    "To avoid numerical errors, all values shall be specified in SI!"
   ]
  },
  {
   "cell_type": "code",
   "execution_count": null,
   "id": "3661aa2b",
   "metadata": {},
   "outputs": [],
   "source": [
    "# Create Parameters for Data Potential\n",
    "d = 30e-9 # half dot seperation (initial guess)\n",
    "E1 = 2e-19 # min Energy of first well\n",
    "E2 = 2e-19 # min Energy of second well\n",
    "Emax = 3e-19 # Energy at local max\n",
    "U0 = (E2 + E1) / 2 # average lowest energy\n",
    "e = constants.e # electron charge\n",
    "mat_system = constants.select_material('Si/SiO2')\n",
    "m = mat_system.me # electron effective mass\n",
    "epsilon = (E2 - E1)/(e * 2 * d) # electric field along x axis\n",
    "omega0 = 2/d * np.sqrt((1/m)*(2*Emax - E2 - E1)) # quartic potential at x0\n",
    "x0 = 0\n",
    "\n",
    "# x and y values\n",
    "x = np.linspace(-2*d, 2*d, 100, endpoint=True)\n",
    "y = np.linspace(-2*d, 2*d, 100, endpoint=True)\n",
    "x_vals, y_vals = np.meshgrid(x,y, indexing='xy')\n",
    "\n",
    "\n",
    "U_data = (m * omega0**2)/2 *\\\n",
    "            (np.square(np.square(x_vals - x0) - d**2) / (4*d**2) + np.square(y_vals)) +\\\n",
    "            epsilon * e * x_vals + U0"
   ]
  },
  {
   "attachments": {},
   "cell_type": "markdown",
   "id": "e22f0f56",
   "metadata": {},
   "source": [
    "### 1.2 Graph the data plots"
   ]
  },
  {
   "attachments": {},
   "cell_type": "markdown",
   "id": "dbbd99c6",
   "metadata": {},
   "source": [
    "Next, graph `U_data`, the potential that we wish to have fitted. \n",
    "\n",
    "Below we have plotted `x` vs. `U`, `y` vs. `U`, `xy` vs. `U` and a 3D plot of the potential to provide an in depth view of the potential that we will pass to the fitting function."
   ]
  },
  {
   "cell_type": "code",
   "execution_count": null,
   "id": "101b0566",
   "metadata": {},
   "outputs": [],
   "source": [
    "# Graph the data\n",
    "\n",
    "fig, (ax1, ax2) = plt.subplots(1,2, figsize=(12,4))\n",
    "\n",
    "# Potential - x vs. U\n",
    "ax1.plot(x_vals, U_data, 'r')\n",
    "ax1.set_xlabel('x position')\n",
    "ax1.set_ylabel('Energy')\n",
    "ax1.set_title('U data')\n",
    "\n",
    "# Potential - y vs. U\n",
    "ax2.plot(y_vals, U_data, 'b')\n",
    "ax2.set_xlabel('y position')\n",
    "ax2.set_ylabel('Energy')\n",
    "ax2.set_title('U data')\n",
    "\n",
    "plt.show()\n",
    "\n",
    "# Potential - xy vs. U\n",
    "plt.contourf(x,y, U_data)\n",
    "plt.colorbar()\n",
    "plt.title('U data')\n",
    "plt.xlabel('x position')\n",
    "plt.ylabel('y position')\n",
    "plt.show()\n",
    "\n",
    "fig = plt.figure()\n",
    "ax = fig.add_subplot(111, projection='3d')\n",
    "surf = ax.plot_surface(x_vals, y_vals, U_data, rstride=1, cstride=1,\n",
    "                       cmap=plt.cm.jet, linewidth=0, antialiased=False)\n",
    "\n",
    "ax.set_xlabel('x')\n",
    "ax.set_ylabel('y')\n",
    "ax.set_zlabel('U(x, y)')\n",
    "ax.set_title('Quartic Potential')"
   ]
  },
  {
   "attachments": {},
   "cell_type": "markdown",
   "id": "2d35f8c5",
   "metadata": {},
   "source": [
    "### 1.3 Find quartic well of best fit"
   ]
  },
  {
   "attachments": {},
   "cell_type": "markdown",
   "id": "3fd1ea14",
   "metadata": {},
   "source": [
    "We will now use the `fit_quartic()` function to find the potential of best fit. We will compare the optimized parameters next to the parameters that we created the data from to verify that our function has suceeded in finding the appropriate parameters of best fit."
   ]
  },
  {
   "cell_type": "code",
   "execution_count": null,
   "id": "87a563e2",
   "metadata": {},
   "outputs": [],
   "source": [
    "# x and y coordinates same as the coords from our data\n",
    "x = np.linspace(-2*d, 2*d, 100, endpoint=True)\n",
    "y = np.linspace(-2*d, 2*d, 100, endpoint=True)\n",
    "x_vals, y_vals = np.meshgrid(x,y, indexing='xy')\n",
    "gparams = GridParameters(x, y)\n",
    "gparams.update_potential(U_data)\n",
    "\n",
    "# Pass all information to fitting function\n",
    "U_fit_dict = fit_quartic(gparams,  material='Si/SiO2', return_params=True)\n",
    "\n",
    "# Retrieve parameters\n",
    "U_fit = U_fit_dict['U_fit']\n",
    "d_fit = U_fit_dict['dot_sep']\n",
    "epsilon_fit = U_fit_dict['e_field_x']\n",
    "omega0_fit = U_fit_dict['omega_0']\n",
    "x0_fit = U_fit_dict['x_centre']\n",
    "U0_fit = U_fit_dict['U_0']\n",
    "\n",
    "# Print off parameter values and compare with created potential parameter values\n",
    "info_dict = {'dot_sep': [d_fit, d, 100*abs(d_fit - d)/d], 'e_field_x': [epsilon_fit, epsilon, abs(epsilon_fit - epsilon)], \\\n",
    "                'omega_0':[omega0_fit, omega0, 100*abs(omega0_fit - omega0)/omega0], 'x_centre': [x0_fit, x0, abs(x0_fit - x0)], \\\n",
    "                                                        'U_0': [U0_fit, U0, 100*abs(U0_fit - U0)/U0]}\n",
    "df = pd.DataFrame(data=info_dict, index=['fit', 'data', 'difference'])\n",
    "display(df)"
   ]
  },
  {
   "attachments": {},
   "cell_type": "markdown",
   "id": "9d21fdd8",
   "metadata": {},
   "source": [
    "### 1.4 Graph The Quartic Potential of Best Fit"
   ]
  },
  {
   "attachments": {},
   "cell_type": "markdown",
   "id": "6dd48b12",
   "metadata": {},
   "source": [
    "We will now graph `U_fit`"
   ]
  },
  {
   "cell_type": "code",
   "execution_count": null,
   "id": "95526877",
   "metadata": {},
   "outputs": [],
   "source": [
    "# Graph the fitted potential\n",
    "\n",
    "fig, (ax1, ax2) = plt.subplots(1,2, figsize=(12,4))\n",
    "\n",
    "# Potential - x vs. U\n",
    "ax1.plot(x_vals, U_fit, 'r')\n",
    "ax1.set_xlabel('x position')\n",
    "ax1.set_ylabel('Energy')\n",
    "ax1.set_title('U fit data')\n",
    "\n",
    "# Potential - y vs. U\n",
    "ax2.plot(y_vals, U_fit, 'b')\n",
    "ax2.set_xlabel('y position')\n",
    "ax2.set_ylabel('Energy')\n",
    "ax2.set_title('U fit data')\n",
    "\n",
    "plt.show()\n",
    "\n",
    "# Potential - xy vs. U\n",
    "plt.contourf(x,y, U_fit)\n",
    "plt.colorbar()\n",
    "plt.title('U fit data')\n",
    "plt.xlabel('x position')\n",
    "plt.ylabel('y position')\n",
    "plt.show()\n",
    "\n",
    "# Plot 3D Figure\n",
    "from mpl_toolkits.mplot3d import Axes3D\n",
    "fig = plt.figure()\n",
    "ax = fig.add_subplot(111, projection='3d')\n",
    "surf = ax.plot_surface(x_vals, y_vals, U_fit, rstride=1, cstride=1,\n",
    "                       cmap=plt.cm.jet, linewidth=0, antialiased=False)\n",
    "\n",
    "ax.set_xlabel('x')\n",
    "ax.set_ylabel('y')\n",
    "ax.set_zlabel('U(x, y)')\n",
    "ax.set_title('Quartic Potential of best Fit')"
   ]
  },
  {
   "attachments": {},
   "cell_type": "markdown",
   "id": "9d15f743",
   "metadata": {},
   "source": [
    "# Section 2.0 Adding Complexity "
   ]
  },
  {
   "attachments": {},
   "cell_type": "markdown",
   "id": "335d2711",
   "metadata": {},
   "source": [
    "Since we have verified the simplest case, let us add complexity to our data by changing the position of the energies of the wells and adding some noise. We will follow the same procedure as in Section 1.0.\n",
    "\n",
    "> **Note:** the HL/HM methods currently do not handle noise effects"
   ]
  },
  {
   "attachments": {},
   "cell_type": "markdown",
   "id": "e8d9cf69",
   "metadata": {},
   "source": [
    "### 2.1 Define Parameters\n",
    "\n",
    "We will create another quartic well, but this time we will add random noise to simulate a more realistic situation."
   ]
  },
  {
   "cell_type": "code",
   "execution_count": null,
   "id": "73c2a3a8",
   "metadata": {},
   "outputs": [],
   "source": [
    "# Create Parameters for Data Potential\n",
    "d = 150e-12 # half dot seperation (initial guess)\n",
    "E1 = 4 # min Energy of first well\n",
    "E2 = 0 # min Energy of second well\n",
    "Emax = 6 # Energy at local max\n",
    "U0 = (E2+E1)/2 # average lowest energy\n",
    "e = constants.e # electron charge\n",
    "mat_system = constants.select_material('Si/SiO2')\n",
    "m = mat_system.me # electron effective mass\n",
    "epsilon = (E2-E1)/(e*2*d) # electric field\n",
    "omega0 = 2/d * np.sqrt((1/m)*(2*Emax - E2 - E1)) # potential at x0\n",
    "x0 = 0\n",
    "\n",
    "# x and y values\n",
    "x = np.linspace(-2*d, 2*d, 100, endpoint=True)\n",
    "y = np.linspace(-2*d, 2*d, 100, endpoint=True)\n",
    "x_vals, y_vals = np.meshgrid(x,y, sparse=False, indexing='xy')\n",
    "\n",
    "\n",
    "U_data = (m * omega0**2)/2 *\\\n",
    "            (np.square(np.square(x_vals - x0) - d**2) / (4*d**2) + np.square(y_vals)) +\\\n",
    "            epsilon * e * x_vals + U0\n",
    "\n",
    "\n",
    "# Adding artificial noise (will not be needed in practice)\n",
    "np.random.seed(469230) # fix seed for reproducibility\n",
    "\n",
    "noise = np.random.rand(*U_data.shape)\n",
    "error = 0.05 # error rate of 5%\n",
    "\n",
    "for index, value in np.ndenumerate(noise):\n",
    "    noise[index] = 1 if value < error else 0\n",
    "\n",
    "U_data = U_data + noise"
   ]
  },
  {
   "attachments": {},
   "cell_type": "markdown",
   "id": "f16c9fbd",
   "metadata": {},
   "source": [
    "### 2.2 Graph Data"
   ]
  },
  {
   "cell_type": "code",
   "execution_count": null,
   "id": "9ec8935c",
   "metadata": {},
   "outputs": [],
   "source": [
    "# Graph the data\n",
    "\n",
    "fig, (ax1, ax2) = plt.subplots(1,2, figsize=(12,4))\n",
    "\n",
    "# Potential - x vs. U\n",
    "ax1.plot(x_vals, U_data, 'r')\n",
    "ax1.set_xlabel('x position')\n",
    "ax1.set_ylabel('Energy')\n",
    "ax1.set_title('U data')\n",
    "\n",
    "# Potential - y vs. U\n",
    "ax2.plot(y_vals, U_data, 'b')\n",
    "ax2.set_xlabel('y position')\n",
    "ax2.set_ylabel('Energy')\n",
    "ax2.set_title('U data')\n",
    "\n",
    "plt.show()\n",
    "\n",
    "# Potential - xy vs. U\n",
    "plt.contourf(x,y, U_data)\n",
    "plt.colorbar()\n",
    "plt.title('U data')\n",
    "plt.xlabel('x position')\n",
    "plt.ylabel('y position')\n",
    "plt.show()\n",
    "\n",
    "from mpl_toolkits.mplot3d import Axes3D\n",
    "fig = plt.figure()\n",
    "ax = fig.add_subplot(111, projection='3d')\n",
    "surf = ax.plot_surface(x_vals, y_vals, U_data, rstride=1, cstride=1,\n",
    "                       cmap=plt.cm.jet, linewidth=0, antialiased=False)\n",
    "\n",
    "ax.set_xlabel('x')\n",
    "ax.set_ylabel('y')\n",
    "ax.set_zlabel('U(x, y)')\n",
    "ax.set_title('Quartic Potential')"
   ]
  },
  {
   "attachments": {},
   "cell_type": "markdown",
   "id": "c44ce8da",
   "metadata": {},
   "source": [
    "### 2.2 Retrieve Fit Parameters and Compare"
   ]
  },
  {
   "cell_type": "code",
   "execution_count": null,
   "id": "93902169",
   "metadata": {},
   "outputs": [],
   "source": [
    "# x and y coordinates same as the coords from our data\n",
    "x = np.linspace(-2*d, 2*d, 100, endpoint=True)\n",
    "y = np.linspace(-2*d, 2*d, 100, endpoint=True)\n",
    "x_vals, y_vals = np.meshgrid(x,y, sparse=False, indexing='xy')\n",
    "gparams = GridParameters(x, y)\n",
    "gparams.update_potential(U_data)\n",
    "\n",
    "# Pass all information to fitting function\n",
    "U_fit_dict = fit_quartic(gparams, material='Si/SiO2', return_params=True)\n",
    "\n",
    "# Retrieve parameters\n",
    "U_fit = U_fit_dict['U_fit']\n",
    "d_fit = U_fit_dict['dot_sep']\n",
    "epsilon_fit = U_fit_dict['e_field_x']\n",
    "omega0_fit = U_fit_dict['omega_0']\n",
    "x0_fit = U_fit_dict['x_centre']\n",
    "U0_fit = U_fit_dict['U_0']\n",
    "\n",
    "# Print off parameter values and compare with created potential parameter values\n",
    "info_dict = {'dot_sep': [d_fit, d], 'e_field_x': [epsilon_fit, epsilon], \\\n",
    "             'omega_0':[omega0_fit, omega0], 'x_centre': [x0_fit, x0], 'U_0': [U0_fit, U0]}\n",
    "df = pd.DataFrame(data=info_dict, index=['fit', 'data'])\n",
    "display(df)"
   ]
  },
  {
   "attachments": {},
   "cell_type": "markdown",
   "id": "f988d85f",
   "metadata": {},
   "source": [
    "### 2.3 Plot Fitted Potential"
   ]
  },
  {
   "cell_type": "code",
   "execution_count": null,
   "id": "4e52615e",
   "metadata": {},
   "outputs": [],
   "source": [
    "# Graph the fitted potential\n",
    "\n",
    "fig, (ax1, ax2) = plt.subplots(1,2, figsize=(12,4))\n",
    "\n",
    "# Potential - x vs. U\n",
    "ax1.plot(x_vals, U_fit, 'r')\n",
    "ax1.set_xlabel('x position')\n",
    "ax1.set_ylabel('Energy')\n",
    "ax1.set_title('U fit data')\n",
    "\n",
    "# Potential - y vs. U\n",
    "ax2.plot(y_vals, U_fit, 'b')\n",
    "ax2.set_xlabel('y position')\n",
    "ax2.set_ylabel('Energy')\n",
    "ax2.set_title('U fit data')\n",
    "\n",
    "plt.show()\n",
    "\n",
    "# Potential - xy vs. U\n",
    "plt.contourf(x,y, U_fit)\n",
    "plt.colorbar()\n",
    "plt.title('U fit data')\n",
    "plt.xlabel('x position')\n",
    "plt.ylabel('y position')\n",
    "plt.show()\n",
    "\n",
    "# Plot 3D Figure\n",
    "from mpl_toolkits.mplot3d import Axes3D\n",
    "fig = plt.figure()\n",
    "ax = fig.add_subplot(111, projection='3d')\n",
    "surf = ax.plot_surface(x_vals, y_vals, U_fit, rstride=1, cstride=1,\n",
    "                       cmap=plt.cm.jet, linewidth=0, antialiased=False)\n",
    "\n",
    "ax.set_xlabel('x')\n",
    "ax.set_ylabel('y')\n",
    "ax.set_zlabel('U(x, y)')\n",
    "ax.set_title('Quartic Potential of best Fit')"
   ]
  }
 ],
 "metadata": {
  "kernelspec": {
   "display_name": "qudipy",
   "language": "python",
   "name": "qudipy"
  },
  "language_info": {
   "codemirror_mode": {
    "name": "ipython",
    "version": 3
   },
   "file_extension": ".py",
   "mimetype": "text/x-python",
   "name": "python",
   "nbconvert_exporter": "python",
   "pygments_lexer": "ipython3",
   "version": "3.10.9"
  },
  "vscode": {
   "interpreter": {
    "hash": "03888eb372d657e6f8f71ede9acfb2e1fe90355f9ed510e2347623b09a533f1d"
   }
  }
 },
 "nbformat": 4,
 "nbformat_minor": 5
}
