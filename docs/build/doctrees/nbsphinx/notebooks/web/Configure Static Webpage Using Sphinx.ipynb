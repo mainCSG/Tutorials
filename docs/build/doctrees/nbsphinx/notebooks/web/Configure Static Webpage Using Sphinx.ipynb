{
 "cells": [
  {
   "cell_type": "markdown",
   "metadata": {},
   "source": [
    "# Notes on Configuring a Static Webpage Using Sphinx\n",
    "\n",
    "This file will document usefull notes and/or commands for creating/maintaining \n",
    "a static webpage using the opensource software Sphinx which is currently hosted\n",
    "using GitHub personal pages."
   ]
  }
 ],
 "metadata": {
  "language_info": {
   "name": "python"
  }
 },
 "nbformat": 4,
 "nbformat_minor": 2
}
