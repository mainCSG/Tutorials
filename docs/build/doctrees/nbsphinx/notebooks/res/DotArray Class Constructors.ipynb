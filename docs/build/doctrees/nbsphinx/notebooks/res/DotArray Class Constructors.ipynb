{
 "cells": [
  {
   "attachments": {},
   "cell_type": "markdown",
   "metadata": {},
   "source": [
    "# DotArray: Alternative Class Construction\n",
    "\n",
    "In this jupyter notebook we briefly show how to use alternative methods for creating\n",
    "DotArray object instances.\n",
    "\n",
    "First import the relevant modules,"
   ]
  },
  {
   "cell_type": "code",
   "execution_count": 1,
   "metadata": {
    "execution": {
     "iopub.execute_input": "2024-04-04T20:27:08.976852Z",
     "iopub.status.busy": "2024-04-04T20:27:08.976852Z",
     "iopub.status.idle": "2024-04-04T20:27:08.986301Z",
     "shell.execute_reply": "2024-04-04T20:27:08.986167Z"
    }
   },
   "outputs": [
    {
     "name": "stdout",
     "output_type": "stream",
     "text": [
      "C:\\mainCSG.github.io\\docs\\source\n"
     ]
    }
   ],
   "source": [
    "import os\n",
    "from pathlib import Path\n",
    "path = Path(os.getcwd())\n",
    "\n",
    "# update base working directory to QuDiPy\n",
    "if path.stem != 'QuDiPy':\n",
    "    print(path.parents[1])\n",
    "\n",
    "    base_dir = path.parents[1]\n",
    "    os.chdir(base_dir)\n",
    "else:\n",
    "    base_dir = path"
   ]
  },
  {
   "cell_type": "code",
   "execution_count": 2,
   "metadata": {
    "execution": {
     "iopub.execute_input": "2024-04-04T20:27:08.988263Z",
     "iopub.status.busy": "2024-04-04T20:27:08.988263Z",
     "iopub.status.idle": "2024-04-04T20:27:09.941123Z",
     "shell.execute_reply": "2024-04-04T20:27:09.940457Z"
    }
   },
   "outputs": [
    {
     "ename": "ModuleNotFoundError",
     "evalue": "No module named 'qudipy'",
     "output_type": "error",
     "traceback": [
      "\u001b[1;31m---------------------------------------------------------------------------\u001b[0m",
      "\u001b[1;31mModuleNotFoundError\u001b[0m                       Traceback (most recent call last)",
      "Cell \u001b[1;32mIn[2], line 3\u001b[0m\n\u001b[0;32m      1\u001b[0m \u001b[38;5;28;01mimport\u001b[39;00m \u001b[38;5;21;01mnumpy\u001b[39;00m \u001b[38;5;28;01mas\u001b[39;00m \u001b[38;5;21;01mnp\u001b[39;00m\n\u001b[0;32m      2\u001b[0m \u001b[38;5;28;01mimport\u001b[39;00m \u001b[38;5;21;01mmatplotlib\u001b[39;00m\u001b[38;5;21;01m.\u001b[39;00m\u001b[38;5;21;01mpyplot\u001b[39;00m \u001b[38;5;28;01mas\u001b[39;00m \u001b[38;5;21;01mplt\u001b[39;00m\n\u001b[1;32m----> 3\u001b[0m \u001b[38;5;28;01mfrom\u001b[39;00m \u001b[38;5;21;01mqudipy\u001b[39;00m\u001b[38;5;21;01m.\u001b[39;00m\u001b[38;5;21;01msystem\u001b[39;00m \u001b[38;5;28;01mimport\u001b[39;00m DotArray\n\u001b[0;32m      4\u001b[0m \u001b[38;5;28;01mfrom\u001b[39;00m \u001b[38;5;21;01mqudipy\u001b[39;00m\u001b[38;5;21;01m.\u001b[39;00m\u001b[38;5;21;01mutils\u001b[39;00m \u001b[38;5;28;01mimport\u001b[39;00m constants\n",
      "\u001b[1;31mModuleNotFoundError\u001b[0m: No module named 'qudipy'"
     ]
    }
   ],
   "source": [
    "import numpy as np\n",
    "import matplotlib.pyplot as plt\n",
    "from qudipy.system import DotArray\n",
    "from qudipy.utils import constants"
   ]
  },
  {
   "cell_type": "markdown",
   "metadata": {},
   "source": [
    "# Define DotArray Object Using Simulated Potentials"
   ]
  },
  {
   "cell_type": "markdown",
   "metadata": {},
   "source": [
    "The most common method for constructing dot array objects is to use simulated\n",
    "electrostatic potentials from finite element solvers. This method for dot array\n",
    "object creation consists of:\n",
    "\n",
    "1) Defining the path to the raw 3D potential data, the desired directory to save\n",
    "2D potential slices, and a directory that <span style=\"color:red\">*MIGHT*</span> exist containing the 2D potential\n",
    "data. If the pre-processed data does not exist, then it will be generated under\n",
    "a directory with the name specified in `preprocessed_dir`."
   ]
  },
  {
   "cell_type": "code",
   "execution_count": 3,
   "metadata": {
    "execution": {
     "iopub.execute_input": "2024-04-04T20:27:09.943203Z",
     "iopub.status.busy": "2024-04-04T20:27:09.943203Z",
     "iopub.status.idle": "2024-04-04T20:27:09.948212Z",
     "shell.execute_reply": "2024-04-04T20:27:09.947203Z"
    }
   },
   "outputs": [],
   "source": [
    "nav_dir = os.path.join('QuDiPy data', 'tutorials')\n",
    "nextnano_dir = os.path.join(base_dir, nav_dir,\n",
    "                                    'nextnano','2QD_dotsep_60nm')\n",
    "processed_dir = os.path.join(base_dir, nav_dir,\n",
    "                            'processed','2QD_processed')"
   ]
  },
  {
   "cell_type": "markdown",
   "metadata": {},
   "source": [
    "2) Specify the gate contact names used when defining devices in the finite element\n",
    "software package Nextnano++ and the expected number of quantum dot confinement \n",
    "potentials."
   ]
  },
  {
   "cell_type": "code",
   "execution_count": 4,
   "metadata": {
    "execution": {
     "iopub.execute_input": "2024-04-04T20:27:09.950211Z",
     "iopub.status.busy": "2024-04-04T20:27:09.950211Z",
     "iopub.status.idle": "2024-04-04T20:27:09.953233Z",
     "shell.execute_reply": "2024-04-04T20:27:09.953233Z"
    }
   },
   "outputs": [],
   "source": [
    "n_dots = 2      # anticipated number of dots"
   ]
  },
  {
   "cell_type": "markdown",
   "metadata": {},
   "source": [
    "3) Specify the range of voltage values to use un subsequent calculations. This range \n",
    "can be the full range of simulated Nextnano++ data **or** a subset."
   ]
  },
  {
   "cell_type": "code",
   "execution_count": 5,
   "metadata": {
    "execution": {
     "iopub.execute_input": "2024-04-04T20:27:09.955764Z",
     "iopub.status.busy": "2024-04-04T20:27:09.955764Z",
     "iopub.status.idle": "2024-04-04T20:27:09.960315Z",
     "shell.execute_reply": "2024-04-04T20:27:09.959689Z"
    }
   },
   "outputs": [],
   "source": [
    "pts = [4,3,4]\n",
    "ctrl_vals = [ \n",
    "    np.linspace(0.2, 0.45, pts[0]),\n",
    "    np.linspace(-0.1, 0.15, pts[1]),\n",
    "    np.linspace(0.2, 0.45, pts[2])]"
   ]
  },
  {
   "cell_type": "markdown",
   "metadata": {},
   "source": [
    "4) Define a prefix to add to files that might be calcualted during the dot array object\n",
    "creation. "
   ]
  },
  {
   "cell_type": "code",
   "execution_count": 6,
   "metadata": {
    "execution": {
     "iopub.execute_input": "2024-04-04T20:27:09.962362Z",
     "iopub.status.busy": "2024-04-04T20:27:09.962362Z",
     "iopub.status.idle": "2024-04-04T20:27:09.964943Z",
     "shell.execute_reply": "2024-04-04T20:27:09.964943Z"
    }
   },
   "outputs": [],
   "source": [
    "file_prefix = 'tutorial'"
   ]
  },
  {
   "cell_type": "markdown",
   "metadata": {},
   "source": [
    "5) Instantiate the basic dot array object and Load/Calculate desired effective parameters using the numeric class method."
   ]
  },
  {
   "cell_type": "code",
   "execution_count": 7,
   "metadata": {
    "execution": {
     "iopub.execute_input": "2024-04-04T20:27:09.967418Z",
     "iopub.status.busy": "2024-04-04T20:27:09.967418Z",
     "iopub.status.idle": "2024-04-04T20:27:09.981584Z",
     "shell.execute_reply": "2024-04-04T20:27:09.981584Z"
    }
   },
   "outputs": [
    {
     "ename": "NameError",
     "evalue": "name 'DotArray' is not defined",
     "output_type": "error",
     "traceback": [
      "\u001b[1;31m---------------------------------------------------------------------------\u001b[0m",
      "\u001b[1;31mNameError\u001b[0m                                 Traceback (most recent call last)",
      "Cell \u001b[1;32mIn[7], line 3\u001b[0m\n\u001b[0;32m      1\u001b[0m \u001b[38;5;66;03m# Calculate the effective parameters and/or load the masked potential \u001b[39;00m\n\u001b[0;32m      2\u001b[0m \u001b[38;5;66;03m# lanscapes as well as save 2D potential slices to Pre-processed directory\u001b[39;00m\n\u001b[1;32m----> 3\u001b[0m dots_numeric \u001b[38;5;241m=\u001b[39m DotArray(n_dots, ctrl_ranges\u001b[38;5;241m=\u001b[39mctrl_vals)\n\u001b[0;32m      4\u001b[0m dots_numeric\u001b[38;5;241m.\u001b[39mnumeric(processed_dir, nextnano_dir, file_prefix)\n",
      "\u001b[1;31mNameError\u001b[0m: name 'DotArray' is not defined"
     ]
    }
   ],
   "source": [
    "# Calculate the effective parameters and/or load the masked potential \n",
    "# lanscapes as well as save 2D potential slices to Pre-processed directory\n",
    "dots_numeric = DotArray(n_dots, ctrl_ranges=ctrl_vals)\n",
    "dots_numeric.numeric(processed_dir, nextnano_dir, file_prefix)"
   ]
  },
  {
   "cell_type": "markdown",
   "metadata": {},
   "source": [
    "An example of plotting the resultant potential generated from the numeric method and \n",
    "Nextnano++ pre-processed data. We plot the electrostatic potential by specifying the potential interpolation object `potential`\n",
    "generated by the numeric DotArray method and specifying proper units for plotting.\n",
    "\n",
    "**Note:** Default units are SI"
   ]
  },
  {
   "cell_type": "code",
   "execution_count": 8,
   "metadata": {
    "execution": {
     "iopub.execute_input": "2024-04-04T20:27:09.984656Z",
     "iopub.status.busy": "2024-04-04T20:27:09.984140Z",
     "iopub.status.idle": "2024-04-04T20:27:09.997343Z",
     "shell.execute_reply": "2024-04-04T20:27:09.997343Z"
    }
   },
   "outputs": [
    {
     "ename": "NameError",
     "evalue": "name 'dots_numeric' is not defined",
     "output_type": "error",
     "traceback": [
      "\u001b[1;31m---------------------------------------------------------------------------\u001b[0m",
      "\u001b[1;31mNameError\u001b[0m                                 Traceback (most recent call last)",
      "Cell \u001b[1;32mIn[8], line 1\u001b[0m\n\u001b[1;32m----> 1\u001b[0m dots_numeric\u001b[38;5;241m.\u001b[39mpotential\u001b[38;5;241m.\u001b[39mplot([\u001b[38;5;241m0.2\u001b[39m,\u001b[38;5;241m0.0\u001b[39m,\u001b[38;5;241m0.2\u001b[39m], plot_type\u001b[38;5;241m=\u001b[39m\u001b[38;5;124m'\u001b[39m\u001b[38;5;124m1D\u001b[39m\u001b[38;5;124m'\u001b[39m, y_slice\u001b[38;5;241m=\u001b[39m\u001b[38;5;241m0\u001b[39m, plot_units\u001b[38;5;241m=\u001b[39m\u001b[38;5;124m'\u001b[39m\u001b[38;5;124mmeV\u001b[39m\u001b[38;5;124m'\u001b[39m)\n",
      "\u001b[1;31mNameError\u001b[0m: name 'dots_numeric' is not defined"
     ]
    }
   ],
   "source": [
    "\n",
    "dots_numeric.potential.plot([0.2,0.0,0.2], plot_type='1D', y_slice=0, plot_units='meV')"
   ]
  },
  {
   "cell_type": "code",
   "execution_count": 9,
   "metadata": {
    "execution": {
     "iopub.execute_input": "2024-04-04T20:27:09.999431Z",
     "iopub.status.busy": "2024-04-04T20:27:09.999431Z",
     "iopub.status.idle": "2024-04-04T20:27:10.013333Z",
     "shell.execute_reply": "2024-04-04T20:27:10.013333Z"
    }
   },
   "outputs": [
    {
     "ename": "NameError",
     "evalue": "name 'dots_numeric' is not defined",
     "output_type": "error",
     "traceback": [
      "\u001b[1;31m---------------------------------------------------------------------------\u001b[0m",
      "\u001b[1;31mNameError\u001b[0m                                 Traceback (most recent call last)",
      "Cell \u001b[1;32mIn[9], line 1\u001b[0m\n\u001b[1;32m----> 1\u001b[0m dots_numeric\u001b[38;5;241m.\u001b[39mpotential\u001b[38;5;241m.\u001b[39mplot([\u001b[38;5;241m0.2\u001b[39m,\u001b[38;5;241m0.0\u001b[39m,\u001b[38;5;241m0.2\u001b[39m], plot_units\u001b[38;5;241m=\u001b[39m\u001b[38;5;124m'\u001b[39m\u001b[38;5;124mmeV\u001b[39m\u001b[38;5;124m'\u001b[39m)\n",
      "\u001b[1;31mNameError\u001b[0m: name 'dots_numeric' is not defined"
     ]
    }
   ],
   "source": [
    "dots_numeric.potential.plot([0.2,0.0,0.2], plot_units='meV')"
   ]
  },
  {
   "cell_type": "markdown",
   "metadata": {},
   "source": [
    "We can also plot the electric field by specifying the electric field interpolation object `e_field`\n",
    "generated by the numeric DotArray method and specifying proper units for plotting."
   ]
  },
  {
   "cell_type": "code",
   "execution_count": 10,
   "metadata": {
    "execution": {
     "iopub.execute_input": "2024-04-04T20:27:10.015979Z",
     "iopub.status.busy": "2024-04-04T20:27:10.015979Z",
     "iopub.status.idle": "2024-04-04T20:27:10.031071Z",
     "shell.execute_reply": "2024-04-04T20:27:10.031071Z"
    }
   },
   "outputs": [
    {
     "ename": "NameError",
     "evalue": "name 'dots_numeric' is not defined",
     "output_type": "error",
     "traceback": [
      "\u001b[1;31m---------------------------------------------------------------------------\u001b[0m",
      "\u001b[1;31mNameError\u001b[0m                                 Traceback (most recent call last)",
      "Cell \u001b[1;32mIn[10], line 1\u001b[0m\n\u001b[1;32m----> 1\u001b[0m dots_numeric\u001b[38;5;241m.\u001b[39me_field\u001b[38;5;241m.\u001b[39mplot([\u001b[38;5;241m0.2\u001b[39m,\u001b[38;5;241m0.0\u001b[39m,\u001b[38;5;241m0.2\u001b[39m], plot_type\u001b[38;5;241m=\u001b[39m\u001b[38;5;124m'\u001b[39m\u001b[38;5;124m1D\u001b[39m\u001b[38;5;124m'\u001b[39m, y_slice\u001b[38;5;241m=\u001b[39m\u001b[38;5;241m0\u001b[39m, plot_units\u001b[38;5;241m=\u001b[39m\u001b[38;5;124m'\u001b[39m\u001b[38;5;124mkV/m\u001b[39m\u001b[38;5;124m'\u001b[39m)\n",
      "\u001b[1;31mNameError\u001b[0m: name 'dots_numeric' is not defined"
     ]
    }
   ],
   "source": [
    "dots_numeric.e_field.plot([0.2,0.0,0.2], plot_type='1D', y_slice=0, plot_units='kV/m')"
   ]
  },
  {
   "cell_type": "code",
   "execution_count": 11,
   "metadata": {
    "execution": {
     "iopub.execute_input": "2024-04-04T20:27:10.033158Z",
     "iopub.status.busy": "2024-04-04T20:27:10.033158Z",
     "iopub.status.idle": "2024-04-04T20:27:10.048391Z",
     "shell.execute_reply": "2024-04-04T20:27:10.047368Z"
    }
   },
   "outputs": [
    {
     "ename": "NameError",
     "evalue": "name 'dots_numeric' is not defined",
     "output_type": "error",
     "traceback": [
      "\u001b[1;31m---------------------------------------------------------------------------\u001b[0m",
      "\u001b[1;31mNameError\u001b[0m                                 Traceback (most recent call last)",
      "Cell \u001b[1;32mIn[11], line 1\u001b[0m\n\u001b[1;32m----> 1\u001b[0m dots_numeric\u001b[38;5;241m.\u001b[39me_field\u001b[38;5;241m.\u001b[39mplot([\u001b[38;5;241m0.2\u001b[39m,\u001b[38;5;241m0.0\u001b[39m,\u001b[38;5;241m0.2\u001b[39m], plot_units\u001b[38;5;241m=\u001b[39m\u001b[38;5;124m'\u001b[39m\u001b[38;5;124mkV/m\u001b[39m\u001b[38;5;124m'\u001b[39m)\n",
      "\u001b[1;31mNameError\u001b[0m: name 'dots_numeric' is not defined"
     ]
    }
   ],
   "source": [
    "dots_numeric.e_field.plot([0.2,0.0,0.2], plot_units='kV/m')"
   ]
  },
  {
   "cell_type": "markdown",
   "metadata": {},
   "source": [
    "# Define DotArray Object Using Analytic Potentials"
   ]
  },
  {
   "cell_type": "markdown",
   "metadata": {},
   "source": [
    "Instead of constructing a dot array objecting using simulated potentials, we can\n",
    "define an analytic potential function parameterized by various control parameters.\n",
    "The example below parameterizes the analytic potential using effective quantum \n",
    "dot size and dot separation."
   ]
  },
  {
   "cell_type": "code",
   "execution_count": 12,
   "metadata": {
    "execution": {
     "iopub.execute_input": "2024-04-04T20:27:10.050336Z",
     "iopub.status.busy": "2024-04-04T20:27:10.050336Z",
     "iopub.status.idle": "2024-04-04T20:27:10.054870Z",
     "shell.execute_reply": "2024-04-04T20:27:10.053858Z"
    }
   },
   "outputs": [],
   "source": [
    "# Bounds put on the maximum dot separation\n",
    "a_min = 1e-10\n",
    "a_max = 100e-9\n",
    "\n",
    "# Defining control vector using dot seperation, dot sizes in frequency \n",
    "# representation, and bias voltage (this can be changed to account for electric\n",
    "# field along x-axis)\n",
    "sep = 90e-9\n",
    "omega0 = 5e13\n",
    "Vbias = 10\n",
    "ctrl_val = [sep, omega0, Vbias]"
   ]
  },
  {
   "attachments": {},
   "cell_type": "markdown",
   "metadata": {},
   "source": [
    "## Quartic Potential For a Double Quantum Dot"
   ]
  },
  {
   "cell_type": "code",
   "execution_count": 13,
   "metadata": {
    "execution": {
     "iopub.execute_input": "2024-04-04T20:27:10.056263Z",
     "iopub.status.busy": "2024-04-04T20:27:10.056263Z",
     "iopub.status.idle": "2024-04-04T20:27:10.081842Z",
     "shell.execute_reply": "2024-04-04T20:27:10.081591Z"
    }
   },
   "outputs": [
    {
     "ename": "NameError",
     "evalue": "name 'DotArray' is not defined",
     "output_type": "error",
     "traceback": [
      "\u001b[1;31m---------------------------------------------------------------------------\u001b[0m",
      "\u001b[1;31mNameError\u001b[0m                                 Traceback (most recent call last)",
      "Cell \u001b[1;32mIn[13], line 28\u001b[0m\n\u001b[0;32m     25\u001b[0m coords[\u001b[38;5;124m'\u001b[39m\u001b[38;5;124mx\u001b[39m\u001b[38;5;124m'\u001b[39m] \u001b[38;5;241m=\u001b[39m np\u001b[38;5;241m.\u001b[39mlinspace(\u001b[38;5;241m-\u001b[39m\u001b[38;5;241m1.5\u001b[39m\u001b[38;5;241m*\u001b[39ma_max, \u001b[38;5;241m1.5\u001b[39m\u001b[38;5;241m*\u001b[39ma_max, \u001b[38;5;241m200\u001b[39m)\n\u001b[0;32m     26\u001b[0m coords[\u001b[38;5;124m'\u001b[39m\u001b[38;5;124my\u001b[39m\u001b[38;5;124m'\u001b[39m] \u001b[38;5;241m=\u001b[39m np\u001b[38;5;241m.\u001b[39mlinspace(\u001b[38;5;241m-\u001b[39m\u001b[38;5;241m1.5\u001b[39m\u001b[38;5;241m*\u001b[39ma_max, \u001b[38;5;241m1.5\u001b[39m\u001b[38;5;241m*\u001b[39ma_max, \u001b[38;5;241m200\u001b[39m)\n\u001b[1;32m---> 28\u001b[0m dots_analytic \u001b[38;5;241m=\u001b[39m DotArray(n_dots, ctrl_ranges\u001b[38;5;241m=\u001b[39mctrl_vals)\n\u001b[0;32m     29\u001b[0m dots_analytic\u001b[38;5;241m.\u001b[39manalytic(pot_func, coords\u001b[38;5;241m=\u001b[39mcoords, ctrl_names\u001b[38;5;241m=\u001b[39mctrl_names)\n",
      "\u001b[1;31mNameError\u001b[0m: name 'DotArray' is not defined"
     ]
    }
   ],
   "source": [
    "# Simple double dot quartic potential\n",
    "def create_quartic(ctrl_vals, coords, material='Si/SiO2'):\n",
    "\n",
    "    from qudipy.utils import constants\n",
    "    mat_system = constants.select_material(material)\n",
    "\n",
    "    # If desired, bias can be incorperated into this analytic potential with v_bias\n",
    "    scale = 10 # scale influences strength of bias voltage on potential\n",
    "    a, omega_0, v_bias = ctrl_vals[0], ctrl_vals[1], ctrl_vals[2]\n",
    "\n",
    "    x,y = coords['x'], coords['y']\n",
    "    x_mesh, y_mesh = np.meshgrid(x,y)\n",
    "\n",
    "    return (0.5 * mat_system.me * omega_0 ** 2 *  ( \n",
    "        1 / ( 4 * a **2) * ( (x_mesh ** 2 - a ** 2) ** 2)\n",
    "        + y_mesh ** 2 ) \n",
    "        + (scale*0.5*(constants.e*v_bias)/a)*(x_mesh + a))\n",
    "        \n",
    "\n",
    "ctrl_vals = [list(np.linspace(a_min,a_max,25)),list(np.linspace(1e1,1e17, 25)), list(np.linspace(0,10, 10))]\n",
    "ctrl_names = ['sep','omegao', 'Vb']\n",
    "pot_func = create_quartic\n",
    "\n",
    "coords = {'x':[], 'y':[]}\n",
    "coords['x'] = np.linspace(-1.5*a_max, 1.5*a_max, 200)\n",
    "coords['y'] = np.linspace(-1.5*a_max, 1.5*a_max, 200)\n",
    "\n",
    "dots_analytic = DotArray(n_dots, ctrl_ranges=ctrl_vals)\n",
    "dots_analytic.analytic(pot_func, coords=coords, ctrl_names=ctrl_names)"
   ]
  },
  {
   "cell_type": "code",
   "execution_count": 14,
   "metadata": {
    "execution": {
     "iopub.execute_input": "2024-04-04T20:27:10.084352Z",
     "iopub.status.busy": "2024-04-04T20:27:10.084352Z",
     "iopub.status.idle": "2024-04-04T20:27:10.098076Z",
     "shell.execute_reply": "2024-04-04T20:27:10.097566Z"
    }
   },
   "outputs": [
    {
     "ename": "NameError",
     "evalue": "name 'dots_analytic' is not defined",
     "output_type": "error",
     "traceback": [
      "\u001b[1;31m---------------------------------------------------------------------------\u001b[0m",
      "\u001b[1;31mNameError\u001b[0m                                 Traceback (most recent call last)",
      "Cell \u001b[1;32mIn[14], line 1\u001b[0m\n\u001b[1;32m----> 1\u001b[0m dots_analytic\u001b[38;5;241m.\u001b[39mpotential\u001b[38;5;241m.\u001b[39mplot(ctrl_val, plot_type\u001b[38;5;241m=\u001b[39m\u001b[38;5;124m'\u001b[39m\u001b[38;5;124m1D\u001b[39m\u001b[38;5;124m'\u001b[39m, y_slice\u001b[38;5;241m=\u001b[39m\u001b[38;5;241m0\u001b[39m, plot_units\u001b[38;5;241m=\u001b[39m[\u001b[38;5;124m'\u001b[39m\u001b[38;5;124meV\u001b[39m\u001b[38;5;124m'\u001b[39m])\n",
      "\u001b[1;31mNameError\u001b[0m: name 'dots_analytic' is not defined"
     ]
    }
   ],
   "source": [
    "dots_analytic.potential.plot(ctrl_val, plot_type='1D', y_slice=0, plot_units=['eV'])"
   ]
  },
  {
   "cell_type": "code",
   "execution_count": 15,
   "metadata": {
    "execution": {
     "iopub.execute_input": "2024-04-04T20:27:10.100196Z",
     "iopub.status.busy": "2024-04-04T20:27:10.100196Z",
     "iopub.status.idle": "2024-04-04T20:27:10.112301Z",
     "shell.execute_reply": "2024-04-04T20:27:10.112301Z"
    }
   },
   "outputs": [
    {
     "ename": "NameError",
     "evalue": "name 'dots_analytic' is not defined",
     "output_type": "error",
     "traceback": [
      "\u001b[1;31m---------------------------------------------------------------------------\u001b[0m",
      "\u001b[1;31mNameError\u001b[0m                                 Traceback (most recent call last)",
      "Cell \u001b[1;32mIn[15], line 1\u001b[0m\n\u001b[1;32m----> 1\u001b[0m dots_analytic\u001b[38;5;241m.\u001b[39mpotential\u001b[38;5;241m.\u001b[39mplot(ctrl_val, plot_units\u001b[38;5;241m=\u001b[39m[\u001b[38;5;124m'\u001b[39m\u001b[38;5;124meV\u001b[39m\u001b[38;5;124m'\u001b[39m])\n",
      "\u001b[1;31mNameError\u001b[0m: name 'dots_analytic' is not defined"
     ]
    }
   ],
   "source": [
    "dots_analytic.potential.plot(ctrl_val, plot_units=['eV'])"
   ]
  }
 ],
 "metadata": {
  "kernelspec": {
   "display_name": "qudipy",
   "language": "python",
   "name": "python3"
  },
  "language_info": {
   "codemirror_mode": {
    "name": "ipython",
    "version": 3
   },
   "file_extension": ".py",
   "mimetype": "text/x-python",
   "name": "python",
   "nbconvert_exporter": "python",
   "pygments_lexer": "ipython3",
   "version": "3.11.5"
  }
 },
 "nbformat": 4,
 "nbformat_minor": 2
}
