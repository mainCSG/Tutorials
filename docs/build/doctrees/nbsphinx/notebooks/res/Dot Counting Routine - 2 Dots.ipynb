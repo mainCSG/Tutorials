{
 "cells": [
  {
   "attachments": {},
   "cell_type": "markdown",
   "metadata": {},
   "source": [
    "# Inferred Number of Quantum Dots Using the Potential Landscape \n",
    "\n",
    "We will briefly look into how the number of quantum dots is inferred using 1D\n",
    "cross-sections of the 2D electrostatic potential landscapes."
   ]
  },
  {
   "cell_type": "code",
   "execution_count": 1,
   "metadata": {
    "execution": {
     "iopub.execute_input": "2024-06-17T02:48:17.363316Z",
     "iopub.status.busy": "2024-06-17T02:48:17.363137Z",
     "iopub.status.idle": "2024-06-17T02:48:17.368126Z",
     "shell.execute_reply": "2024-06-17T02:48:17.367763Z"
    }
   },
   "outputs": [],
   "source": [
    "import os\n",
    "from pathlib import Path\n",
    "path = Path(os.getcwd())\n",
    "\n",
    "# update base working directory to QuDiPy\n",
    "if path.stem != 'QuDiPy':\n",
    "    base_dir = path.parents[1]\n",
    "    os.chdir(base_dir)\n",
    "else:\n",
    "    base_dir = path"
   ]
  },
  {
   "cell_type": "markdown",
   "metadata": {},
   "source": [
    "## 0. Import relevant Python and QuDiPy modules\n",
    "\n",
    "Import DotArray class which generates dot objects. Each dot array object requires\n",
    "us to specify the expected number of quantum dots which will be used to detect \n",
    "dot merging events."
   ]
  },
  {
   "cell_type": "code",
   "execution_count": 2,
   "metadata": {
    "execution": {
     "iopub.execute_input": "2024-06-17T02:48:17.369655Z",
     "iopub.status.busy": "2024-06-17T02:48:17.369379Z",
     "iopub.status.idle": "2024-06-17T02:48:18.032230Z",
     "shell.execute_reply": "2024-06-17T02:48:18.031887Z"
    }
   },
   "outputs": [
    {
     "ename": "ModuleNotFoundError",
     "evalue": "No module named 'qudipy'",
     "output_type": "error",
     "traceback": [
      "\u001b[0;31m---------------------------------------------------------------------------\u001b[0m",
      "\u001b[0;31mModuleNotFoundError\u001b[0m                       Traceback (most recent call last)",
      "Cell \u001b[0;32mIn[2], line 5\u001b[0m\n\u001b[1;32m      2\u001b[0m \u001b[38;5;28;01mimport\u001b[39;00m \u001b[38;5;21;01mmatplotlib\u001b[39;00m\u001b[38;5;21;01m.\u001b[39;00m\u001b[38;5;21;01mpyplot\u001b[39;00m \u001b[38;5;28;01mas\u001b[39;00m \u001b[38;5;21;01mplt\u001b[39;00m\n\u001b[1;32m      3\u001b[0m \u001b[38;5;28;01mfrom\u001b[39;00m \u001b[38;5;21;01mscipy\u001b[39;00m\u001b[38;5;21;01m.\u001b[39;00m\u001b[38;5;21;01msignal\u001b[39;00m \u001b[38;5;28;01mimport\u001b[39;00m find_peaks\n\u001b[0;32m----> 5\u001b[0m \u001b[38;5;28;01mfrom\u001b[39;00m \u001b[38;5;21;01mqudipy\u001b[39;00m\u001b[38;5;21;01m.\u001b[39;00m\u001b[38;5;21;01msystem\u001b[39;00m \u001b[38;5;28;01mimport\u001b[39;00m DotArray\n",
      "\u001b[0;31mModuleNotFoundError\u001b[0m: No module named 'qudipy'"
     ]
    }
   ],
   "source": [
    "import numpy as np\n",
    "import matplotlib.pyplot as plt\n",
    "from scipy.signal import find_peaks\n",
    "\n",
    "from qudipy.system import DotArray"
   ]
  },
  {
   "attachments": {},
   "cell_type": "markdown",
   "metadata": {},
   "source": [
    "## 1. Generate Dots object instance\n",
    "\n",
    "Refer to [2QD DotArray Usage Tutorial](./Dot%20Array%20Class%20Usage%202%20Dots.ipynb) for more about creating dots objects."
   ]
  },
  {
   "cell_type": "code",
   "execution_count": 3,
   "metadata": {
    "execution": {
     "iopub.execute_input": "2024-06-17T02:48:18.033795Z",
     "iopub.status.busy": "2024-06-17T02:48:18.033648Z",
     "iopub.status.idle": "2024-06-17T02:48:18.036280Z",
     "shell.execute_reply": "2024-06-17T02:48:18.035971Z"
    }
   },
   "outputs": [],
   "source": [
    "nav_dir = os.path.join('QuDiPy data', 'development')\n",
    "processed_dir = os.path.join(base_dir, nav_dir,\n",
    "                            'processed','2QD_processed')\n",
    "nextnano_dir = os.path.join(base_dir, nav_dir,\n",
    "                                    'nextnano','2QD_dotsep_60nm')\n",
    "                \n",
    "n_dots = 2      # anticipated number of dots"
   ]
  },
  {
   "cell_type": "code",
   "execution_count": 4,
   "metadata": {
    "execution": {
     "iopub.execute_input": "2024-06-17T02:48:18.037709Z",
     "iopub.status.busy": "2024-06-17T02:48:18.037495Z",
     "iopub.status.idle": "2024-06-17T02:48:18.067791Z",
     "shell.execute_reply": "2024-06-17T02:48:18.067365Z"
    }
   },
   "outputs": [],
   "source": [
    "pts = [6,6,6]\n",
    "ctrl_vals = [np.linspace(0.2, 0.45, pts[0]),\n",
    "    np.linspace(-0.1, 0.15, pts[1]),\n",
    "    np.linspace(0.2, 0.45, pts[2])]\n",
    "\n",
    "file_prefix = 'resource'"
   ]
  },
  {
   "attachments": {},
   "cell_type": "markdown",
   "metadata": {},
   "source": [
    "### 1.2 Create object instance \n",
    "\n",
    "Here we are loading only the 2D electrostatic potentials to use potential interpolation\n",
    "objects. These will be used to give an example for counting the number of dots is\n",
    "performed. "
   ]
  },
  {
   "cell_type": "code",
   "execution_count": 5,
   "metadata": {
    "execution": {
     "iopub.execute_input": "2024-06-17T02:48:18.069414Z",
     "iopub.status.busy": "2024-06-17T02:48:18.069265Z",
     "iopub.status.idle": "2024-06-17T02:48:18.090667Z",
     "shell.execute_reply": "2024-06-17T02:48:18.090074Z"
    }
   },
   "outputs": [
    {
     "ename": "NameError",
     "evalue": "name 'DotArray' is not defined",
     "output_type": "error",
     "traceback": [
      "\u001b[0;31m---------------------------------------------------------------------------\u001b[0m",
      "\u001b[0;31mNameError\u001b[0m                                 Traceback (most recent call last)",
      "Cell \u001b[0;32mIn[5], line 1\u001b[0m\n\u001b[0;32m----> 1\u001b[0m dots \u001b[38;5;241m=\u001b[39m \u001b[43mDotArray\u001b[49m(n_dots, ctrl_ranges\u001b[38;5;241m=\u001b[39mctrl_vals, save\u001b[38;5;241m=\u001b[39m\u001b[38;5;28;01mTrue\u001b[39;00m, calc\u001b[38;5;241m=\u001b[39m\u001b[38;5;28;01mFalse\u001b[39;00m)\n\u001b[1;32m      2\u001b[0m dots\u001b[38;5;241m.\u001b[39mnumeric(processed_dir, nextnano_dir, file_prefix)\n",
      "\u001b[0;31mNameError\u001b[0m: name 'DotArray' is not defined"
     ]
    }
   ],
   "source": [
    "dots = DotArray(n_dots, ctrl_ranges=ctrl_vals, save=True, calc=False)\n",
    "dots.numeric(processed_dir, nextnano_dir, file_prefix)"
   ]
  },
  {
   "cell_type": "markdown",
   "metadata": {},
   "source": [
    "We can reference the potential interpolators as follows."
   ]
  },
  {
   "cell_type": "code",
   "execution_count": 6,
   "metadata": {
    "execution": {
     "iopub.execute_input": "2024-06-17T02:48:18.092387Z",
     "iopub.status.busy": "2024-06-17T02:48:18.092114Z",
     "iopub.status.idle": "2024-06-17T02:48:18.112474Z",
     "shell.execute_reply": "2024-06-17T02:48:18.112170Z"
    }
   },
   "outputs": [
    {
     "ename": "NameError",
     "evalue": "name 'dots' is not defined",
     "output_type": "error",
     "traceback": [
      "\u001b[0;31m---------------------------------------------------------------------------\u001b[0m",
      "\u001b[0;31mNameError\u001b[0m                                 Traceback (most recent call last)",
      "Cell \u001b[0;32mIn[6], line 2\u001b[0m\n\u001b[1;32m      1\u001b[0m ctrl_vector \u001b[38;5;241m=\u001b[39m [ \u001b[38;5;241m0.2\u001b[39m, \u001b[38;5;241m-\u001b[39m\u001b[38;5;241m0.1\u001b[39m, \u001b[38;5;241m0.45\u001b[39m]\n\u001b[0;32m----> 2\u001b[0m \u001b[43mdots\u001b[49m\u001b[38;5;241m.\u001b[39mpotential\u001b[38;5;241m.\u001b[39mplot(ctrl_vector, plot_type\u001b[38;5;241m=\u001b[39m\u001b[38;5;124m'\u001b[39m\u001b[38;5;124m1D\u001b[39m\u001b[38;5;124m'\u001b[39m, y_slice\u001b[38;5;241m=\u001b[39m\u001b[38;5;241m0\u001b[39m, show_wf\u001b[38;5;241m=\u001b[39m\u001b[38;5;28;01mTrue\u001b[39;00m)\n",
      "\u001b[0;31mNameError\u001b[0m: name 'dots' is not defined"
     ]
    }
   ],
   "source": [
    "ctrl_vector = [ 0.2, -0.1, 0.45]\n",
    "dots.potential.plot(ctrl_vector, plot_type='1D', y_slice=0, show_wf=True)"
   ]
  },
  {
   "cell_type": "markdown",
   "metadata": {},
   "source": [
    "## 2. Counting Dots"
   ]
  },
  {
   "cell_type": "markdown",
   "metadata": {},
   "source": [
    "### 2.1 Create a Pseudo Potential for an Example "
   ]
  },
  {
   "cell_type": "markdown",
   "metadata": {},
   "source": [
    "First create function that creates potential signal that is applied to a given 1D potential.\n",
    "This is useful for testing the peak finding routine.\n",
    "\n",
    "We will overlay \"ripples\" on top of the potential landscape to show the robustness \n",
    "of the dot finding routine. These ripples currently arise at the edges of the \n",
    "simulated dot systems due to boundary conditions and a non-linear rectilinear \n",
    "grid used when solving the Poisson PDE (the grid mesh typically is less dense \n",
    "at the boundaries).\n"
   ]
  },
  {
   "cell_type": "code",
   "execution_count": 7,
   "metadata": {
    "execution": {
     "iopub.execute_input": "2024-06-17T02:48:18.114067Z",
     "iopub.status.busy": "2024-06-17T02:48:18.113929Z",
     "iopub.status.idle": "2024-06-17T02:48:18.128873Z",
     "shell.execute_reply": "2024-06-17T02:48:18.128556Z"
    }
   },
   "outputs": [],
   "source": [
    "def window(func, x, bounds):\n",
    "\n",
    "    # define regions where to apply func\n",
    "    x_left = x[x<bounds[0]]\n",
    "    signal_left = func(x_left)\n",
    "\n",
    "    x_right = x[bounds[1]<x]\n",
    "    signal_right = func(x_right)\n",
    "\n",
    "    # middle region is left untouched\n",
    "    x_middle = np.squeeze(np.where((x>bounds[0]) & (bounds[1]>x)))\n",
    "    signal_middle = np.zeros((len(x_middle)))\n",
    "\n",
    "    # stack modified signals into new signal\n",
    "    return np.hstack([signal_left, signal_middle, signal_right])\n",
    "\n",
    "# define a test function which resembles \"edge\" effects for some simulated \n",
    "# electrostatic potential data\n",
    "def fast_sin(x):\n",
    "    return 1e-22*np.sin(x*5e8)"
   ]
  },
  {
   "cell_type": "markdown",
   "metadata": {},
   "source": [
    "### 2.1 Find the Number or Local Maxima/Minima Defining dots\n",
    "\n",
    "First we select a 1D potential slice from a 2D potential for a given voltage\n",
    "configuration."
   ]
  },
  {
   "cell_type": "code",
   "execution_count": 8,
   "metadata": {
    "execution": {
     "iopub.execute_input": "2024-06-17T02:48:18.130621Z",
     "iopub.status.busy": "2024-06-17T02:48:18.130312Z",
     "iopub.status.idle": "2024-06-17T02:48:18.152021Z",
     "shell.execute_reply": "2024-06-17T02:48:18.151675Z"
    }
   },
   "outputs": [
    {
     "ename": "NameError",
     "evalue": "name 'dots' is not defined",
     "output_type": "error",
     "traceback": [
      "\u001b[0;31m---------------------------------------------------------------------------\u001b[0m",
      "\u001b[0;31mNameError\u001b[0m                                 Traceback (most recent call last)",
      "Cell \u001b[0;32mIn[8], line 2\u001b[0m\n\u001b[1;32m      1\u001b[0m \u001b[38;5;66;03m# get 1D potential slice\u001b[39;00m\n\u001b[0;32m----> 2\u001b[0m pot_1d \u001b[38;5;241m=\u001b[39m \u001b[43mdots\u001b[49m\u001b[38;5;241m.\u001b[39mpotential(ctrl_vector)[\u001b[38;5;241m70\u001b[39m,:]\n\u001b[1;32m      4\u001b[0m \u001b[38;5;66;03m# get coordinates along slice\u001b[39;00m\n\u001b[1;32m      5\u001b[0m x_coords \u001b[38;5;241m=\u001b[39m dots\u001b[38;5;241m.\u001b[39mpotential\u001b[38;5;241m.\u001b[39mx_coords\n",
      "\u001b[0;31mNameError\u001b[0m: name 'dots' is not defined"
     ]
    }
   ],
   "source": [
    "# get 1D potential slice\n",
    "pot_1d = dots.potential(ctrl_vector)[70,:]\n",
    "\n",
    "# get coordinates along slice\n",
    "x_coords = dots.potential.x_coords"
   ]
  },
  {
   "cell_type": "markdown",
   "metadata": {},
   "source": [
    "Generate a signal of \"false dots\" near the boundaries of the simulated dot system.\n",
    "False dots refer to erroneous minamas/maximas found which are used to infer the \n",
    "number of dots in the system."
   ]
  },
  {
   "cell_type": "code",
   "execution_count": 9,
   "metadata": {
    "execution": {
     "iopub.execute_input": "2024-06-17T02:48:18.153639Z",
     "iopub.status.busy": "2024-06-17T02:48:18.153479Z",
     "iopub.status.idle": "2024-06-17T02:48:18.174365Z",
     "shell.execute_reply": "2024-06-17T02:48:18.174063Z"
    }
   },
   "outputs": [
    {
     "ename": "NameError",
     "evalue": "name 'x_coords' is not defined",
     "output_type": "error",
     "traceback": [
      "\u001b[0;31m---------------------------------------------------------------------------\u001b[0m",
      "\u001b[0;31mNameError\u001b[0m                                 Traceback (most recent call last)",
      "Cell \u001b[0;32mIn[9], line 2\u001b[0m\n\u001b[1;32m      1\u001b[0m bounds \u001b[38;5;241m=\u001b[39m [\u001b[38;5;241m-\u001b[39m\u001b[38;5;241m0.6e-7\u001b[39m, \u001b[38;5;241m0.6e-7\u001b[39m]\n\u001b[0;32m----> 2\u001b[0m false_dots \u001b[38;5;241m=\u001b[39m window(fast_sin, \u001b[43mx_coords\u001b[49m, bounds)\n",
      "\u001b[0;31mNameError\u001b[0m: name 'x_coords' is not defined"
     ]
    }
   ],
   "source": [
    "bounds = [-0.6e-7, 0.6e-7]\n",
    "false_dots = window(fast_sin, x_coords, bounds)"
   ]
  },
  {
   "cell_type": "markdown",
   "metadata": {},
   "source": [
    "Apply that signal to the original 1D potential slice."
   ]
  },
  {
   "cell_type": "code",
   "execution_count": 10,
   "metadata": {
    "execution": {
     "iopub.execute_input": "2024-06-17T02:48:18.175870Z",
     "iopub.status.busy": "2024-06-17T02:48:18.175660Z",
     "iopub.status.idle": "2024-06-17T02:48:18.197737Z",
     "shell.execute_reply": "2024-06-17T02:48:18.197314Z"
    }
   },
   "outputs": [
    {
     "ename": "NameError",
     "evalue": "name 'pot_1d' is not defined",
     "output_type": "error",
     "traceback": [
      "\u001b[0;31m---------------------------------------------------------------------------\u001b[0m",
      "\u001b[0;31mNameError\u001b[0m                                 Traceback (most recent call last)",
      "Cell \u001b[0;32mIn[10], line 1\u001b[0m\n\u001b[0;32m----> 1\u001b[0m pseudo_pot_slice \u001b[38;5;241m=\u001b[39m \u001b[43mpot_1d\u001b[49m\u001b[38;5;241m+\u001b[39mfalse_dots\n",
      "\u001b[0;31mNameError\u001b[0m: name 'pot_1d' is not defined"
     ]
    }
   ],
   "source": [
    "pseudo_pot_slice = pot_1d+false_dots"
   ]
  },
  {
   "cell_type": "markdown",
   "metadata": {},
   "source": [
    "Find the mean potential value for a given 1D potential slice. This is used to \n",
    "determine if a found local maxima/minima is associated to a dot or is erroneous.\n",
    "The mean is used compared to the median to account for cases of larger dot \n",
    "systems which will shift the median towards the potential defining the dots more \n",
    "than the mean. This could lead to miss-counting number of local minima."
   ]
  },
  {
   "cell_type": "markdown",
   "metadata": {},
   "source": [
    "To make the counting routine more robust to <span style=\"color:red\">*high bias potential regimes*</span> or <span style=\"color:red\">*non-uniform mesh grids*</span>, a cut_off parameter is used.\n",
    "Any potential minimum below the cut_off value is counted as a visible dot."
   ]
  },
  {
   "cell_type": "code",
   "execution_count": 11,
   "metadata": {
    "execution": {
     "iopub.execute_input": "2024-06-17T02:48:18.199475Z",
     "iopub.status.busy": "2024-06-17T02:48:18.199316Z",
     "iopub.status.idle": "2024-06-17T02:48:18.219912Z",
     "shell.execute_reply": "2024-06-17T02:48:18.219607Z"
    }
   },
   "outputs": [
    {
     "ename": "NameError",
     "evalue": "name 'pseudo_pot_slice' is not defined",
     "output_type": "error",
     "traceback": [
      "\u001b[0;31m---------------------------------------------------------------------------\u001b[0m",
      "\u001b[0;31mNameError\u001b[0m                                 Traceback (most recent call last)",
      "Cell \u001b[0;32mIn[11], line 2\u001b[0m\n\u001b[1;32m      1\u001b[0m \u001b[38;5;66;03m# create relevant variables to define the cutoff value\u001b[39;00m\n\u001b[0;32m----> 2\u001b[0m global_max \u001b[38;5;241m=\u001b[39m np\u001b[38;5;241m.\u001b[39mmax(\u001b[43mpseudo_pot_slice\u001b[49m)\n\u001b[1;32m      3\u001b[0m mean \u001b[38;5;241m=\u001b[39m np\u001b[38;5;241m.\u001b[39mmean(pseudo_pot_slice)\n\u001b[1;32m      4\u001b[0m median \u001b[38;5;241m=\u001b[39m np\u001b[38;5;241m.\u001b[39mmedian(pseudo_pot_slice)\n",
      "\u001b[0;31mNameError\u001b[0m: name 'pseudo_pot_slice' is not defined"
     ]
    }
   ],
   "source": [
    "# create relevant variables to define the cutoff value\n",
    "global_max = np.max(pseudo_pot_slice)\n",
    "mean = np.mean(pseudo_pot_slice)\n",
    "median = np.median(pseudo_pot_slice)"
   ]
  },
  {
   "cell_type": "markdown",
   "metadata": {},
   "source": [
    "Two methods for defining the cutoff value will be considered:\n",
    "\n",
    "1) Using the mean of the 1D potential slice"
   ]
  },
  {
   "cell_type": "code",
   "execution_count": 12,
   "metadata": {
    "execution": {
     "iopub.execute_input": "2024-06-17T02:48:18.221483Z",
     "iopub.status.busy": "2024-06-17T02:48:18.221318Z",
     "iopub.status.idle": "2024-06-17T02:48:18.242136Z",
     "shell.execute_reply": "2024-06-17T02:48:18.241693Z"
    }
   },
   "outputs": [
    {
     "ename": "NameError",
     "evalue": "name 'global_max' is not defined",
     "output_type": "error",
     "traceback": [
      "\u001b[0;31m---------------------------------------------------------------------------\u001b[0m",
      "\u001b[0;31mNameError\u001b[0m                                 Traceback (most recent call last)",
      "Cell \u001b[0;32mIn[12], line 2\u001b[0m\n\u001b[1;32m      1\u001b[0m \u001b[38;5;66;03m# creating cut off from mid point between global max and mean of the potential\u001b[39;00m\n\u001b[0;32m----> 2\u001b[0m diff \u001b[38;5;241m=\u001b[39m \u001b[38;5;28mabs\u001b[39m(\u001b[43mglobal_max\u001b[49m \u001b[38;5;241m-\u001b[39m mean) \u001b[38;5;241m*\u001b[39m \u001b[38;5;241m0.5\u001b[39m\n\u001b[1;32m      3\u001b[0m cut_off_mean \u001b[38;5;241m=\u001b[39m global_max \u001b[38;5;241m-\u001b[39m diff\n",
      "\u001b[0;31mNameError\u001b[0m: name 'global_max' is not defined"
     ]
    }
   ],
   "source": [
    "# creating cut off from mid point between global max and mean of the potential\n",
    "diff = abs(global_max - mean) * 0.5\n",
    "cut_off_mean = global_max - diff"
   ]
  },
  {
   "cell_type": "markdown",
   "metadata": {},
   "source": [
    "2) Using the median of the 1D potential slice"
   ]
  },
  {
   "cell_type": "code",
   "execution_count": 13,
   "metadata": {
    "execution": {
     "iopub.execute_input": "2024-06-17T02:48:18.243855Z",
     "iopub.status.busy": "2024-06-17T02:48:18.243723Z",
     "iopub.status.idle": "2024-06-17T02:48:18.264456Z",
     "shell.execute_reply": "2024-06-17T02:48:18.264065Z"
    }
   },
   "outputs": [
    {
     "ename": "NameError",
     "evalue": "name 'global_max' is not defined",
     "output_type": "error",
     "traceback": [
      "\u001b[0;31m---------------------------------------------------------------------------\u001b[0m",
      "\u001b[0;31mNameError\u001b[0m                                 Traceback (most recent call last)",
      "Cell \u001b[0;32mIn[13], line 2\u001b[0m\n\u001b[1;32m      1\u001b[0m \u001b[38;5;66;03m# creating cut off from mid point between global max and median of the potential\u001b[39;00m\n\u001b[0;32m----> 2\u001b[0m diff \u001b[38;5;241m=\u001b[39m \u001b[38;5;28mabs\u001b[39m(\u001b[43mglobal_max\u001b[49m \u001b[38;5;241m-\u001b[39m median) \u001b[38;5;241m*\u001b[39m \u001b[38;5;241m0.5\u001b[39m\n\u001b[1;32m      3\u001b[0m cut_off_median \u001b[38;5;241m=\u001b[39m global_max \u001b[38;5;241m-\u001b[39m diff\n",
      "\u001b[0;31mNameError\u001b[0m: name 'global_max' is not defined"
     ]
    }
   ],
   "source": [
    "# creating cut off from mid point between global max and median of the potential\n",
    "diff = abs(global_max - median) * 0.5\n",
    "cut_off_median = global_max - diff"
   ]
  },
  {
   "cell_type": "markdown",
   "metadata": {},
   "source": [
    "Let's plot the 1D potential and the histogram of a 1D potential slice."
   ]
  },
  {
   "cell_type": "code",
   "execution_count": 14,
   "metadata": {
    "execution": {
     "iopub.execute_input": "2024-06-17T02:48:18.266133Z",
     "iopub.status.busy": "2024-06-17T02:48:18.265976Z",
     "iopub.status.idle": "2024-06-17T02:48:18.449653Z",
     "shell.execute_reply": "2024-06-17T02:48:18.449210Z"
    }
   },
   "outputs": [
    {
     "ename": "NameError",
     "evalue": "name 'x_coords' is not defined",
     "output_type": "error",
     "traceback": [
      "\u001b[0;31m---------------------------------------------------------------------------\u001b[0m",
      "\u001b[0;31mNameError\u001b[0m                                 Traceback (most recent call last)",
      "Cell \u001b[0;32mIn[14], line 2\u001b[0m\n\u001b[1;32m      1\u001b[0m fig, ax \u001b[38;5;241m=\u001b[39m plt\u001b[38;5;241m.\u001b[39msubplots(\u001b[38;5;241m1\u001b[39m,\u001b[38;5;241m2\u001b[39m, figsize\u001b[38;5;241m=\u001b[39m(\u001b[38;5;241m12\u001b[39m,\u001b[38;5;241m4\u001b[39m))\n\u001b[0;32m----> 2\u001b[0m ax[\u001b[38;5;241m0\u001b[39m]\u001b[38;5;241m.\u001b[39mplot(\u001b[43mx_coords\u001b[49m, pseudo_pot_slice, \u001b[38;5;124m'\u001b[39m\u001b[38;5;124m.-k\u001b[39m\u001b[38;5;124m'\u001b[39m, markersize\u001b[38;5;241m=\u001b[39m\u001b[38;5;241m4\u001b[39m)\n\u001b[1;32m      3\u001b[0m ax[\u001b[38;5;241m0\u001b[39m]\u001b[38;5;241m.\u001b[39mplot([np\u001b[38;5;241m.\u001b[39mmin(x_coords), np\u001b[38;5;241m.\u001b[39mmax(x_coords)], [mean, mean], \u001b[38;5;124m'\u001b[39m\u001b[38;5;124m-b\u001b[39m\u001b[38;5;124m'\u001b[39m, label \u001b[38;5;241m=\u001b[39m \u001b[38;5;124m'\u001b[39m\u001b[38;5;124mMean\u001b[39m\u001b[38;5;124m'\u001b[39m)\n\u001b[1;32m      4\u001b[0m ax[\u001b[38;5;241m0\u001b[39m]\u001b[38;5;241m.\u001b[39mplot([np\u001b[38;5;241m.\u001b[39mmin(x_coords), np\u001b[38;5;241m.\u001b[39mmax(x_coords)], [cut_off_mean, cut_off_mean], \u001b[38;5;124m'\u001b[39m\u001b[38;5;124m--b\u001b[39m\u001b[38;5;124m'\u001b[39m, label \u001b[38;5;241m=\u001b[39m \u001b[38;5;124m'\u001b[39m\u001b[38;5;124mCut Off: Mean\u001b[39m\u001b[38;5;124m'\u001b[39m)\n",
      "\u001b[0;31mNameError\u001b[0m: name 'x_coords' is not defined"
     ]
    },
    {
     "data": {
      "image/png": "[encoded data removed]",
      "text/plain": [
       "<Figure size 1200x400 with 2 Axes>"
      ]
     },
     "metadata": {},
     "output_type": "display_data"
    }
   ],
   "source": [
    "fig, ax = plt.subplots(1,2, figsize=(12,4))\n",
    "ax[0].plot(x_coords, pseudo_pot_slice, '.-k', markersize=4)\n",
    "ax[0].plot([np.min(x_coords), np.max(x_coords)], [mean, mean], '-b', label = 'Mean')\n",
    "ax[0].plot([np.min(x_coords), np.max(x_coords)], [cut_off_mean, cut_off_mean], '--b', label = 'Cut Off: Mean')\n",
    "ax[0].plot([np.min(x_coords), np.max(x_coords)], [cut_off_median, cut_off_median], '--g', label = 'Cut Off: Median')\n",
    "# plot median as an example\n",
    "median = np.median(pseudo_pot_slice)\n",
    "ax[0].plot([np.min(x_coords), np.max(x_coords)], [median, median], '-g', label = 'Median')\n",
    "\n",
    "ax[0].set_ylabel('Potential [J]')\n",
    "ax[0].set_xlabel('x-Coordinate [m]')\n",
    "ax[0].legend(loc='upper center', ncol=2)\n",
    "\n",
    "# plot historgram of potential values\n",
    "ax[1].hist(pseudo_pot_slice, bins=25, orientation=\"horizontal\")\n",
    "ax[1].set_ylabel('Potential [J]')\n",
    "ax[1].set_xlabel('Counts')\n",
    "\n",
    "fig.suptitle('Synthetic 1D Dot Potential')"
   ]
  },
  {
   "cell_type": "markdown",
   "metadata": {},
   "source": [
    "To find the number of dots, we count the number of non-erroneous minimas in the\n",
    "1D potential. This is done by finding the minimas that are smaller than the mean/median/cutoff\n",
    "of the 1D potential slice. \n",
    "\n",
    "The cutoff defined using the mean will be used as the default method."
   ]
  },
  {
   "cell_type": "code",
   "execution_count": 15,
   "metadata": {
    "execution": {
     "iopub.execute_input": "2024-06-17T02:48:18.451514Z",
     "iopub.status.busy": "2024-06-17T02:48:18.451374Z",
     "iopub.status.idle": "2024-06-17T02:48:18.460750Z",
     "shell.execute_reply": "2024-06-17T02:48:18.460465Z"
    }
   },
   "outputs": [
    {
     "ename": "NameError",
     "evalue": "name 'pseudo_pot_slice' is not defined",
     "output_type": "error",
     "traceback": [
      "\u001b[0;31m---------------------------------------------------------------------------\u001b[0m",
      "\u001b[0;31mNameError\u001b[0m                                 Traceback (most recent call last)",
      "Cell \u001b[0;32mIn[15], line 1\u001b[0m\n\u001b[0;32m----> 1\u001b[0m minima \u001b[38;5;241m=\u001b[39m find_peaks((\u001b[38;5;241m-\u001b[39m\u001b[38;5;241m1\u001b[39m) \u001b[38;5;241m*\u001b[39m \u001b[43mpseudo_pot_slice\u001b[49m, height\u001b[38;5;241m=\u001b[39m\u001b[38;5;241m-\u001b[39mcut_off_mean)[\u001b[38;5;241m0\u001b[39m]\n",
      "\u001b[0;31mNameError\u001b[0m: name 'pseudo_pot_slice' is not defined"
     ]
    }
   ],
   "source": [
    "minima = find_peaks((-1) * pseudo_pot_slice, height=-cut_off_mean)[0]"
   ]
  },
  {
   "cell_type": "markdown",
   "metadata": {},
   "source": [
    "For masking purposes, the local maxima between dots is determined. This is done \n",
    "by finding the local maxima between the outermost minima."
   ]
  },
  {
   "cell_type": "code",
   "execution_count": 16,
   "metadata": {
    "execution": {
     "iopub.execute_input": "2024-06-17T02:48:18.462415Z",
     "iopub.status.busy": "2024-06-17T02:48:18.462173Z",
     "iopub.status.idle": "2024-06-17T02:48:18.484081Z",
     "shell.execute_reply": "2024-06-17T02:48:18.483800Z"
    }
   },
   "outputs": [
    {
     "ename": "NameError",
     "evalue": "name 'minima' is not defined",
     "output_type": "error",
     "traceback": [
      "\u001b[0;31m---------------------------------------------------------------------------\u001b[0m",
      "\u001b[0;31mNameError\u001b[0m                                 Traceback (most recent call last)",
      "Cell \u001b[0;32mIn[16], line 1\u001b[0m\n\u001b[0;32m----> 1\u001b[0m \u001b[38;5;28;01mif\u001b[39;00m \u001b[38;5;28mlen\u001b[39m(\u001b[43mminima\u001b[49m)\u001b[38;5;241m>\u001b[39m\u001b[38;5;241m1\u001b[39m:\n\u001b[1;32m      2\u001b[0m         x_eval_coord \u001b[38;5;241m=\u001b[39m x_coords[minima[\u001b[38;5;241m0\u001b[39m]:minima[\u001b[38;5;241m-\u001b[39m\u001b[38;5;241m1\u001b[39m]]\n\u001b[1;32m      3\u001b[0m         bounded_pot \u001b[38;5;241m=\u001b[39m pseudo_pot_slice[minima[\u001b[38;5;241m0\u001b[39m]:minima[\u001b[38;5;241m-\u001b[39m\u001b[38;5;241m1\u001b[39m]]\n",
      "\u001b[0;31mNameError\u001b[0m: name 'minima' is not defined"
     ]
    }
   ],
   "source": [
    "if len(minima)>1:\n",
    "        x_eval_coord = x_coords[minima[0]:minima[-1]]\n",
    "        bounded_pot = pseudo_pot_slice[minima[0]:minima[-1]]\n",
    "        maxima = minima[0] + find_peaks(bounded_pot)[0]"
   ]
  },
  {
   "cell_type": "markdown",
   "metadata": {},
   "source": [
    "Finally, we see the local minima/maxima peaks found resulting from ignoring any \n",
    "minima that are not less than the cutoff. Erroneous dots are mimicked to left/right \n",
    "of the red vertical dashed lines."
   ]
  },
  {
   "cell_type": "code",
   "execution_count": 17,
   "metadata": {
    "execution": {
     "iopub.execute_input": "2024-06-17T02:48:18.485714Z",
     "iopub.status.busy": "2024-06-17T02:48:18.485464Z",
     "iopub.status.idle": "2024-06-17T02:48:18.650360Z",
     "shell.execute_reply": "2024-06-17T02:48:18.649763Z"
    }
   },
   "outputs": [
    {
     "ename": "NameError",
     "evalue": "name 'x_coords' is not defined",
     "output_type": "error",
     "traceback": [
      "\u001b[0;31m---------------------------------------------------------------------------\u001b[0m",
      "\u001b[0;31mNameError\u001b[0m                                 Traceback (most recent call last)",
      "Cell \u001b[0;32mIn[17], line 2\u001b[0m\n\u001b[1;32m      1\u001b[0m fig, ax \u001b[38;5;241m=\u001b[39m plt\u001b[38;5;241m.\u001b[39msubplots(\u001b[38;5;241m1\u001b[39m,\u001b[38;5;241m2\u001b[39m, figsize\u001b[38;5;241m=\u001b[39m(\u001b[38;5;241m12\u001b[39m,\u001b[38;5;241m4\u001b[39m))\n\u001b[0;32m----> 2\u001b[0m ax[\u001b[38;5;241m0\u001b[39m]\u001b[38;5;241m.\u001b[39mplot(\u001b[43mx_coords\u001b[49m, pseudo_pot_slice, \u001b[38;5;124m'\u001b[39m\u001b[38;5;124m.-k\u001b[39m\u001b[38;5;124m'\u001b[39m, markersize\u001b[38;5;241m=\u001b[39m\u001b[38;5;241m4\u001b[39m)\n\u001b[1;32m      3\u001b[0m ax[\u001b[38;5;241m0\u001b[39m]\u001b[38;5;241m.\u001b[39mplot([bounds[\u001b[38;5;241m0\u001b[39m], bounds[\u001b[38;5;241m0\u001b[39m]], [np\u001b[38;5;241m.\u001b[39mmin(pseudo_pot_slice), np\u001b[38;5;241m.\u001b[39mmax(pseudo_pot_slice)], \u001b[38;5;124m'\u001b[39m\u001b[38;5;124m--r\u001b[39m\u001b[38;5;124m'\u001b[39m)\n\u001b[1;32m      4\u001b[0m ax[\u001b[38;5;241m0\u001b[39m]\u001b[38;5;241m.\u001b[39mplot([bounds[\u001b[38;5;241m1\u001b[39m], bounds[\u001b[38;5;241m1\u001b[39m]], [np\u001b[38;5;241m.\u001b[39mmin(pseudo_pot_slice), np\u001b[38;5;241m.\u001b[39mmax(pseudo_pot_slice)], \u001b[38;5;124m'\u001b[39m\u001b[38;5;124m--r\u001b[39m\u001b[38;5;124m'\u001b[39m)\n",
      "\u001b[0;31mNameError\u001b[0m: name 'x_coords' is not defined"
     ]
    },
    {
     "data": {
      "image/png": "[encoded data removed]",
      "text/plain": [
       "<Figure size 1200x400 with 2 Axes>"
      ]
     },
     "metadata": {},
     "output_type": "display_data"
    }
   ],
   "source": [
    "fig, ax = plt.subplots(1,2, figsize=(12,4))\n",
    "ax[0].plot(x_coords, pseudo_pot_slice, '.-k', markersize=4)\n",
    "ax[0].plot([bounds[0], bounds[0]], [np.min(pseudo_pot_slice), np.max(pseudo_pot_slice)], '--r')\n",
    "ax[0].plot([bounds[1], bounds[1]], [np.min(pseudo_pot_slice), np.max(pseudo_pot_slice)], '--r')\n",
    "ax[0].plot([np.min(x_coords), np.max(x_coords)], [mean, mean], '-b', label = 'Mean')\n",
    "ax[0].plot([np.min(x_coords), np.max(x_coords)], [cut_off_mean, cut_off_mean], '--b', label = 'Cut Off: Mean')\n",
    "ax[0].plot([np.min(x_coords), np.max(x_coords)], [cut_off_median, cut_off_median], '--g', label = 'Cut Off: Median')\n",
    "ax[0].scatter(x_coords[minima], pseudo_pot_slice[minima], color='r', marker='.', s=200, zorder=5)\n",
    "ax[0].scatter(x_coords[maxima], pseudo_pot_slice[maxima], color='g', marker='.', s=200, zorder=5)\n",
    "# plot median as an example\n",
    "median = np.median(pseudo_pot_slice)\n",
    "ax[0].plot([np.min(x_coords), np.max(x_coords)], [median, median], '-g', label = 'Median')\n",
    "\n",
    "ax[0].set_ylabel('Potential [J]')\n",
    "ax[0].set_xlabel('x-Coordinate [m]')\n",
    "ax[0].legend(loc='upper center')\n",
    "\n",
    "# plot historgram of potential values\n",
    "ax[1].hist(pseudo_pot_slice, bins=25, orientation=\"horizontal\")\n",
    "ax[1].set_ylabel('Potential [J]')\n",
    "ax[1].set_xlabel('Counts')\n",
    "\n",
    "fig.suptitle('Synthetic 1D Dot Potential')"
   ]
  }
 ],
 "metadata": {
  "kernelspec": {
   "display_name": "qudipy",
   "language": "python",
   "name": "qudipy"
  },
  "language_info": {
   "codemirror_mode": {
    "name": "ipython",
    "version": 3
   },
   "file_extension": ".py",
   "mimetype": "text/x-python",
   "name": "python",
   "nbconvert_exporter": "python",
   "pygments_lexer": "ipython3",
   "version": "3.10.9"
  }
 },
 "nbformat": 4,
 "nbformat_minor": 2
}
