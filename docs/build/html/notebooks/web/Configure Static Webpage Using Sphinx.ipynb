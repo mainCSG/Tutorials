{
 "cells": [
  {
   "cell_type": "markdown",
   "metadata": {},
   "source": [
    "# Notes on Configuring a Static Webpage Using Sphinx\n",
    "\n",
    "This file will document usefull notes and/or commands for creating/maintaining \n",
    "a static webpage using the opensource software Sphinx which is currently hosted\n",
    "using GitHub personal pages."
   ]
  },
  {
   "cell_type": "markdown",
   "metadata": {},
   "source": [
    "Jupyter notebooks can be hosted with Sphinx on these webpages as implemented in this page. Main headers are shown on the side menu, as well as subheaders in a collapsed list."
   ]
  },
  {
   "cell_type": "markdown",
   "metadata": {},
   "source": [
    "## 1. Header Syntax\n",
    "\n",
    "Headers in a Jupyter notebook are dictated by the amount of hashtags '#' placed before the text. One hashtag indicates a main header, which should be only used for the title of the notebook, and decides the header that is placed in the side menu. Each subsequent sub-header in the notebook can have two or more hashtags depending on the structure desired. For example, the more hashtags, the smaller the headers will be. \n",
    "\n",
    "![Image for Example](Images/MarkdownHeaders.png)\n",
    "\n",
    "##      2. Level 2 Header (two hashtags)\n",
    "\n",
    "###     2.1  Level 3 Header (three hashtags)\n",
    "\n",
    "###     2.1.1 Level 4 Header (four hashtags)"
   ]
  },
  {
   "cell_type": "markdown",
   "metadata": {},
   "source": [
    "Another cool use of the Markdown language in Jupyter notebooks, is the ability to host GIFs and videos within a notebook.\n",
    "\n",
    "## 2. GIFs, Videos or Animations in Jupyter Notebook\n",
    "\n",
    "The syntax to host GIFs, videos or animations in Markdown is as follows:\n",
    "\n",
    "..figure:: filepath.gif\n",
    "\n",
    "The file, or folder of the figure being displayed must be in the same folder the notebook is stored. In this case, the GIF is stored in a folder called \"GIFs\", within the same folder this notebook is stored.\n",
    "\n",
    "For example, this text \".. figure:: GIFs/Atom.gif\" shows the following GIF:\n"
   ]
  },
  {
   "cell_type": "markdown",
   "metadata": {},
   "source": [
    ".. figure:: GIFs/Atom.gif\n",
    "\n"
   ]
  },
  {
   "cell_type": "markdown",
   "metadata": {},
   "source": [
    "## 3. Storing Notebooks to be Compiled by Sphinx\n",
    "\n",
    "Notebooks that you want displayed in the webpage must be stored inside the same folder as the 'index.rst' file, and specified within this file. Each section in the side menu has its own folder and is defined in the index file with its title as follows:\n",
    "\n",
    "![Image for Example](Images/IndexFile.png)\n",
    "\n",
    "-   \".. toctree::\" is the mandatory definition, and this is what specifies the file path (as shown at the bottom). \n",
    "-   \"maxdepth\" is what dictates which headers are collapsed in the side menu\n",
    "-   \"caption\" is the text that will be displayed as the title of the section in the side menu\n",
    "-   At the end is the file folder path for the notebooks to be displayed, and the '*' means it will take all of the notebooks in the specified folder\n"
   ]
  },
  {
   "cell_type": "markdown",
   "metadata": {},
   "source": [
    "## 4. Using Make to Build HTML\n",
    "\n",
    "When making changes to notebooks in the website, you are able to build the new website in the 'index.html' link. \n",
    "\n",
    "1. Make sure all changes are saved\n",
    "2. Make sure the directory you are in is 'C:\\mainCSG.github.io\\docs' \n",
    "3. Type the following commands:\n",
    "- 'make clean'\n",
    "- 'make html'\n",
    "\n",
    "Once this is done running, all saved changes will appear in the browser when the 'index.html' file is opened."
   ]
  }
 ],
 "metadata": {
  "language_info": {
   "name": "python"
  }
 },
 "nbformat": 4,
 "nbformat_minor": 2
}
