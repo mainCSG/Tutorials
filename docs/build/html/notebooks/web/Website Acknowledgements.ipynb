{
 "cells": [
  {
   "cell_type": "markdown",
   "metadata": {},
   "source": [
    "# Website Acknowledgements\n",
    "\n",
    "The website is under construction by the [Coherent Spintronics Group](https://uwaterloo.ca/baugh-research-lab/) (CSG) at the University of Waterloo. The two website maintainers are Zach Merino and Emma Stephenson."
   ]
  }
 ],
 "metadata": {
  "language_info": {
   "name": "python"
  }
 },
 "nbformat": 4,
 "nbformat_minor": 2
}
