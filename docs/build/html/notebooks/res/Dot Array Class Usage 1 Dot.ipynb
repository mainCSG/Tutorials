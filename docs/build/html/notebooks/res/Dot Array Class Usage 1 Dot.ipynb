{
 "cells": [
  {
   "attachments": {},
   "cell_type": "markdown",
   "metadata": {},
   "source": [
    "# DotArray Object for a Single Quantum Dot Array"
   ]
  },
  {
   "cell_type": "code",
   "execution_count": 1,
   "metadata": {
    "execution": {
     "iopub.execute_input": "2024-06-17T02:48:14.848020Z",
     "iopub.status.busy": "2024-06-17T02:48:14.847654Z",
     "iopub.status.idle": "2024-06-17T02:48:14.852713Z",
     "shell.execute_reply": "2024-06-17T02:48:14.852425Z"
    }
   },
   "outputs": [],
   "source": [
    "import os\n",
    "from pathlib import Path\n",
    "path = Path(os.getcwd())\n",
    "\n",
    "# update base working directory to QuDiPy\n",
    "if path.stem != 'QuDiPy':\n",
    "    base_dir = path.parents[1]\n",
    "    os.chdir(base_dir)\n",
    "else:\n",
    "    base_dir = path"
   ]
  },
  {
   "cell_type": "markdown",
   "metadata": {},
   "source": [
    "## 0. Import relevant Python and QuDiPy modules"
   ]
  },
  {
   "cell_type": "code",
   "execution_count": 2,
   "metadata": {
    "execution": {
     "iopub.execute_input": "2024-06-17T02:48:14.854209Z",
     "iopub.status.busy": "2024-06-17T02:48:14.853982Z",
     "iopub.status.idle": "2024-06-17T02:48:15.575685Z",
     "shell.execute_reply": "2024-06-17T02:48:15.575209Z"
    }
   },
   "outputs": [
    {
     "ename": "ModuleNotFoundError",
     "evalue": "No module named 'qudipy'",
     "output_type": "error",
     "traceback": [
      "\u001b[0;31m---------------------------------------------------------------------------\u001b[0m",
      "\u001b[0;31mModuleNotFoundError\u001b[0m                       Traceback (most recent call last)",
      "Cell \u001b[0;32mIn[2], line 5\u001b[0m\n\u001b[1;32m      2\u001b[0m \u001b[38;5;28;01mimport\u001b[39;00m \u001b[38;5;21;01mmatplotlib\u001b[39;00m\u001b[38;5;21;01m.\u001b[39;00m\u001b[38;5;21;01mpyplot\u001b[39;00m \u001b[38;5;28;01mas\u001b[39;00m \u001b[38;5;21;01mplt\u001b[39;00m\n\u001b[1;32m      3\u001b[0m \u001b[38;5;28;01mfrom\u001b[39;00m \u001b[38;5;21;01mscipy\u001b[39;00m\u001b[38;5;21;01m.\u001b[39;00m\u001b[38;5;21;01msignal\u001b[39;00m \u001b[38;5;28;01mimport\u001b[39;00m find_peaks\n\u001b[0;32m----> 5\u001b[0m \u001b[38;5;28;01mfrom\u001b[39;00m \u001b[38;5;21;01mqudipy\u001b[39;00m\u001b[38;5;21;01m.\u001b[39;00m\u001b[38;5;21;01msystem\u001b[39;00m \u001b[38;5;28;01mimport\u001b[39;00m DotArray\n",
      "\u001b[0;31mModuleNotFoundError\u001b[0m: No module named 'qudipy'"
     ]
    }
   ],
   "source": [
    "import numpy as np\n",
    "import matplotlib.pyplot as plt\n",
    "from scipy.signal import find_peaks\n",
    "\n",
    "from qudipy.system import DotArray"
   ]
  },
  {
   "attachments": {},
   "cell_type": "markdown",
   "metadata": {},
   "source": [
    "## 1. Generate Dots object instance\n",
    "\n",
    "Refer to [2QD DotArray Usage Tutorial](./Dot%20Array%20Class%20Usage%202%20Dots.ipynb) for more about creating dots objects."
   ]
  },
  {
   "cell_type": "code",
   "execution_count": 3,
   "metadata": {
    "execution": {
     "iopub.execute_input": "2024-06-17T02:48:15.607807Z",
     "iopub.status.busy": "2024-06-17T02:48:15.607631Z",
     "iopub.status.idle": "2024-06-17T02:48:15.610273Z",
     "shell.execute_reply": "2024-06-17T02:48:15.609953Z"
    }
   },
   "outputs": [],
   "source": [
    "nav_dir = os.path.join('QuDiPy data', 'resources')\n",
    "processed_dir = os.path.join(base_dir, nav_dir,\n",
    "                            'processed','1QD_processed')\n",
    "nextnano_dir = os.path.join(base_dir, nav_dir,\n",
    "                                    'nextnano','1QD') \n",
    "                \n",
    "n_dots = 1      # anticipated number of dots"
   ]
  },
  {
   "cell_type": "markdown",
   "metadata": {},
   "source": [
    "Define a voltage control sweep for a single plunger electrode."
   ]
  },
  {
   "cell_type": "code",
   "execution_count": 4,
   "metadata": {
    "execution": {
     "iopub.execute_input": "2024-06-17T02:48:15.611557Z",
     "iopub.status.busy": "2024-06-17T02:48:15.611380Z",
     "iopub.status.idle": "2024-06-17T02:48:15.627429Z",
     "shell.execute_reply": "2024-06-17T02:48:15.627058Z"
    }
   },
   "outputs": [],
   "source": [
    "pts = [7]\n",
    "ctrl_vals = [np.linspace(0.1, 0.7, pts[0])]\n",
    "\n",
    "# provide a file prefix for labeled interpolation objects\n",
    "file_prefix = '1QD_data'"
   ]
  },
  {
   "attachments": {},
   "cell_type": "markdown",
   "metadata": {},
   "source": [
    "### 1.2 Create object instance \n",
    "\n",
    "Here we are loading only the 2D electrostatic potentials to use potential interpolation\n",
    "objects. These will be used to give an example for counting the number of dots is\n",
    "performed. "
   ]
  },
  {
   "cell_type": "code",
   "execution_count": 5,
   "metadata": {
    "execution": {
     "iopub.execute_input": "2024-06-17T02:48:15.629696Z",
     "iopub.status.busy": "2024-06-17T02:48:15.629407Z",
     "iopub.status.idle": "2024-06-17T02:48:15.651648Z",
     "shell.execute_reply": "2024-06-17T02:48:15.651339Z"
    }
   },
   "outputs": [
    {
     "ename": "NameError",
     "evalue": "name 'DotArray' is not defined",
     "output_type": "error",
     "traceback": [
      "\u001b[0;31m---------------------------------------------------------------------------\u001b[0m",
      "\u001b[0;31mNameError\u001b[0m                                 Traceback (most recent call last)",
      "Cell \u001b[0;32mIn[5], line 1\u001b[0m\n\u001b[0;32m----> 1\u001b[0m dots \u001b[38;5;241m=\u001b[39m \u001b[43mDotArray\u001b[49m(n_dots, ctrl_ranges\u001b[38;5;241m=\u001b[39mctrl_vals, save\u001b[38;5;241m=\u001b[39m\u001b[38;5;28;01mTrue\u001b[39;00m, calc\u001b[38;5;241m=\u001b[39m[\u001b[38;5;124m'\u001b[39m\u001b[38;5;124mspin\u001b[39m\u001b[38;5;124m'\u001b[39m])\n\u001b[1;32m      2\u001b[0m dots\u001b[38;5;241m.\u001b[39mnumeric(processed_dir, nextnano_dir, file_prefix)\n",
      "\u001b[0;31mNameError\u001b[0m: name 'DotArray' is not defined"
     ]
    }
   ],
   "source": [
    "dots = DotArray(n_dots, ctrl_ranges=ctrl_vals, save=True, calc=['spin'])\n",
    "dots.numeric(processed_dir, nextnano_dir, file_prefix)"
   ]
  },
  {
   "cell_type": "markdown",
   "metadata": {},
   "source": [
    "If desired rename the control variable names."
   ]
  },
  {
   "cell_type": "code",
   "execution_count": 6,
   "metadata": {
    "execution": {
     "iopub.execute_input": "2024-06-17T02:48:15.653158Z",
     "iopub.status.busy": "2024-06-17T02:48:15.652927Z",
     "iopub.status.idle": "2024-06-17T02:48:15.674242Z",
     "shell.execute_reply": "2024-06-17T02:48:15.673790Z"
    }
   },
   "outputs": [
    {
     "ename": "NameError",
     "evalue": "name 'dots' is not defined",
     "output_type": "error",
     "traceback": [
      "\u001b[0;31m---------------------------------------------------------------------------\u001b[0m",
      "\u001b[0;31mNameError\u001b[0m                                 Traceback (most recent call last)",
      "Cell \u001b[0;32mIn[6], line 1\u001b[0m\n\u001b[0;32m----> 1\u001b[0m \u001b[43mdots\u001b[49m\u001b[38;5;241m.\u001b[39mctrl_names \u001b[38;5;241m=\u001b[39m [\u001b[38;5;124m'\u001b[39m\u001b[38;5;124m$V_1$\u001b[39m\u001b[38;5;124m'\u001b[39m]\n",
      "\u001b[0;31mNameError\u001b[0m: name 'dots' is not defined"
     ]
    }
   ],
   "source": [
    "dots.ctrl_names = ['$V_1$']"
   ]
  },
  {
   "cell_type": "markdown",
   "metadata": {},
   "source": [
    "We can reference the potential interpolators as follows."
   ]
  },
  {
   "cell_type": "code",
   "execution_count": 7,
   "metadata": {
    "execution": {
     "iopub.execute_input": "2024-06-17T02:48:15.675834Z",
     "iopub.status.busy": "2024-06-17T02:48:15.675618Z",
     "iopub.status.idle": "2024-06-17T02:48:15.697361Z",
     "shell.execute_reply": "2024-06-17T02:48:15.696926Z"
    }
   },
   "outputs": [
    {
     "ename": "NameError",
     "evalue": "name 'dots' is not defined",
     "output_type": "error",
     "traceback": [
      "\u001b[0;31m---------------------------------------------------------------------------\u001b[0m",
      "\u001b[0;31mNameError\u001b[0m                                 Traceback (most recent call last)",
      "Cell \u001b[0;32mIn[7], line 2\u001b[0m\n\u001b[1;32m      1\u001b[0m ctrl_vector \u001b[38;5;241m=\u001b[39m [\u001b[38;5;241m0.3\u001b[39m]\n\u001b[0;32m----> 2\u001b[0m \u001b[43mdots\u001b[49m\u001b[38;5;241m.\u001b[39mpotential\u001b[38;5;241m.\u001b[39mplot(ctrl_vector, pot_unit\u001b[38;5;241m=\u001b[39m\u001b[38;5;124m'\u001b[39m\u001b[38;5;124mmeV\u001b[39m\u001b[38;5;124m'\u001b[39m, rel_amp\u001b[38;5;241m=\u001b[39m\u001b[38;5;28;01mTrue\u001b[39;00m, plot_type\u001b[38;5;241m=\u001b[39m\u001b[38;5;124m'\u001b[39m\u001b[38;5;124m1D\u001b[39m\u001b[38;5;124m'\u001b[39m, y_slice\u001b[38;5;241m=\u001b[39m\u001b[38;5;241m0\u001b[39m, show_wf\u001b[38;5;241m=\u001b[39m\u001b[38;5;28;01mTrue\u001b[39;00m)\n",
      "\u001b[0;31mNameError\u001b[0m: name 'dots' is not defined"
     ]
    }
   ],
   "source": [
    "ctrl_vector = [0.3]\n",
    "dots.potential.plot(ctrl_vector, pot_unit='meV', rel_amp=True, plot_type='1D', y_slice=0, show_wf=True)"
   ]
  },
  {
   "cell_type": "code",
   "execution_count": 8,
   "metadata": {
    "execution": {
     "iopub.execute_input": "2024-06-17T02:48:15.699533Z",
     "iopub.status.busy": "2024-06-17T02:48:15.699346Z",
     "iopub.status.idle": "2024-06-17T02:48:15.720723Z",
     "shell.execute_reply": "2024-06-17T02:48:15.720425Z"
    }
   },
   "outputs": [
    {
     "ename": "NameError",
     "evalue": "name 'dots' is not defined",
     "output_type": "error",
     "traceback": [
      "\u001b[0;31m---------------------------------------------------------------------------\u001b[0m",
      "\u001b[0;31mNameError\u001b[0m                                 Traceback (most recent call last)",
      "Cell \u001b[0;32mIn[8], line 1\u001b[0m\n\u001b[0;32m----> 1\u001b[0m \u001b[43mdots\u001b[49m\u001b[38;5;241m.\u001b[39mpotential\u001b[38;5;241m.\u001b[39mplot(ctrl_vector, pot_unit\u001b[38;5;241m=\u001b[39m\u001b[38;5;124m'\u001b[39m\u001b[38;5;124mmeV\u001b[39m\u001b[38;5;124m'\u001b[39m, rel_amp\u001b[38;5;241m=\u001b[39m\u001b[38;5;28;01mTrue\u001b[39;00m, show_wf\u001b[38;5;241m=\u001b[39m\u001b[38;5;28;01mTrue\u001b[39;00m)\n",
      "\u001b[0;31mNameError\u001b[0m: name 'dots' is not defined"
     ]
    }
   ],
   "source": [
    "dots.potential.plot(ctrl_vector, pot_unit='meV', rel_amp=True, show_wf=True)"
   ]
  },
  {
   "cell_type": "markdown",
   "metadata": {},
   "source": [
    "### 1.3 Evaluate effective parameters\n",
    "\n",
    "For a specific control voltage configuration, several effective parameters can be evaluated. In the\n",
    " following example the $g$-factor deviation is determined for a single dot.\n",
    "\n",
    "The $g$-factor deviation can be evaluated either directly (`exact=True` keyword), or using a pre-calculated interpolator \n",
    "(`exact=False` keyword). The results are compared below."
   ]
  },
  {
   "cell_type": "code",
   "execution_count": 9,
   "metadata": {
    "execution": {
     "iopub.execute_input": "2024-06-17T02:48:15.722725Z",
     "iopub.status.busy": "2024-06-17T02:48:15.722583Z",
     "iopub.status.idle": "2024-06-17T02:48:15.743916Z",
     "shell.execute_reply": "2024-06-17T02:48:15.743565Z"
    }
   },
   "outputs": [
    {
     "ename": "NameError",
     "evalue": "name 'dots' is not defined",
     "output_type": "error",
     "traceback": [
      "\u001b[0;31m---------------------------------------------------------------------------\u001b[0m",
      "\u001b[0;31mNameError\u001b[0m                                 Traceback (most recent call last)",
      "Cell \u001b[0;32mIn[9], line 4\u001b[0m\n\u001b[1;32m      1\u001b[0m \u001b[38;5;66;03m# higher voltage on the 2nd dot gives higher g-factor deviation\u001b[39;00m\n\u001b[1;32m      2\u001b[0m voltage_config \u001b[38;5;241m=\u001b[39m [\u001b[38;5;241m0.2\u001b[39m]\n\u001b[0;32m----> 4\u001b[0m \u001b[38;5;28mprint\u001b[39m(\u001b[38;5;124m'\u001b[39m\u001b[38;5;124mExact values:\u001b[39m\u001b[38;5;130;01m\\t\u001b[39;00m\u001b[38;5;124m'\u001b[39m,    \u001b[43mdots\u001b[49m\u001b[38;5;241m.\u001b[39mg_factors(voltage_config, exact\u001b[38;5;241m=\u001b[39m\u001b[38;5;28;01mTrue\u001b[39;00m))\n\u001b[1;32m      5\u001b[0m \u001b[38;5;28mprint\u001b[39m(\u001b[38;5;124m'\u001b[39m\u001b[38;5;124mInterpolated:\u001b[39m\u001b[38;5;130;01m\\t\u001b[39;00m\u001b[38;5;124m'\u001b[39m,    dots\u001b[38;5;241m.\u001b[39mg_factors(voltage_config, exact\u001b[38;5;241m=\u001b[39m\u001b[38;5;28;01mFalse\u001b[39;00m))\n",
      "\u001b[0;31mNameError\u001b[0m: name 'dots' is not defined"
     ]
    }
   ],
   "source": [
    "# higher voltage on the 2nd dot gives higher g-factor deviation\n",
    "voltage_config = [0.2]\n",
    "\n",
    "print('Exact values:\\t',    dots.g_factors(voltage_config, exact=True))\n",
    "print('Interpolated:\\t',    dots.g_factors(voltage_config, exact=False))"
   ]
  },
  {
   "cell_type": "markdown",
   "metadata": {},
   "source": [
    "g-factor deviation for multiple voltage values."
   ]
  },
  {
   "cell_type": "code",
   "execution_count": 10,
   "metadata": {
    "execution": {
     "iopub.execute_input": "2024-06-17T02:48:15.745590Z",
     "iopub.status.busy": "2024-06-17T02:48:15.745444Z",
     "iopub.status.idle": "2024-06-17T02:48:15.768589Z",
     "shell.execute_reply": "2024-06-17T02:48:15.768225Z"
    }
   },
   "outputs": [
    {
     "ename": "NameError",
     "evalue": "name 'dots' is not defined",
     "output_type": "error",
     "traceback": [
      "\u001b[0;31m---------------------------------------------------------------------------\u001b[0m",
      "\u001b[0;31mNameError\u001b[0m                                 Traceback (most recent call last)",
      "Cell \u001b[0;32mIn[10], line 4\u001b[0m\n\u001b[1;32m      1\u001b[0m v1_vals \u001b[38;5;241m=\u001b[39m np\u001b[38;5;241m.\u001b[39mlinspace(\u001b[38;5;241m0.2\u001b[39m, \u001b[38;5;241m0.7\u001b[39m, \u001b[38;5;241m30\u001b[39m)\n\u001b[1;32m      2\u001b[0m v1_sweep \u001b[38;5;241m=\u001b[39m[[v] \u001b[38;5;28;01mfor\u001b[39;00m v \u001b[38;5;129;01min\u001b[39;00m v1_vals]\n\u001b[0;32m----> 4\u001b[0m \u001b[43mdots\u001b[49m\u001b[38;5;241m.\u001b[39mplot(v1_sweep, param\u001b[38;5;241m=\u001b[39m\u001b[38;5;124m'\u001b[39m\u001b[38;5;124mgfactor\u001b[39m\u001b[38;5;124m'\u001b[39m, exact\u001b[38;5;241m=\u001b[39m\u001b[38;5;28;01mTrue\u001b[39;00m)\n\u001b[1;32m      5\u001b[0m dots\u001b[38;5;241m.\u001b[39mplot(v1_sweep, param\u001b[38;5;241m=\u001b[39m\u001b[38;5;124m'\u001b[39m\u001b[38;5;124mgfactor\u001b[39m\u001b[38;5;124m'\u001b[39m, exact\u001b[38;5;241m=\u001b[39m\u001b[38;5;28;01mFalse\u001b[39;00m)\n",
      "\u001b[0;31mNameError\u001b[0m: name 'dots' is not defined"
     ]
    }
   ],
   "source": [
    "v1_vals = np.linspace(0.2, 0.7, 30)\n",
    "v1_sweep =[[v] for v in v1_vals]\n",
    "    \n",
    "dots.plot(v1_sweep, param='gfactor', exact=True)\n",
    "dots.plot(v1_sweep, param='gfactor', exact=False)"
   ]
  }
 ],
 "metadata": {
  "kernelspec": {
   "display_name": "qudipy",
   "language": "python",
   "name": "qudipy"
  },
  "language_info": {
   "codemirror_mode": {
    "name": "ipython",
    "version": 3
   },
   "file_extension": ".py",
   "mimetype": "text/x-python",
   "name": "python",
   "nbconvert_exporter": "python",
   "pygments_lexer": "ipython3",
   "version": "3.10.9"
  }
 },
 "nbformat": 4,
 "nbformat_minor": 2
}
