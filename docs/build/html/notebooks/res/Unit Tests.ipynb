{
 "cells": [
  {
   "cell_type": "markdown",
   "metadata": {},
   "source": [
    "# Unit test tutorial: Introduction\n",
    "\n",
    "This tutorial will introduce you to what unit test are, when/why are they needed, and discuss some common best practices."
   ]
  },
  {
   "cell_type": "markdown",
   "metadata": {},
   "source": [
    "## 1. What are unit test?\n",
    "\n",
    "To quote from: https://docs.pytest.org/en/6.2.x/fixture.html#what-fixtures-are\n",
    "\n",
    "You can think of a test as being broken down into four steps:\n",
    "\n",
    "    1) Arrange\n",
    "\n",
    "    2) Act\n",
    "\n",
    "    3) Assert\n",
    "\n",
    "    4) Cleanup\n",
    "\n",
    "**Arrange** is where we prepare everything for our test. This means pretty much everything except for the “act”. It’s lining up the dominoes so that the act can do its thing in one, state-changing step. This can mean preparing objects, starting/killing services, entering records into a database, or even things like defining a URL to query, generating some credentials for a user that doesn’t exist yet, or just waiting for some process to finish.\n",
    "\n",
    "**Act** is the singular, state-changing action that kicks off the behavior we want to test. This behavior is what carries out the changing of the state of the system under test (SUT), and it’s the resulting changed state that we can look at to make a judgement about the behavior. This typically takes the form of a function/method call.\n",
    "\n",
    "**Assert** is where we look at that resulting state and check if it looks how we’d expect after the dust has settled. It’s where we gather evidence to say the behavior does or does not align with what we expect. The assert in our test is where we take that measurement/observation and apply our judgement to it. If something should be green, we’d say assert thing == \"green\".\n",
    "\n",
    "**Cleanup** is where the test picks up after itself, so other tests aren’t being accidentally influenced by it.\n",
    "\n",
    "At it’s core, the test is ultimately the act and assert steps, with the arrange step only providing the context. Behavior exists between act and assert."
   ]
  },
  {
   "cell_type": "markdown",
   "metadata": {},
   "source": [
    "## 2. Fixtures\n",
    "\n",
    "Fixtures are a fundamental feature used to perform unit tests and should the pytest documentation should be reviewed here https://docs.pytest.org/en/6.2.x/contents.html#toc for specific unit tests.\n",
    "\n",
    "A non-exhaustive overview list of fixture features:\n",
    "- Fixtures are used largely for arrange and act steps\n",
    "- Fixures can be requested by test functions\n",
    "- Test functions can be paramiterized by requesting multiple fixtures at a time\n",
    "- Fixtures can be shared among many tests functions simutaneously\n",
    "- Fixtures can request other fixtures, but the set of fixtures for the pytest must form a Directed Acyclic Graph (DAG)\n",
    "- Fixtures can be automatically accessible to all test functions\n",
    "- Fixtures are created when first requested by a test, and are destroyed based on their scope\n",
    "\n",
    "        - function: the default scope, the fixture is destroyed at the end of the test.\n",
    "\n",
    "        - class: the fixture is destroyed during teardown of the last test in the class.\n",
    "\n",
    "        - module: the fixture is destroyed during teardown of the last test in the module.\n",
    "\n",
    "        - package: the fixture is destroyed during teardown of the last test in the package.\n",
    "\n",
    "        - session: the fixture is destroyed at the end of the test session.\n",
    "\n",
    "- The scope of a fixture can be dynamically changed.\n",
    "- Code can be added to clean up or teardown fixtures once the fixture is no longer needed\n",
    "        - \"The safest and simplest fixture structure requires limiting fixtures to only making one state-changing action each, and then bundling them together with their teardown code\"\n"
   ]
  },
  {
   "cell_type": "code",
   "execution_count": 4,
   "metadata": {},
   "outputs": [],
   "source": [
    "%%script false --no-raise-error\n",
    "\n",
    "# Implement fixtures by adding the following above a function call\n",
    "\n",
    "@pytest.fixture\n",
    "def <fuction name>(<function argument 1>,<function argument 2>, etc,...):\n",
    "    # Some code to run\n",
    "    return\n",
    "\n",
    "# Passing autouse=True to the fixture's decorator.\n",
    "@pytest.fixture(autouse=True)\n",
    "\n",
    "# Use yield to clean up/teardown fixtures after tests are finished\n",
    "@pytest.fixture\n",
    "def <fuction name>(<function argument 1>,<function argument 2>, etc,...):\n",
    "    # Some code which arranges or acts\n",
    "    yield\n",
    "    # some code to clean up/teardown the arrange/act of the fixture once the test is \n",
    "    # completed"
   ]
  },
  {
   "cell_type": "markdown",
   "metadata": {},
   "source": [
    "## 3. Marks\n",
    "\n",
    "Marks are used apply meta data to test functions (but not fixtures), which can then be accessed by fixtures or plugins. There are built in markers, yet custom markers can be created in a configuration file called pytest.ini using the following structure,"
   ]
  },
  {
   "cell_type": "code",
   "execution_count": 5,
   "metadata": {},
   "outputs": [],
   "source": [
    "%%script false --no-raise-error\n",
    "\n",
    "# Must reside in root of directory of in folder where test are executed from.\n",
    "[pytest]\n",
    "markers =\n",
    "    <marker name 1>: optional marker description,\n",
    "    <marker name 2>,\n",
    "    <marker name 3>"
   ]
  },
  {
   "cell_type": "markdown",
   "metadata": {},
   "source": [
    "## 4. What is the conftest.py file?\n",
    "\n",
    "conftest.py configurations files can exist in the root directory and/or in subdirectories which can contain fixtures to be used across multiple tests in the root directory and/or subdirectories."
   ]
  },
  {
   "cell_type": "markdown",
   "metadata": {},
   "source": [
    "## 5. Some things to keep in mind\n",
    "\n",
    "Tests are guardrails to help developers add value over time, not straight-jackets to contain them.\n",
    "\n",
    "Time invested in writing tests is also time not invested on something else; like feature code, every line of test code you write needs to be maintained by another engineer. I always ask myself these questions before writing a test:\n",
    "\n",
    "- Am I testing the code as frozen in time, or testing the functionality that lets underlying code evolve?\n",
    "- Am I testing my functionality, or the language constructs themselves?\n",
    "- Is the cost of writing and maintaining this test more than the cost of the functionality breaking?\n",
    "\n",
    "Most times, you’ll still go ahead and write that test because testing is the right decision in most cases. In some cases though, you might just decide that writing a test – even with all the best-practices you’ve learned – is not the right decision."
   ]
  },
  {
   "cell_type": "markdown",
   "metadata": {},
   "source": [
    "## 6. Executing tests\n",
    "\n",
    "Make sure all python files containing tests ends with **_test.py** <br>\n",
    "\n",
    "Some usefull commands to use at the command promt to execute tests:"
   ]
  },
  {
   "cell_type": "code",
   "execution_count": 6,
   "metadata": {},
   "outputs": [],
   "source": [
    "%%script false --no-raise-error\n",
    "\n",
    "# Run test in specific test files\n",
    "python -m pytest filename_test.py\n",
    "\n",
    "# Run test in specific test files with verbose output\n",
    "python -m pytest filename_test.py -v\n",
    "\n",
    "# Run all test in all test files in the subdirectory\n",
    "python -m pytest subdirectory/\n",
    "    \n",
    "# Run all tests in specific test file in the subdirectory\n",
    "python -m pytest subdirectory/filename_test.py"
   ]
  }
 ],
 "metadata": {
  "kernelspec": {
   "display_name": "qudipy",
   "language": "python",
   "name": "qudipy"
  },
  "language_info": {
   "codemirror_mode": {
    "name": "ipython",
    "version": 3
   },
   "file_extension": ".py",
   "mimetype": "text/x-python",
   "name": "python",
   "nbconvert_exporter": "python",
   "pygments_lexer": "ipython3",
   "version": "3.10.9"
  },
  "vscode": {
   "interpreter": {
    "hash": "916dbcbb3f70747c44a77c7bcd40155683ae19c65e1c03b4aa3499c5328201f1"
   }
  }
 },
 "nbformat": 4,
 "nbformat_minor": 2
}
