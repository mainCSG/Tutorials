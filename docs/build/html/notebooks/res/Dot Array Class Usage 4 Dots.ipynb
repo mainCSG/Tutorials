{
 "cells": [
  {
   "attachments": {},
   "cell_type": "markdown",
   "metadata": {},
   "source": [
    "# DotArray Object for a Quadruple Quantum Dot Array"
   ]
  },
  {
   "cell_type": "markdown",
   "metadata": {},
   "source": [
    "This tutorial tests the dot maksing and effective parameter calculation on a 4-qubit system. \n",
    "\n",
    "See 2-qubit tutorial for more detailed explanations. "
   ]
  },
  {
   "attachments": {},
   "cell_type": "markdown",
   "metadata": {},
   "source": [
    "Necessary imports and default plotting parameters:"
   ]
  },
  {
   "cell_type": "code",
   "execution_count": 1,
   "metadata": {
    "execution": {
     "iopub.execute_input": "2024-04-04T20:27:04.513382Z",
     "iopub.status.busy": "2024-04-04T20:27:04.513382Z",
     "iopub.status.idle": "2024-04-04T20:27:04.528899Z",
     "shell.execute_reply": "2024-04-04T20:27:04.528169Z"
    }
   },
   "outputs": [
    {
     "name": "stdout",
     "output_type": "stream",
     "text": [
      "C:\\mainCSG.github.io\\docs\\source\n"
     ]
    }
   ],
   "source": [
    "import os\n",
    "from pathlib import Path\n",
    "path = Path(os.getcwd())\n",
    "\n",
    "# update base working directory to QuDiPy\n",
    "if path.stem != 'QuDiPy':\n",
    "    print(path.parents[1])\n",
    "\n",
    "    base_dir = path.parents[1]\n",
    "    os.chdir(base_dir)\n",
    "else:\n",
    "    base_dir = path"
   ]
  },
  {
   "cell_type": "code",
   "execution_count": 2,
   "metadata": {
    "execution": {
     "iopub.execute_input": "2024-04-04T20:27:04.561557Z",
     "iopub.status.busy": "2024-04-04T20:27:04.561557Z",
     "iopub.status.idle": "2024-04-04T20:27:05.236645Z",
     "shell.execute_reply": "2024-04-04T20:27:05.236645Z"
    }
   },
   "outputs": [
    {
     "ename": "ModuleNotFoundError",
     "evalue": "No module named 'qudipy'",
     "output_type": "error",
     "traceback": [
      "\u001b[1;31m---------------------------------------------------------------------------\u001b[0m",
      "\u001b[1;31mModuleNotFoundError\u001b[0m                       Traceback (most recent call last)",
      "Cell \u001b[1;32mIn[2], line 2\u001b[0m\n\u001b[0;32m      1\u001b[0m \u001b[38;5;28;01mimport\u001b[39;00m \u001b[38;5;21;01mnumpy\u001b[39;00m \u001b[38;5;28;01mas\u001b[39;00m \u001b[38;5;21;01mnp\u001b[39;00m\n\u001b[1;32m----> 2\u001b[0m \u001b[38;5;28;01mfrom\u001b[39;00m \u001b[38;5;21;01mqudipy\u001b[39;00m\u001b[38;5;21;01m.\u001b[39;00m\u001b[38;5;21;01msystem\u001b[39;00m \u001b[38;5;28;01mimport\u001b[39;00m DotArray\n",
      "\u001b[1;31mModuleNotFoundError\u001b[0m: No module named 'qudipy'"
     ]
    }
   ],
   "source": [
    "import numpy as np\n",
    "from qudipy.system import DotArray"
   ]
  },
  {
   "attachments": {},
   "cell_type": "markdown",
   "metadata": {},
   "source": [
    "## 1. Generate Dots object instance\n",
    "\n",
    "Define variables to initialize Dots object instance"
   ]
  },
  {
   "cell_type": "code",
   "execution_count": 3,
   "metadata": {
    "execution": {
     "iopub.execute_input": "2024-04-04T20:27:05.239651Z",
     "iopub.status.busy": "2024-04-04T20:27:05.239651Z",
     "iopub.status.idle": "2024-04-04T20:27:05.244769Z",
     "shell.execute_reply": "2024-04-04T20:27:05.244172Z"
    }
   },
   "outputs": [],
   "source": [
    "nav_dir = os.path.join('QuDiPy data', 'tutorials')\n",
    "processed_dir = os.path.join(base_dir, nav_dir,\n",
    "                            'processed','4QD_processed')\n",
    "nextnano_dir = os.path.join(base_dir, nav_dir,\n",
    "                                    'nextnano','4QD')\n",
    "file_prefix = 'tutorial'\n",
    "n_dots = 4      # anticipated number of dots"
   ]
  },
  {
   "attachments": {},
   "cell_type": "markdown",
   "metadata": {},
   "source": [
    "Define control parameters to use when interpolating the potential data from nextnano: must be a subset of the raw data. "
   ]
  },
  {
   "cell_type": "code",
   "execution_count": 4,
   "metadata": {
    "execution": {
     "iopub.execute_input": "2024-04-04T20:27:05.247044Z",
     "iopub.status.busy": "2024-04-04T20:27:05.247044Z",
     "iopub.status.idle": "2024-04-04T20:27:05.252291Z",
     "shell.execute_reply": "2024-04-04T20:27:05.252291Z"
    }
   },
   "outputs": [],
   "source": [
    "pts = [3,3,3,3,3,3,3]\n",
    "# old effective parameters calculated on hfss\n",
    "ctrl_vals = [ \n",
    "    np.linspace(0.2, 0.35, pts[0]),\n",
    "    np.linspace(0.0, 0.15, pts[1]),\n",
    "    np.linspace(0.2, 0.35, pts[2]),\n",
    "    np.linspace(0.0, 0.15, pts[3]),\n",
    "    np.linspace(0.2, 0.35, pts[4]),\n",
    "    np.linspace(0.0, 0.15, pts[5]),\n",
    "    np.linspace(0.2, 0.35, pts[6])]"
   ]
  },
  {
   "attachments": {},
   "cell_type": "markdown",
   "metadata": {},
   "source": [
    "Create DotArray object instance"
   ]
  },
  {
   "cell_type": "code",
   "execution_count": 5,
   "metadata": {
    "execution": {
     "iopub.execute_input": "2024-04-04T20:27:05.256071Z",
     "iopub.status.busy": "2024-04-04T20:27:05.254903Z",
     "iopub.status.idle": "2024-04-04T20:27:05.270578Z",
     "shell.execute_reply": "2024-04-04T20:27:05.270578Z"
    }
   },
   "outputs": [
    {
     "ename": "NameError",
     "evalue": "name 'DotArray' is not defined",
     "output_type": "error",
     "traceback": [
      "\u001b[1;31m---------------------------------------------------------------------------\u001b[0m",
      "\u001b[1;31mNameError\u001b[0m                                 Traceback (most recent call last)",
      "Cell \u001b[1;32mIn[5], line 3\u001b[0m\n\u001b[0;32m      1\u001b[0m \u001b[38;5;66;03m#Process/Load/Calculate with subset of raw nextnano data and desire file prefix\u001b[39;00m\n\u001b[0;32m      2\u001b[0m \u001b[38;5;66;03m# to add to saved interpolator files.\u001b[39;00m\n\u001b[1;32m----> 3\u001b[0m dots \u001b[38;5;241m=\u001b[39m DotArray(n_dots, ctrl_ranges\u001b[38;5;241m=\u001b[39mctrl_vals)\n\u001b[0;32m      4\u001b[0m dots\u001b[38;5;241m.\u001b[39mnumeric(processed_dir, nextnano_dir, file_prefix)\n",
      "\u001b[1;31mNameError\u001b[0m: name 'DotArray' is not defined"
     ]
    }
   ],
   "source": [
    "#Process/Load/Calculate with subset of raw nextnano data and desire file prefix\n",
    "# to add to saved interpolator files.\n",
    "dots = DotArray(n_dots, ctrl_ranges=ctrl_vals)\n",
    "dots.numeric(processed_dir, nextnano_dir, file_prefix)"
   ]
  },
  {
   "cell_type": "markdown",
   "metadata": {},
   "source": [
    "### 1.1 Dot Masking\n",
    "\n",
    "Checking how individual dots and dot pairs are masked"
   ]
  },
  {
   "cell_type": "code",
   "execution_count": 6,
   "metadata": {
    "execution": {
     "iopub.execute_input": "2024-04-04T20:27:05.274784Z",
     "iopub.status.busy": "2024-04-04T20:27:05.274784Z",
     "iopub.status.idle": "2024-04-04T20:27:05.278261Z",
     "shell.execute_reply": "2024-04-04T20:27:05.277801Z"
    }
   },
   "outputs": [],
   "source": [
    "# Choose voltage control values\n",
    "voltage_config = [0.3, 0.0, 0.2, 0.05, 0.24, 0.05, 0.27]"
   ]
  },
  {
   "cell_type": "code",
   "execution_count": 7,
   "metadata": {
    "execution": {
     "iopub.execute_input": "2024-04-04T20:27:05.280282Z",
     "iopub.status.busy": "2024-04-04T20:27:05.280282Z",
     "iopub.status.idle": "2024-04-04T20:27:05.294957Z",
     "shell.execute_reply": "2024-04-04T20:27:05.294447Z"
    }
   },
   "outputs": [
    {
     "ename": "NameError",
     "evalue": "name 'dots' is not defined",
     "output_type": "error",
     "traceback": [
      "\u001b[1;31m---------------------------------------------------------------------------\u001b[0m",
      "\u001b[1;31mNameError\u001b[0m                                 Traceback (most recent call last)",
      "Cell \u001b[1;32mIn[7], line 1\u001b[0m\n\u001b[1;32m----> 1\u001b[0m dots\u001b[38;5;241m.\u001b[39mpotential\u001b[38;5;241m.\u001b[39mplot(voltage_config, plot_units\u001b[38;5;241m=\u001b[39m\u001b[38;5;124m'\u001b[39m\u001b[38;5;124mmeV\u001b[39m\u001b[38;5;124m'\u001b[39m)\n",
      "\u001b[1;31mNameError\u001b[0m: name 'dots' is not defined"
     ]
    }
   ],
   "source": [
    "dots.potential.plot(voltage_config, plot_units='meV')"
   ]
  },
  {
   "cell_type": "code",
   "execution_count": 8,
   "metadata": {
    "execution": {
     "iopub.execute_input": "2024-04-04T20:27:05.296427Z",
     "iopub.status.busy": "2024-04-04T20:27:05.296427Z",
     "iopub.status.idle": "2024-04-04T20:27:05.300441Z",
     "shell.execute_reply": "2024-04-04T20:27:05.299682Z"
    }
   },
   "outputs": [],
   "source": [
    "# dot1, dot2, dot3, dot4 = dots.split(group='single')"
   ]
  },
  {
   "cell_type": "code",
   "execution_count": 9,
   "metadata": {
    "execution": {
     "iopub.execute_input": "2024-04-04T20:27:05.303038Z",
     "iopub.status.busy": "2024-04-04T20:27:05.302447Z",
     "iopub.status.idle": "2024-04-04T20:27:05.306825Z",
     "shell.execute_reply": "2024-04-04T20:27:05.306132Z"
    }
   },
   "outputs": [],
   "source": [
    "# dot1.potential.plot(voltage_config, plot_units=['eV', 'm'])\n",
    "# dot2.potential.plot(voltage_config, plot_units=['eV', 'm'])\n",
    "# dot3.potential.plot(voltage_config, plot_units=['eV', 'm'])\n",
    "# dot4.potential.plot(voltage_config, plot_units=['eV', 'm'])"
   ]
  },
  {
   "cell_type": "code",
   "execution_count": 10,
   "metadata": {
    "execution": {
     "iopub.execute_input": "2024-04-04T20:27:05.308534Z",
     "iopub.status.busy": "2024-04-04T20:27:05.308534Z",
     "iopub.status.idle": "2024-04-04T20:27:05.321046Z",
     "shell.execute_reply": "2024-04-04T20:27:05.321046Z"
    }
   },
   "outputs": [
    {
     "ename": "NameError",
     "evalue": "name 'dots' is not defined",
     "output_type": "error",
     "traceback": [
      "\u001b[1;31m---------------------------------------------------------------------------\u001b[0m",
      "\u001b[1;31mNameError\u001b[0m                                 Traceback (most recent call last)",
      "Cell \u001b[1;32mIn[10], line 5\u001b[0m\n\u001b[0;32m      2\u001b[0m voltage_config \u001b[38;5;241m=\u001b[39m [\u001b[38;5;241m0.253\u001b[39m, \u001b[38;5;241m0.02\u001b[39m, \u001b[38;5;241m0.27\u001b[39m, \u001b[38;5;241m0.015\u001b[39m, \u001b[38;5;241m0.27\u001b[39m, \u001b[38;5;241m0.015\u001b[39m, \u001b[38;5;241m0.27\u001b[39m]\n\u001b[0;32m      4\u001b[0m \u001b[38;5;66;03m# exchange calcualted with old dot splitting routine\u001b[39;00m\n\u001b[1;32m----> 5\u001b[0m dots\u001b[38;5;241m.\u001b[39mexchanges(voltage_config)\n",
      "\u001b[1;31mNameError\u001b[0m: name 'dots' is not defined"
     ]
    }
   ],
   "source": [
    "# voltage configuration for 4 QD array i.e. [V1, W1, ..., W3, V4]\n",
    "voltage_config = [0.253, 0.02, 0.27, 0.015, 0.27, 0.015, 0.27]\n",
    "\n",
    "# exchange calcualted with old dot splitting routine\n",
    "dots.exchanges(voltage_config)"
   ]
  },
  {
   "cell_type": "code",
   "execution_count": 11,
   "metadata": {
    "execution": {
     "iopub.execute_input": "2024-04-04T20:27:05.324055Z",
     "iopub.status.busy": "2024-04-04T20:27:05.324055Z",
     "iopub.status.idle": "2024-04-04T20:27:05.336488Z",
     "shell.execute_reply": "2024-04-04T20:27:05.336488Z"
    }
   },
   "outputs": [
    {
     "ename": "NameError",
     "evalue": "name 'dots' is not defined",
     "output_type": "error",
     "traceback": [
      "\u001b[1;31m---------------------------------------------------------------------------\u001b[0m",
      "\u001b[1;31mNameError\u001b[0m                                 Traceback (most recent call last)",
      "Cell \u001b[1;32mIn[11], line 2\u001b[0m\n\u001b[0;32m      1\u001b[0m \u001b[38;5;66;03m# newly calculated exchange\u001b[39;00m\n\u001b[1;32m----> 2\u001b[0m dots\u001b[38;5;241m.\u001b[39mexchanges(voltage_config, exact\u001b[38;5;241m=\u001b[39m\u001b[38;5;28;01mTrue\u001b[39;00m)\n",
      "\u001b[1;31mNameError\u001b[0m: name 'dots' is not defined"
     ]
    }
   ],
   "source": [
    "# newly calculated exchange\n",
    "dots.exchanges(voltage_config, exact=True)"
   ]
  },
  {
   "cell_type": "code",
   "execution_count": 12,
   "metadata": {
    "execution": {
     "iopub.execute_input": "2024-04-04T20:27:05.339290Z",
     "iopub.status.busy": "2024-04-04T20:27:05.339290Z",
     "iopub.status.idle": "2024-04-04T20:27:05.353062Z",
     "shell.execute_reply": "2024-04-04T20:27:05.352052Z"
    }
   },
   "outputs": [
    {
     "ename": "NameError",
     "evalue": "name 'dots' is not defined",
     "output_type": "error",
     "traceback": [
      "\u001b[1;31m---------------------------------------------------------------------------\u001b[0m",
      "\u001b[1;31mNameError\u001b[0m                                 Traceback (most recent call last)",
      "Cell \u001b[1;32mIn[12], line 2\u001b[0m\n\u001b[0;32m      1\u001b[0m \u001b[38;5;66;03m# # TODO: remove deep copy when splitting, eats up RAM\u001b[39;00m\n\u001b[1;32m----> 2\u001b[0m dotpair1, dotpair2, dotpair3 \u001b[38;5;241m=\u001b[39m dots\u001b[38;5;241m.\u001b[39msplit(group\u001b[38;5;241m=\u001b[39m\u001b[38;5;124m'\u001b[39m\u001b[38;5;124mpair\u001b[39m\u001b[38;5;124m'\u001b[39m)\n",
      "\u001b[1;31mNameError\u001b[0m: name 'dots' is not defined"
     ]
    }
   ],
   "source": [
    "# # TODO: remove deep copy when splitting, eats up RAM\n",
    "dotpair1, dotpair2, dotpair3 = dots.split(group='pair')"
   ]
  },
  {
   "cell_type": "code",
   "execution_count": 13,
   "metadata": {
    "execution": {
     "iopub.execute_input": "2024-04-04T20:27:05.355981Z",
     "iopub.status.busy": "2024-04-04T20:27:05.355705Z",
     "iopub.status.idle": "2024-04-04T20:27:05.370032Z",
     "shell.execute_reply": "2024-04-04T20:27:05.370032Z"
    }
   },
   "outputs": [
    {
     "ename": "NameError",
     "evalue": "name 'dotpair1' is not defined",
     "output_type": "error",
     "traceback": [
      "\u001b[1;31m---------------------------------------------------------------------------\u001b[0m",
      "\u001b[1;31mNameError\u001b[0m                                 Traceback (most recent call last)",
      "Cell \u001b[1;32mIn[13], line 2\u001b[0m\n\u001b[0;32m      1\u001b[0m voltage_config \u001b[38;5;241m=\u001b[39m [\u001b[38;5;241m0.217\u001b[39m, \u001b[38;5;241m0.15\u001b[39m, \u001b[38;5;241m0.2\u001b[39m, \u001b[38;5;241m0.0\u001b[39m, \u001b[38;5;241m0.2\u001b[39m, \u001b[38;5;241m0.0\u001b[39m, \u001b[38;5;241m0.3\u001b[39m]\n\u001b[1;32m----> 2\u001b[0m dotpair1\u001b[38;5;241m.\u001b[39mpotential\u001b[38;5;241m.\u001b[39mplot(voltage_config, plot_units\u001b[38;5;241m=\u001b[39m\u001b[38;5;124m'\u001b[39m\u001b[38;5;124mmeV\u001b[39m\u001b[38;5;124m'\u001b[39m, show_wf\u001b[38;5;241m=\u001b[39m\u001b[38;5;28;01mTrue\u001b[39;00m)\n",
      "\u001b[1;31mNameError\u001b[0m: name 'dotpair1' is not defined"
     ]
    }
   ],
   "source": [
    "voltage_config = [0.217, 0.15, 0.2, 0.0, 0.2, 0.0, 0.3]\n",
    "dotpair1.potential.plot(voltage_config, plot_units='meV', show_wf=True)"
   ]
  },
  {
   "cell_type": "code",
   "execution_count": 14,
   "metadata": {
    "execution": {
     "iopub.execute_input": "2024-04-04T20:27:05.372662Z",
     "iopub.status.busy": "2024-04-04T20:27:05.372662Z",
     "iopub.status.idle": "2024-04-04T20:27:05.386908Z",
     "shell.execute_reply": "2024-04-04T20:27:05.385886Z"
    }
   },
   "outputs": [
    {
     "ename": "NameError",
     "evalue": "name 'dotpair2' is not defined",
     "output_type": "error",
     "traceback": [
      "\u001b[1;31m---------------------------------------------------------------------------\u001b[0m",
      "\u001b[1;31mNameError\u001b[0m                                 Traceback (most recent call last)",
      "Cell \u001b[1;32mIn[14], line 1\u001b[0m\n\u001b[1;32m----> 1\u001b[0m dotpair2\u001b[38;5;241m.\u001b[39mpotential\u001b[38;5;241m.\u001b[39mplot(voltage_config, plot_units\u001b[38;5;241m=\u001b[39m\u001b[38;5;124m'\u001b[39m\u001b[38;5;124mmeV\u001b[39m\u001b[38;5;124m'\u001b[39m, show_wf\u001b[38;5;241m=\u001b[39m\u001b[38;5;28;01mTrue\u001b[39;00m)\n\u001b[0;32m      2\u001b[0m dotpair2\u001b[38;5;241m.\u001b[39mpotential\u001b[38;5;241m.\u001b[39mplot(voltage_config, plot_units\u001b[38;5;241m=\u001b[39m\u001b[38;5;124m'\u001b[39m\u001b[38;5;124mmeV\u001b[39m\u001b[38;5;124m'\u001b[39m, show_wf\u001b[38;5;241m=\u001b[39m\u001b[38;5;28;01mTrue\u001b[39;00m, x_slice\u001b[38;5;241m=\u001b[39m\u001b[38;5;241m-\u001b[39m\u001b[38;5;241m46e-9\u001b[39m, plot_type\u001b[38;5;241m=\u001b[39m\u001b[38;5;124m'\u001b[39m\u001b[38;5;124m1D\u001b[39m\u001b[38;5;124m'\u001b[39m)\n\u001b[0;32m      3\u001b[0m dotpair3\u001b[38;5;241m.\u001b[39mpotential\u001b[38;5;241m.\u001b[39mplot(voltage_config, plot_units\u001b[38;5;241m=\u001b[39m\u001b[38;5;124m'\u001b[39m\u001b[38;5;124mmeV\u001b[39m\u001b[38;5;124m'\u001b[39m, show_wf\u001b[38;5;241m=\u001b[39m\u001b[38;5;28;01mTrue\u001b[39;00m)\n",
      "\u001b[1;31mNameError\u001b[0m: name 'dotpair2' is not defined"
     ]
    }
   ],
   "source": [
    "\n",
    "dotpair2.potential.plot(voltage_config, plot_units='meV', show_wf=True)\n",
    "dotpair2.potential.plot(voltage_config, plot_units='meV', show_wf=True, x_slice=-46e-9, plot_type='1D')\n",
    "dotpair3.potential.plot(voltage_config, plot_units='meV', show_wf=True)"
   ]
  },
  {
   "cell_type": "code",
   "execution_count": 15,
   "metadata": {
    "execution": {
     "iopub.execute_input": "2024-04-04T20:27:05.389904Z",
     "iopub.status.busy": "2024-04-04T20:27:05.388892Z",
     "iopub.status.idle": "2024-04-04T20:27:05.400841Z",
     "shell.execute_reply": "2024-04-04T20:27:05.400841Z"
    }
   },
   "outputs": [
    {
     "ename": "NameError",
     "evalue": "name 'dotpair1' is not defined",
     "output_type": "error",
     "traceback": [
      "\u001b[1;31m---------------------------------------------------------------------------\u001b[0m",
      "\u001b[1;31mNameError\u001b[0m                                 Traceback (most recent call last)",
      "Cell \u001b[1;32mIn[15], line 2\u001b[0m\n\u001b[0;32m      1\u001b[0m \u001b[38;5;66;03m# delete variables from memory if no longer needed\u001b[39;00m\n\u001b[1;32m----> 2\u001b[0m \u001b[38;5;28;01mdel\u001b[39;00m dotpair1, dotpair2, dotpair3\n",
      "\u001b[1;31mNameError\u001b[0m: name 'dotpair1' is not defined"
     ]
    }
   ],
   "source": [
    "# delete variables from memory if no longer needed\n",
    "del dotpair1, dotpair2, dotpair3"
   ]
  },
  {
   "attachments": {},
   "cell_type": "markdown",
   "metadata": {},
   "source": [
    "## 2 Evaluate effective parameters\n",
    "\n",
    "For a specific control voltage configuration, the $g$-factor deviations and exchange couplings are determined for each dot or neighboring pair, respectively."
   ]
  },
  {
   "attachments": {},
   "cell_type": "markdown",
   "metadata": {},
   "source": [
    "g-factor deviation for multiple voltage vectors. Evaluated exactly (`exact=True`) or using the interpolation object (`exact=False`)"
   ]
  },
  {
   "cell_type": "code",
   "execution_count": 16,
   "metadata": {
    "execution": {
     "iopub.execute_input": "2024-04-04T20:27:05.403849Z",
     "iopub.status.busy": "2024-04-04T20:27:05.403849Z",
     "iopub.status.idle": "2024-04-04T20:27:05.419307Z",
     "shell.execute_reply": "2024-04-04T20:27:05.419307Z"
    }
   },
   "outputs": [
    {
     "ename": "NameError",
     "evalue": "name 'dots' is not defined",
     "output_type": "error",
     "traceback": [
      "\u001b[1;31m---------------------------------------------------------------------------\u001b[0m",
      "\u001b[1;31mNameError\u001b[0m                                 Traceback (most recent call last)",
      "Cell \u001b[1;32mIn[16], line 6\u001b[0m\n\u001b[0;32m      2\u001b[0m v3_sweep \u001b[38;5;241m=\u001b[39m np\u001b[38;5;241m.\u001b[39mlinspace(\u001b[38;5;241m0.2\u001b[39m,\u001b[38;5;241m0.3\u001b[39m,\u001b[38;5;241m5\u001b[39m)\n\u001b[0;32m      4\u001b[0m voltage_configs \u001b[38;5;241m=\u001b[39m[ [\u001b[38;5;241m0.25\u001b[39m,\u001b[38;5;241m0.0\u001b[39m,\u001b[38;5;241m0.25\u001b[39m, \u001b[38;5;241m0.0\u001b[39m,volt, \u001b[38;5;241m0.0\u001b[39m, \u001b[38;5;241m0.25\u001b[39m] \u001b[38;5;28;01mfor\u001b[39;00m volt \u001b[38;5;129;01min\u001b[39;00m v3_sweep]\n\u001b[1;32m----> 6\u001b[0m dots\u001b[38;5;241m.\u001b[39mplot(voltage_configs, param\u001b[38;5;241m=\u001b[39m\u001b[38;5;124m'\u001b[39m\u001b[38;5;124mgfactor\u001b[39m\u001b[38;5;124m'\u001b[39m, exact\u001b[38;5;241m=\u001b[39m\u001b[38;5;28;01mTrue\u001b[39;00m)\n\u001b[0;32m      7\u001b[0m dots\u001b[38;5;241m.\u001b[39mplot(voltage_configs, param\u001b[38;5;241m=\u001b[39m\u001b[38;5;124m'\u001b[39m\u001b[38;5;124mgfactor\u001b[39m\u001b[38;5;124m'\u001b[39m, exact\u001b[38;5;241m=\u001b[39m\u001b[38;5;28;01mFalse\u001b[39;00m)\n",
      "\u001b[1;31mNameError\u001b[0m: name 'dots' is not defined"
     ]
    }
   ],
   "source": [
    "voltage_configs = []\n",
    "v3_sweep = np.linspace(0.2,0.3,5)\n",
    "\n",
    "voltage_configs =[ [0.25,0.0,0.25, 0.0,volt, 0.0, 0.25] for volt in v3_sweep]\n",
    "    \n",
    "dots.plot(voltage_configs, param='gfactor', exact=True)\n",
    "dots.plot(voltage_configs, param='gfactor', exact=False)"
   ]
  },
  {
   "attachments": {},
   "cell_type": "markdown",
   "metadata": {},
   "source": [
    "Exchange for multiple tunneling gate voltages: plotting exchange for a path through voltage state space."
   ]
  },
  {
   "cell_type": "code",
   "execution_count": 17,
   "metadata": {
    "execution": {
     "iopub.execute_input": "2024-04-04T20:27:05.422316Z",
     "iopub.status.busy": "2024-04-04T20:27:05.421393Z",
     "iopub.status.idle": "2024-04-04T20:27:05.437513Z",
     "shell.execute_reply": "2024-04-04T20:27:05.437513Z"
    }
   },
   "outputs": [
    {
     "ename": "NameError",
     "evalue": "name 'dots' is not defined",
     "output_type": "error",
     "traceback": [
      "\u001b[1;31m---------------------------------------------------------------------------\u001b[0m",
      "\u001b[1;31mNameError\u001b[0m                                 Traceback (most recent call last)",
      "Cell \u001b[1;32mIn[17], line 7\u001b[0m\n\u001b[0;32m      4\u001b[0m     voltage_configs\u001b[38;5;241m.\u001b[39mappend([\u001b[38;5;241m0.2\u001b[39m, \u001b[38;5;241m0.0\u001b[39m, \u001b[38;5;241m0.2\u001b[39m, \u001b[38;5;241m0.0\u001b[39m, \u001b[38;5;241m0.2\u001b[39m, volt, \u001b[38;5;241m0.2\u001b[39m])\n\u001b[0;32m      6\u001b[0m \u001b[38;5;66;03m# dots.plot(voltage_configs, param='hl', ex_units='neV', yscale='log', exact=True)\u001b[39;00m\n\u001b[1;32m----> 7\u001b[0m dots\u001b[38;5;241m.\u001b[39mplot(voltage_configs, param\u001b[38;5;241m=\u001b[39m\u001b[38;5;124m'\u001b[39m\u001b[38;5;124mhm\u001b[39m\u001b[38;5;124m'\u001b[39m, yscale\u001b[38;5;241m=\u001b[39m\u001b[38;5;124m'\u001b[39m\u001b[38;5;124mlog\u001b[39m\u001b[38;5;124m'\u001b[39m, exact\u001b[38;5;241m=\u001b[39m\u001b[38;5;28;01mTrue\u001b[39;00m, plot_units\u001b[38;5;241m=\u001b[39m\u001b[38;5;124m'\u001b[39m\u001b[38;5;124mneV\u001b[39m\u001b[38;5;124m'\u001b[39m)\n\u001b[0;32m      8\u001b[0m dots\u001b[38;5;241m.\u001b[39mplot(voltage_configs, param\u001b[38;5;241m=\u001b[39m\u001b[38;5;124m'\u001b[39m\u001b[38;5;124mhm\u001b[39m\u001b[38;5;124m'\u001b[39m, yscale\u001b[38;5;241m=\u001b[39m\u001b[38;5;124m'\u001b[39m\u001b[38;5;124mlog\u001b[39m\u001b[38;5;124m'\u001b[39m, exact\u001b[38;5;241m=\u001b[39m\u001b[38;5;28;01mFalse\u001b[39;00m, plot_units\u001b[38;5;241m=\u001b[39m\u001b[38;5;124m'\u001b[39m\u001b[38;5;124mneV\u001b[39m\u001b[38;5;124m'\u001b[39m)\n",
      "\u001b[1;31mNameError\u001b[0m: name 'dots' is not defined"
     ]
    }
   ],
   "source": [
    "voltage_configs = []\n",
    "v = np.linspace(0.0,0.07,4)\n",
    "for volt in v:\n",
    "    voltage_configs.append([0.2, 0.0, 0.2, 0.0, 0.2, volt, 0.2])\n",
    "\n",
    "# dots.plot(voltage_configs, param='hl', ex_units='neV', yscale='log', exact=True)\n",
    "dots.plot(voltage_configs, param='hm', yscale='log', exact=True, plot_units='neV')\n",
    "dots.plot(voltage_configs, param='hm', yscale='log', exact=False, plot_units='neV')"
   ]
  }
 ],
 "metadata": {
  "kernelspec": {
   "display_name": "Python 3",
   "language": "python",
   "name": "python3"
  },
  "language_info": {
   "codemirror_mode": {
    "name": "ipython",
    "version": 3
   },
   "file_extension": ".py",
   "mimetype": "text/x-python",
   "name": "python",
   "nbconvert_exporter": "python",
   "pygments_lexer": "ipython3",
   "version": "3.11.5"
  },
  "vscode": {
   "interpreter": {
    "hash": "a31dd19c63c8456114db0e84be67cef693de4f2e539709efb03a4dd32c548982"
   }
  }
 },
 "nbformat": 4,
 "nbformat_minor": 2
}
