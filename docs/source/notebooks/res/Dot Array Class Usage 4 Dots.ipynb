{
 "cells": [
  {
   "attachments": {},
   "cell_type": "markdown",
   "metadata": {},
   "source": [
    "# DotArray Object for a Quadruple Quantum Dot Array"
   ]
  },
  {
   "cell_type": "markdown",
   "metadata": {},
   "source": [
    "This tutorial tests the dot maksing and effective parameter calculation on a 4-qubit system. \n",
    "\n",
    "See 2-qubit tutorial for more detailed explanations. "
   ]
  },
  {
   "attachments": {},
   "cell_type": "markdown",
   "metadata": {},
   "source": [
    "Necessary imports and default plotting parameters:"
   ]
  },
  {
   "cell_type": "code",
   "execution_count": null,
   "metadata": {},
   "outputs": [],
   "source": [
    "import os\n",
    "from pathlib import Path\n",
    "path = Path(os.getcwd())\n",
    "\n",
    "# update base working directory to QuDiPy\n",
    "if path.stem != 'QuDiPy':\n",
    "    print(path.parents[1])\n",
    "\n",
    "    base_dir = path.parents[1]\n",
    "    os.chdir(base_dir)\n",
    "else:\n",
    "    base_dir = path"
   ]
  },
  {
   "cell_type": "code",
   "execution_count": null,
   "metadata": {},
   "outputs": [],
   "source": [
    "import numpy as np\n",
    "from qudipy.system import DotArray"
   ]
  },
  {
   "attachments": {},
   "cell_type": "markdown",
   "metadata": {},
   "source": [
    "## 1. Generate Dots object instance\n",
    "\n",
    "Define variables to initialize Dots object instance"
   ]
  },
  {
   "cell_type": "code",
   "execution_count": null,
   "metadata": {},
   "outputs": [],
   "source": [
    "nav_dir = os.path.join('QuDiPy data', 'tutorials')\n",
    "processed_dir = os.path.join(base_dir, nav_dir,\n",
    "                            'processed','4QD_processed')\n",
    "nextnano_dir = os.path.join(base_dir, nav_dir,\n",
    "                                    'nextnano','4QD')\n",
    "file_prefix = 'tutorial'\n",
    "n_dots = 4      # anticipated number of dots"
   ]
  },
  {
   "attachments": {},
   "cell_type": "markdown",
   "metadata": {},
   "source": [
    "Define control parameters to use when interpolating the potential data from nextnano: must be a subset of the raw data. "
   ]
  },
  {
   "cell_type": "code",
   "execution_count": null,
   "metadata": {},
   "outputs": [],
   "source": [
    "pts = [3,3,3,3,3,3,3]\n",
    "# old effective parameters calculated on hfss\n",
    "ctrl_vals = [ \n",
    "    np.linspace(0.2, 0.35, pts[0]),\n",
    "    np.linspace(0.0, 0.15, pts[1]),\n",
    "    np.linspace(0.2, 0.35, pts[2]),\n",
    "    np.linspace(0.0, 0.15, pts[3]),\n",
    "    np.linspace(0.2, 0.35, pts[4]),\n",
    "    np.linspace(0.0, 0.15, pts[5]),\n",
    "    np.linspace(0.2, 0.35, pts[6])]"
   ]
  },
  {
   "attachments": {},
   "cell_type": "markdown",
   "metadata": {},
   "source": [
    "Create DotArray object instance"
   ]
  },
  {
   "cell_type": "code",
   "execution_count": null,
   "metadata": {},
   "outputs": [],
   "source": [
    "#Process/Load/Calculate with subset of raw nextnano data and desire file prefix\n",
    "# to add to saved interpolator files.\n",
    "dots = DotArray(n_dots, ctrl_ranges=ctrl_vals)\n",
    "dots.numeric(processed_dir, nextnano_dir, file_prefix)"
   ]
  },
  {
   "cell_type": "markdown",
   "metadata": {},
   "source": [
    "### 1.1 Dot Masking\n",
    "\n",
    "Checking how individual dots and dot pairs are masked"
   ]
  },
  {
   "cell_type": "code",
   "execution_count": null,
   "metadata": {},
   "outputs": [],
   "source": [
    "# Choose voltage control values\n",
    "voltage_config = [0.3, 0.0, 0.2, 0.05, 0.24, 0.05, 0.27]"
   ]
  },
  {
   "cell_type": "code",
   "execution_count": null,
   "metadata": {},
   "outputs": [],
   "source": [
    "dots.potential.plot(voltage_config, plot_units='meV')"
   ]
  },
  {
   "cell_type": "code",
   "execution_count": null,
   "metadata": {},
   "outputs": [],
   "source": [
    "# dot1, dot2, dot3, dot4 = dots.split(group='single')"
   ]
  },
  {
   "cell_type": "code",
   "execution_count": null,
   "metadata": {},
   "outputs": [],
   "source": [
    "# dot1.potential.plot(voltage_config, plot_units=['eV', 'm'])\n",
    "# dot2.potential.plot(voltage_config, plot_units=['eV', 'm'])\n",
    "# dot3.potential.plot(voltage_config, plot_units=['eV', 'm'])\n",
    "# dot4.potential.plot(voltage_config, plot_units=['eV', 'm'])"
   ]
  },
  {
   "cell_type": "code",
   "execution_count": null,
   "metadata": {},
   "outputs": [],
   "source": [
    "# voltage configuration for 4 QD array i.e. [V1, W1, ..., W3, V4]\n",
    "voltage_config = [0.253, 0.02, 0.27, 0.015, 0.27, 0.015, 0.27]\n",
    "\n",
    "# exchange calcualted with old dot splitting routine\n",
    "dots.exchanges(voltage_config)"
   ]
  },
  {
   "cell_type": "code",
   "execution_count": null,
   "metadata": {},
   "outputs": [],
   "source": [
    "# newly calculated exchange\n",
    "dots.exchanges(voltage_config, exact=True)"
   ]
  },
  {
   "cell_type": "code",
   "execution_count": null,
   "metadata": {},
   "outputs": [],
   "source": [
    "# # TODO: remove deep copy when splitting, eats up RAM\n",
    "dotpair1, dotpair2, dotpair3 = dots.split(group='pair')"
   ]
  },
  {
   "cell_type": "code",
   "execution_count": null,
   "metadata": {},
   "outputs": [],
   "source": [
    "voltage_config = [0.217, 0.15, 0.2, 0.0, 0.2, 0.0, 0.3]\n",
    "dotpair1.potential.plot(voltage_config, plot_units='meV', show_wf=True)"
   ]
  },
  {
   "cell_type": "code",
   "execution_count": null,
   "metadata": {},
   "outputs": [],
   "source": [
    "\n",
    "dotpair2.potential.plot(voltage_config, plot_units='meV', show_wf=True)\n",
    "dotpair2.potential.plot(voltage_config, plot_units='meV', show_wf=True, x_slice=-46e-9, plot_type='1D')\n",
    "dotpair3.potential.plot(voltage_config, plot_units='meV', show_wf=True)"
   ]
  },
  {
   "cell_type": "code",
   "execution_count": null,
   "metadata": {},
   "outputs": [],
   "source": [
    "# delete variables from memory if no longer needed\n",
    "del dotpair1, dotpair2, dotpair3"
   ]
  },
  {
   "attachments": {},
   "cell_type": "markdown",
   "metadata": {},
   "source": [
    "## 2 Evaluate effective parameters\n",
    "\n",
    "For a specific control voltage configuration, the $g$-factor deviations and exchange couplings are determined for each dot or neighboring pair, respectively."
   ]
  },
  {
   "attachments": {},
   "cell_type": "markdown",
   "metadata": {},
   "source": [
    "g-factor deviation for multiple voltage vectors. Evaluated exactly (`exact=True`) or using the interpolation object (`exact=False`)"
   ]
  },
  {
   "cell_type": "code",
   "execution_count": null,
   "metadata": {},
   "outputs": [],
   "source": [
    "voltage_configs = []\n",
    "v3_sweep = np.linspace(0.2,0.3,5)\n",
    "\n",
    "voltage_configs =[ [0.25,0.0,0.25, 0.0,volt, 0.0, 0.25] for volt in v3_sweep]\n",
    "    \n",
    "dots.plot(voltage_configs, param='gfactor', exact=True)\n",
    "dots.plot(voltage_configs, param='gfactor', exact=False)"
   ]
  },
  {
   "attachments": {},
   "cell_type": "markdown",
   "metadata": {},
   "source": [
    "Exchange for multiple tunneling gate voltages: plotting exchange for a path through voltage state space."
   ]
  },
  {
   "cell_type": "code",
   "execution_count": null,
   "metadata": {},
   "outputs": [],
   "source": [
    "voltage_configs = []\n",
    "v = np.linspace(0.0,0.07,4)\n",
    "for volt in v:\n",
    "    voltage_configs.append([0.2, 0.0, 0.2, 0.0, 0.2, volt, 0.2])\n",
    "\n",
    "# dots.plot(voltage_configs, param='hl', ex_units='neV', yscale='log', exact=True)\n",
    "dots.plot(voltage_configs, param='hm', yscale='log', exact=True, plot_units='neV')\n",
    "dots.plot(voltage_configs, param='hm', yscale='log', exact=False, plot_units='neV')"
   ]
  }
 ],
 "metadata": {
  "kernelspec": {
   "display_name": "Python 3",
   "language": "python",
   "name": "python3"
  },
  "language_info": {
   "codemirror_mode": {
    "name": "ipython",
    "version": 3
   },
   "file_extension": ".py",
   "mimetype": "text/x-python",
   "name": "python",
   "nbconvert_exporter": "python",
   "pygments_lexer": "ipython3",
   "version": "3.11.4"
  },
  "orig_nbformat": 4,
  "vscode": {
   "interpreter": {
    "hash": "a31dd19c63c8456114db0e84be67cef693de4f2e539709efb03a4dd32c548982"
   }
  }
 },
 "nbformat": 4,
 "nbformat_minor": 2
}
