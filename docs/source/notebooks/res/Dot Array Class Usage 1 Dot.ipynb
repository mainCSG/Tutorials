{
 "cells": [
  {
   "attachments": {},
   "cell_type": "markdown",
   "metadata": {},
   "source": [
    "# DotArray Object for a Single Quantum Dot Array"
   ]
  },
  {
   "cell_type": "code",
   "execution_count": null,
   "metadata": {},
   "outputs": [],
   "source": [
    "import os\n",
    "from pathlib import Path\n",
    "path = Path(os.getcwd())\n",
    "\n",
    "# update base working directory to QuDiPy\n",
    "if path.stem != 'QuDiPy':\n",
    "    base_dir = path.parents[1]\n",
    "    os.chdir(base_dir)\n",
    "else:\n",
    "    base_dir = path"
   ]
  },
  {
   "cell_type": "markdown",
   "metadata": {},
   "source": [
    "## 0. Import relevant Python and QuDiPy modules"
   ]
  },
  {
   "cell_type": "code",
   "execution_count": null,
   "metadata": {},
   "outputs": [],
   "source": [
    "import numpy as np\n",
    "import matplotlib.pyplot as plt\n",
    "from scipy.signal import find_peaks\n",
    "\n",
    "from qudipy.system import DotArray"
   ]
  },
  {
   "attachments": {},
   "cell_type": "markdown",
   "metadata": {},
   "source": [
    "## 1. Generate Dots object instance\n",
    "\n",
    "Refer to [2QD DotArray Usage Tutorial](./Dot%20Array%20Class%20Usage%202%20Dots.ipynb) for more about creating dots objects."
   ]
  },
  {
   "cell_type": "code",
   "execution_count": null,
   "metadata": {},
   "outputs": [],
   "source": [
    "nav_dir = os.path.join('QuDiPy data', 'resources')\n",
    "processed_dir = os.path.join(base_dir, nav_dir,\n",
    "                            'processed','1QD_processed')\n",
    "nextnano_dir = os.path.join(base_dir, nav_dir,\n",
    "                                    'nextnano','1QD') \n",
    "                \n",
    "n_dots = 1      # anticipated number of dots"
   ]
  },
  {
   "cell_type": "markdown",
   "metadata": {},
   "source": [
    "Define a voltage control sweep for a single plunger electrode."
   ]
  },
  {
   "cell_type": "code",
   "execution_count": null,
   "metadata": {},
   "outputs": [],
   "source": [
    "pts = [7]\n",
    "ctrl_vals = [np.linspace(0.1, 0.7, pts[0])]\n",
    "\n",
    "# provide a file prefix for labeled interpolation objects\n",
    "file_prefix = '1QD_data'"
   ]
  },
  {
   "attachments": {},
   "cell_type": "markdown",
   "metadata": {},
   "source": [
    "### 1.2 Create object instance \n",
    "\n",
    "Here we are loading only the 2D electrostatic potentials to use potential interpolation\n",
    "objects. These will be used to give an example for counting the number of dots is\n",
    "performed. "
   ]
  },
  {
   "cell_type": "code",
   "execution_count": null,
   "metadata": {},
   "outputs": [],
   "source": [
    "dots = DotArray(n_dots, ctrl_ranges=ctrl_vals, save=True, calc=['spin'])\n",
    "dots.numeric(processed_dir, nextnano_dir, file_prefix)"
   ]
  },
  {
   "cell_type": "markdown",
   "metadata": {},
   "source": [
    "If desired rename the control variable names."
   ]
  },
  {
   "cell_type": "code",
   "execution_count": null,
   "metadata": {},
   "outputs": [],
   "source": [
    "dots.ctrl_names = ['$V_1$']"
   ]
  },
  {
   "cell_type": "markdown",
   "metadata": {},
   "source": [
    "We can reference the potential interpolators as follows."
   ]
  },
  {
   "cell_type": "code",
   "execution_count": null,
   "metadata": {},
   "outputs": [],
   "source": [
    "ctrl_vector = [0.3]\n",
    "dots.potential.plot(ctrl_vector, pot_unit='meV', rel_amp=True, plot_type='1D', y_slice=0, show_wf=True)"
   ]
  },
  {
   "cell_type": "code",
   "execution_count": null,
   "metadata": {},
   "outputs": [],
   "source": [
    "dots.potential.plot(ctrl_vector, pot_unit='meV', rel_amp=True, show_wf=True)"
   ]
  },
  {
   "cell_type": "markdown",
   "metadata": {},
   "source": [
    "### 1.3 Evaluate effective parameters\n",
    "\n",
    "For a specific control voltage configuration, several effective parameters can be evaluated. In the\n",
    " following example the $g$-factor deviation is determined for a single dot.\n",
    "\n",
    "The $g$-factor deviation can be evaluated either directly (`exact=True` keyword), or using a pre-calculated interpolator \n",
    "(`exact=False` keyword). The results are compared below."
   ]
  },
  {
   "cell_type": "code",
   "execution_count": null,
   "metadata": {},
   "outputs": [],
   "source": [
    "# higher voltage on the 2nd dot gives higher g-factor deviation\n",
    "voltage_config = [0.2]\n",
    "\n",
    "print('Exact values:\\t',    dots.g_factors(voltage_config, exact=True))\n",
    "print('Interpolated:\\t',    dots.g_factors(voltage_config, exact=False))"
   ]
  },
  {
   "cell_type": "markdown",
   "metadata": {},
   "source": [
    "g-factor deviation for multiple voltage values."
   ]
  },
  {
   "cell_type": "code",
   "execution_count": null,
   "metadata": {},
   "outputs": [],
   "source": [
    "v1_vals = np.linspace(0.2, 0.7, 30)\n",
    "v1_sweep =[[v] for v in v1_vals]\n",
    "    \n",
    "dots.plot(v1_sweep, param='gfactor', exact=True)\n",
    "dots.plot(v1_sweep, param='gfactor', exact=False)"
   ]
  }
 ],
 "metadata": {
  "kernelspec": {
   "display_name": "qudipy",
   "language": "python",
   "name": "qudipy"
  },
  "language_info": {
   "codemirror_mode": {
    "name": "ipython",
    "version": 3
   },
   "file_extension": ".py",
   "mimetype": "text/x-python",
   "name": "python",
   "nbconvert_exporter": "python",
   "pygments_lexer": "ipython3",
   "version": "3.10.9"
  },
  "orig_nbformat": 4
 },
 "nbformat": 4,
 "nbformat_minor": 2
}
