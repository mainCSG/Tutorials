{
 "cells": [
  {
   "attachments": {},
   "cell_type": "markdown",
   "metadata": {},
   "source": [
    "# Operator Creation Tutorial"
   ]
  },
  {
   "attachments": {},
   "cell_type": "markdown",
   "metadata": {},
   "source": [
    "This tutorial will teach you how to use Operator class \n",
    "to construct multi-qubit operators, manipulate the data in the library of such operators, \n",
    "load/save data from a numpy-zipped file `Operators Tutorial.npz`."
   ]
  },
  {
   "attachments": {},
   "cell_type": "markdown",
   "metadata": {},
   "source": [
    "## 1. Add current location path and import packages"
   ]
  },
  {
   "cell_type": "code",
   "execution_count": 1,
   "metadata": {},
   "outputs": [],
   "source": [
    "import os\n",
    "from pathlib import Path\n",
    "path = Path(os.getcwd())\n",
    "\n",
    "# update base working directory to QuDiPy\n",
    "if path.stem != 'QuDiPy':\n",
    "    base_dir = path.parents[1]\n",
    "    os.chdir(base_dir)\n",
    "else:\n",
    "    base_dir = path"
   ]
  },
  {
   "cell_type": "code",
   "execution_count": 2,
   "metadata": {},
   "outputs": [
    {
     "name": "stdout",
     "output_type": "stream",
     "text": [
      "/home/zach/Documents/github/QuDiPy\n",
      "QuDiPy data/tutorials\n"
     ]
    }
   ],
   "source": [
    "original_dir = base_dir\n",
    "print(original_dir)\n",
    "\n",
    "# This will be used to access a tutorial object file\n",
    "tutorial_data_dir = os.path.join('QuDiPy data', 'tutorials')\n",
    "\n",
    "print(tutorial_data_dir)"
   ]
  },
  {
   "cell_type": "code",
   "execution_count": 3,
   "metadata": {},
   "outputs": [],
   "source": [
    "import qudipy.qutils.matrices as matr\n",
    "import numpy as np"
   ]
  },
  {
   "attachments": {},
   "cell_type": "markdown",
   "metadata": {},
   "source": [
    "## 2. Initialize an operator object from the Operator class\n",
    "\n",
    "The Operators Tutorial.npz object contains a dictionary of operators. The key expresses the name of the operator while the value associated with the key is a complex-valued array. \n",
    "\n",
    "If no Operators Tutorials.npz file exist an object, called ops, can be initialized with a hard coded operator dictionary or left as an empty dictionary. For the tutorial examples that follow you will use Operators Tutorial.npz object file which you will  start by creating."
   ]
  },
  {
   "cell_type": "code",
   "execution_count": 4,
   "metadata": {},
   "outputs": [],
   "source": [
    "# Dictionary to initialize ops object with\n",
    "init_ops = {\n",
    "    'PAULI_X': np.array([[0, 1], [1, 0]], dtype=complex),\n",
    "    'PAULI_Y': np.array([[0, -1.0j], \n",
    "        [1.0j, 0]],dtype=complex),\n",
    "    'PAULI_Z': np.array([[1, 0], [0, -1]], dtype=complex),\n",
    "    'PAULI_I': np.array([[1, 0], [0, 1]], dtype=complex),\n",
    "    'PAULI_I_4x4': np.array([[1, 0, 0, 0], \n",
    "                            [0, 1, 0, 0], \n",
    "                            [0, 0, 1, 0], \n",
    "                            [0, 0, 0, 1]], dtype=complex)\n",
    "}"
   ]
  },
  {
   "attachments": {},
   "cell_type": "markdown",
   "metadata": {},
   "source": [
    "### 2.1 With an existing dictionary but no object file"
   ]
  },
  {
   "cell_type": "code",
   "execution_count": 5,
   "metadata": {},
   "outputs": [
    {
     "name": "stdout",
     "output_type": "stream",
     "text": [
      "File name: QuDiPy data/tutorials/Operator Library.npz\n",
      "Saved dictionary with operators, dict_keys(['PAULI_X', 'PAULI_Y', 'PAULI_Z', 'PAULI_I', 'PAULI_I_4x4']), to the file: QuDiPy data/tutorials/Operator Library.npz.\n",
      "Existing dictionary but no object file: dict_keys(['PAULI_X', 'PAULI_Y', 'PAULI_Z', 'PAULI_I', 'PAULI_I_4x4'])\n"
     ]
    }
   ],
   "source": [
    "#Initialize the operator object library\n",
    "ops1 = matr.Operator(operators=init_ops)\n",
    "\n",
    "# Specify filename for operators object\n",
    "filename =os.path.join(tutorial_data_dir, 'Operator Library.npz')\n",
    "# or \n",
    "# filename =os.path.join(tutorial_data_dir, 'Operators Tutorial')\n",
    "\n",
    "print(f'File name: {filename}')\n",
    "\n",
    "# Now you can save the object file to the tutorial data directory using the \n",
    "# save_ops() method\n",
    "ops1.save_ops(filename)\n",
    "\n",
    "# load dictionary of operators from object file\n",
    "ops1.load_ops(filename=filename)\n",
    "\n",
    "print('Existing dictionary but no object file: {}'.format(ops1.keys()))"
   ]
  },
  {
   "attachments": {},
   "cell_type": "markdown",
   "metadata": {},
   "source": [
    "### 2.2 With an existing dictionary and object file\n",
    "Now you can define an operator dictionary for operators you wish to add to the existing operator ops object or initialize a new object with an object file and user defined dictionary"
   ]
  },
  {
   "cell_type": "code",
   "execution_count": 6,
   "metadata": {},
   "outputs": [
    {
     "name": "stdout",
     "output_type": "stream",
     "text": [
      "/home/zach/Documents/github/QuDiPy\n",
      "Existing dictionary and object file: dict_keys(['unitary1', 'unitary2', 'PAULI_X', 'PAULI_Y', 'PAULI_Z', 'PAULI_I', 'PAULI_I_4x4'])\n"
     ]
    }
   ],
   "source": [
    "\n",
    "print(os.getcwd())\n",
    "tutorial_ops = {\n",
    "    'unitary1':  np.array([[1, 0], [0, 1]], dtype=complex),\n",
    "    'unitary2':  0.5*np.array([[complex(1.0, -1.0), complex(1.0, 1.0)], \n",
    "        [complex(1.0, 1.0), complex(1.0, -1.0)]], dtype=complex)\n",
    "}\n",
    "\n",
    "ops2 = matr.Operator(operators=tutorial_ops, filename=filename)\n",
    "\n",
    "print('Existing dictionary and object file: {}'.format(ops2.keys()))"
   ]
  },
  {
   "attachments": {},
   "cell_type": "markdown",
   "metadata": {},
   "source": [
    "### 2.3 With object file but no user-defined dictionary"
   ]
  },
  {
   "cell_type": "code",
   "execution_count": 7,
   "metadata": {},
   "outputs": [
    {
     "name": "stdout",
     "output_type": "stream",
     "text": [
      "Object file but no user defined dictionary: dict_keys(['PAULI_X', 'PAULI_Y', 'PAULI_Z', 'PAULI_I', 'PAULI_I_4x4'])\n"
     ]
    }
   ],
   "source": [
    "ops3 = matr.Operator(filename=filename)\n",
    "\n",
    "print('Object file but no user defined dictionary: {}'.format(ops3.keys()))"
   ]
  },
  {
   "attachments": {},
   "cell_type": "markdown",
   "metadata": {},
   "source": [
    "### 2.4 With no initial input\n",
    "\n",
    "The following 1-qubit operators are added to each Operator object by default: `PAULI_X`, `PAULI_Y`, `PAULI_Z`, and `PAULI_I` (2x2 identity matrix)."
   ]
  },
  {
   "cell_type": "code",
   "execution_count": 8,
   "metadata": {},
   "outputs": [
    {
     "name": "stdout",
     "output_type": "stream",
     "text": [
      "Empty operators dictionary: dict_keys(['PAULI_X', 'PAULI_Y', 'PAULI_Z', 'PAULI_I'])\n"
     ]
    }
   ],
   "source": [
    "ops4 = matr.Operator()\n",
    "\n",
    "print('Empty operators dictionary: {}'.format(ops4.keys()))"
   ]
  },
  {
   "attachments": {},
   "cell_type": "markdown",
   "metadata": {},
   "source": [
    "## 3. Load operator object and Operator class usage examples"
   ]
  },
  {
   "cell_type": "code",
   "execution_count": 9,
   "metadata": {},
   "outputs": [
    {
     "name": "stdout",
     "output_type": "stream",
     "text": [
      "dict_keys(['PAULI_X', 'PAULI_Y', 'PAULI_Z', 'PAULI_I', 'PAULI_I_4x4', 'unitary1', 'unitary2'])\n",
      "After removal: dict_keys(['PAULI_X', 'PAULI_Y', 'PAULI_Z', 'PAULI_I', 'PAULI_I_4x4'])\n"
     ]
    }
   ],
   "source": [
    "# Load dictionary of operators from the object file\n",
    "ops1.operators = ops1.load_ops(filename)\n",
    "\n",
    "# Add new operators to exist operators dictionary\n",
    "ops1.add_operators(tutorial_ops)\n",
    "\n",
    "print(ops1.keys())\n",
    "\n",
    "# Remove no longer needed operators\n",
    "op_names = ['unitary1','unitary2']\n",
    "\n",
    "ops1.remove_operators(op_names)\n",
    "\n",
    "print('After removal:', ops1.keys())       "
   ]
  },
  {
   "attachments": {},
   "cell_type": "markdown",
   "metadata": {},
   "source": [
    "### 3.1 Indexing operator object to get/set/del operators\n",
    "Operator objects support a convenient indexing syntax: "
   ]
  },
  {
   "cell_type": "code",
   "execution_count": 10,
   "metadata": {},
   "outputs": [],
   "source": [
    "# setting\n",
    "ops1['unitary2'] = 0.5*np.array([[complex(1.0, -1.0), complex(1.0, 1.0)], \n",
    "                                [complex(1.0, 1.0), complex(1.0, -1.0)]])"
   ]
  },
  {
   "cell_type": "code",
   "execution_count": 11,
   "metadata": {},
   "outputs": [
    {
     "data": {
      "text/plain": [
       "array([[0.5-0.5j, 0.5+0.5j],\n",
       "       [0.5+0.5j, 0.5-0.5j]])"
      ]
     },
     "execution_count": 11,
     "metadata": {},
     "output_type": "execute_result"
    }
   ],
   "source": [
    "# getting\n",
    "ops1['unitary2']"
   ]
  },
  {
   "cell_type": "code",
   "execution_count": 12,
   "metadata": {},
   "outputs": [
    {
     "name": "stdout",
     "output_type": "stream",
     "text": [
      "After removal: dict_keys(['PAULI_X', 'PAULI_Y', 'PAULI_Z', 'PAULI_I', 'PAULI_I_4x4'])\n"
     ]
    }
   ],
   "source": [
    "#deleting\n",
    "del ops1['unitary2']\n",
    "\n",
    "print('After removal:', ops1.keys())   "
   ]
  },
  {
   "attachments": {},
   "cell_type": "markdown",
   "metadata": {},
   "source": [
    "### 3.2 Keeping track if operator library contains only unitary operators"
   ]
  },
  {
   "attachments": {},
   "cell_type": "markdown",
   "metadata": {},
   "source": [
    "We can check if the operator library contains any non-unitary operators via the object attribute 'is_unitary'. The attribute returns True if the operator library only contains unitary objecrts and False if any non-unitary object exists."
   ]
  },
  {
   "cell_type": "code",
   "execution_count": 13,
   "metadata": {},
   "outputs": [
    {
     "name": "stdout",
     "output_type": "stream",
     "text": [
      "True\n"
     ]
    }
   ],
   "source": [
    "print(ops1.is_unitary)"
   ]
  },
  {
   "attachments": {},
   "cell_type": "markdown",
   "metadata": {},
   "source": [
    "Now operators can be added which are non-unitary and we see that the 'is_unitary' attribute gets updated."
   ]
  },
  {
   "cell_type": "code",
   "execution_count": 14,
   "metadata": {},
   "outputs": [
    {
     "name": "stdout",
     "output_type": "stream",
     "text": [
      "False\n"
     ]
    }
   ],
   "source": [
    "tutorial_ops = {\n",
    "    'not-unitary1':  np.array([[1, 0], [0, 2]], dtype=complex),\n",
    "    'not-unitary2':  np.array([[2, 0], [0, 1]], dtype=complex)\n",
    "}\n",
    "\n",
    "# Add new operators to exist operators dictionary\n",
    "ops1.add_operators(tutorial_ops)\n",
    "\n",
    "# The 'is_unitary' attribute has been changed\n",
    "print(ops1.is_unitary)"
   ]
  },
  {
   "attachments": {},
   "cell_type": "markdown",
   "metadata": {},
   "source": [
    "Finally, removing the non-unitary operators we see that the 'is_unitary' attribute is once again updated.  "
   ]
  },
  {
   "cell_type": "code",
   "execution_count": 15,
   "metadata": {},
   "outputs": [
    {
     "name": "stdout",
     "output_type": "stream",
     "text": [
      "True\n"
     ]
    }
   ],
   "source": [
    "# Remove the non-unitary operators\n",
    "ops1.remove_operators(tutorial_ops)\n",
    "\n",
    "# Now check if the library attribute 'is_unitary' has changed\n",
    "print(ops1.is_unitary)"
   ]
  },
  {
   "attachments": {},
   "cell_type": "markdown",
   "metadata": {},
   "source": [
    "### 3.3 Operators must be complex valued\n",
    "Converts to complex data type if possible, raises an exception otherwise."
   ]
  },
  {
   "cell_type": "code",
   "execution_count": 16,
   "metadata": {},
   "outputs": [
    {
     "name": "stdout",
     "output_type": "stream",
     "text": [
      "Note: Data type of first element for not-complex is not complex, but is: <class 'numpy.int64'>.\n"
     ]
    }
   ],
   "source": [
    "tutorial_ops = {\n",
    "    'not-complex':  np.array([[1, 0], [0, 1]], dtype=int)\n",
    "}\n",
    "\n",
    "# Add new operators to exist operators dictionary\n",
    "ops1.add_operators(tutorial_ops)"
   ]
  },
  {
   "attachments": {},
   "cell_type": "markdown",
   "metadata": {},
   "source": [
    "### 3.4 Operators must be an array\n",
    "Converts to a numpy array if possible, raises an exception otherwise."
   ]
  },
  {
   "cell_type": "code",
   "execution_count": 17,
   "metadata": {},
   "outputs": [
    {
     "name": "stdout",
     "output_type": "stream",
     "text": [
      "Note: Data type of not-array is not ndarray, but is: <class 'list'>.\n",
      "Note: Data type of first element for not-array is not complex, but is: <class 'numpy.int64'>.\n"
     ]
    },
    {
     "data": {
      "text/plain": [
       "numpy.ndarray"
      ]
     },
     "execution_count": 17,
     "metadata": {},
     "output_type": "execute_result"
    }
   ],
   "source": [
    "tutorial_ops = {\n",
    "    'not-array':  [[-1, 0], [0, -1]]\n",
    "}\n",
    "\n",
    "# Add new operators to exist operators dictionary\n",
    "ops1.add_operators(tutorial_ops)\n",
    "\n",
    "#Confirm successful conversion\n",
    "type(ops1['not-array'])"
   ]
  },
  {
   "attachments": {},
   "cell_type": "markdown",
   "metadata": {},
   "source": [
    "### 3.5 Operators **must** be square\n",
    "\n",
    "Non-square operator arrays with cause a ValueError to be raised. In this example the output ValueError message will read:"
   ]
  },
  {
   "cell_type": "code",
   "execution_count": 18,
   "metadata": {},
   "outputs": [
    {
     "name": "stdout",
     "output_type": "stream",
     "text": [
      "ValueError: Operator entry contains a non-square array of size [2,3].\n"
     ]
    }
   ],
   "source": [
    "tutorial_ops = {\n",
    "    'not-square':  np.array([[1, 0, 0], [0, 1, 0]], dtype=complex)\n",
    "}\n",
    "\n",
    "try:\n",
    "    # Add new operators to exist operators dictionary\n",
    "    ops1.add_operators(tutorial_ops)\n",
    "except:\n",
    "    print('ValueError: Operator entry contains a non-square array of size [2,3].')\n"
   ]
  },
  {
   "attachments": {},
   "cell_type": "markdown",
   "metadata": {},
   "source": [
    "### 4. Hard coded operators\n",
    "\n",
    "In the Operator class, operator methods can be defined to be called when needed. The operator methods are defined with the following functional form:\n",
    "\n",
    "``` python\n",
    "    def <OPERATOR NAME>(self, <input1>, <input2>,..., <inputN>, save=False):\n",
    "\n",
    "            # Structure for appended names formed from the kwarg keys and values\n",
    "            def struct(key, val):\n",
    "                # Ignored: struct and func \n",
    "                return f'_{key}{val}'\n",
    "\n",
    "            # Define a function to construct the operator when needed\n",
    "            def func(self):\n",
    "                N_val = N\n",
    "                k_val = k\n",
    "\n",
    "                return <user defined function>(N,k)\n",
    "\n",
    "            # Define variable dictionary for operator\n",
    "            kwargs = {'<input1>': <input1>, '<input2>': <input2>,...,\n",
    "                '<inputN>': <inputN>, struct': struct, 'func': func}\n",
    "\n",
    "            # Check if the operator exist or needs to be saved\n",
    "            return self.coded_op(save, **kwargs)\n",
    "```"
   ]
  },
  {
   "attachments": {},
   "cell_type": "markdown",
   "metadata": {},
   "source": [
    "In the above operator function example, three attributes need to be defined by the user:\n",
    "1. The operator name must be all capital letters\n",
    "2. The user must define the structure for appended variable names in the struct function\n",
    "3. The number of function inputs for the operator function must be defined in the kwargs dictionary"
   ]
  },
  {
   "cell_type": "code",
   "execution_count": 19,
   "metadata": {},
   "outputs": [
    {
     "data": {
      "text/plain": [
       "array([[1.+0.j, 0.+0.j, 0.+0.j, 0.+0.j],\n",
       "       [0.+0.j, 1.+0.j, 0.+0.j, 0.+0.j],\n",
       "       [0.+0.j, 0.+0.j, 0.+0.j, 1.+0.j],\n",
       "       [0.+0.j, 0.+0.j, 1.+0.j, 0.+0.j]])"
      ]
     },
     "execution_count": 19,
     "metadata": {},
     "output_type": "execute_result"
    }
   ],
   "source": [
    "ops1.CNOT(2, 1,2)"
   ]
  },
  {
   "attachments": {},
   "cell_type": "markdown",
   "metadata": {},
   "source": [
    "### 4.1 Saving hard coded operators to operator library\n",
    "\n",
    "When using the hard coded operators they are only computed if they do not exist in the current operator library, otherwise, they are loaded from the library. For high dimensional operators this will save computational resources. If an operator is not in the existing operator library, the user can specify that the operator should be saved with the `save` flag. The default is `save=False`."
   ]
  },
  {
   "attachments": {},
   "cell_type": "markdown",
   "metadata": {},
   "source": [
    "### 4.2 List of hard-coded operators \n",
    "\n",
    "\n",
    "Methods for constructing operators in N-qubit space are:\n",
    "\n",
    "| Type    | Method call |  Keyword in Operator object's library |\n",
    "| -------- |      ------- |                               ------- |\n",
    "| Identity operator | `UNIT(N)`   |       \"UNIT_N{N}\"                 |\n",
    "|Pauli gate on k $^\\mathrm{th}$ qubit  | `PAULI_{Letter}(N, k)`<br /> (Letter=X,Y or Z) | \"PAULI_{Letter}\\_N{N}_k{k}\"|\n",
    "|Ladder operator on k $^\\mathrm{th}$ qubit  | `SIGMA_PLUS(N,k)`,  `SIGMA_MINUS(N,k)` | \"SIGMA_PLUS_N{N}_k{k}\", ... |\n",
    "|Projection operator of  k $^\\mathrm{th}$ qubit |  `E_UP(N,k)`, `E_DOWN(N,k)` | \"E_UP_N{N}_k{k}\", ...    |\n",
    "|$\\mathrm{CNOT}_{ctrl,\\ trgt}$            |  `CNOT(N, ctrl, trgt)`  | \"CNOT_N{N}_ctrl{ctrl}_trgt{trgt} \" |\n",
    "| (root)-$\\mathrm{SWAP}_{k_1, k_2}$, product $\\vec{\\sigma}_{k_1} \\cdot \\vec{\\sigma}_{k_2} $       | `SWAP(N,k1,k2)`, `RSWAP(N,k1,k2)`, <br />  `SIGMA_PRODUCT(N,k1,k2)` | \"SWAP_N{N}\\_k1_{k1}\\_k2_{k2}\", ...\n",
    "\n",
    "Optional argument of each method is `save` (True or False)\n"
   ]
  },
  {
   "attachments": {},
   "cell_type": "markdown",
   "metadata": {},
   "source": [
    "### 4.2 Using hard coded operator\n",
    "\n",
    "We can call a hard coded operator as follows:"
   ]
  },
  {
   "cell_type": "code",
   "execution_count": 20,
   "metadata": {},
   "outputs": [
    {
     "name": "stdout",
     "output_type": "stream",
     "text": [
      "[[0.+0.j 0.+0.j 0.+0.j 0.+0.j 0.+0.j 0.+0.j 0.+0.j 0.+0.j]\n",
      " [2.+0.j 0.+0.j 0.+0.j 0.+0.j 0.+0.j 0.+0.j 0.+0.j 0.+0.j]\n",
      " [0.+0.j 0.+0.j 0.+0.j 0.+0.j 0.+0.j 0.+0.j 0.+0.j 0.+0.j]\n",
      " [0.+0.j 0.+0.j 2.+0.j 0.+0.j 0.+0.j 0.+0.j 0.+0.j 0.+0.j]\n",
      " [0.+0.j 0.+0.j 0.+0.j 0.+0.j 0.+0.j 0.+0.j 0.+0.j 0.+0.j]\n",
      " [0.+0.j 0.+0.j 0.+0.j 0.+0.j 2.+0.j 0.+0.j 0.+0.j 0.+0.j]\n",
      " [0.+0.j 0.+0.j 0.+0.j 0.+0.j 0.+0.j 0.+0.j 0.+0.j 0.+0.j]\n",
      " [0.+0.j 0.+0.j 0.+0.j 0.+0.j 0.+0.j 0.+0.j 2.+0.j 0.+0.j]]\n"
     ]
    }
   ],
   "source": [
    "new_op = ops3.SIGMA_MINUS(3, 3)\n",
    "print(new_op)"
   ]
  },
  {
   "attachments": {},
   "cell_type": "markdown",
   "metadata": {},
   "source": [
    "We see that the operator was not in the existing operator library so it was computed upon the call."
   ]
  },
  {
   "cell_type": "code",
   "execution_count": 21,
   "metadata": {},
   "outputs": [
    {
     "name": "stdout",
     "output_type": "stream",
     "text": [
      "dict_keys(['PAULI_X', 'PAULI_Y', 'PAULI_Z', 'PAULI_I', 'PAULI_I_4x4'])\n"
     ]
    }
   ],
   "source": [
    "print(ops3.keys())"
   ]
  },
  {
   "attachments": {},
   "cell_type": "markdown",
   "metadata": {},
   "source": [
    "Adding the save flag will add the operator to the operator library and then save the library."
   ]
  },
  {
   "cell_type": "code",
   "execution_count": 22,
   "metadata": {},
   "outputs": [
    {
     "name": "stdout",
     "output_type": "stream",
     "text": [
      "Saved dictionary with operators, dict_keys(['PAULI_X', 'PAULI_Y', 'PAULI_Z', 'PAULI_I', 'PAULI_I_4x4', 'SIGMA_MINUS_N3_k3']), to the file: QuDiPy data/tutorials/Operator Library.npz.\n",
      "dict_keys(['PAULI_X', 'PAULI_Y', 'PAULI_Z', 'PAULI_I', 'PAULI_I_4x4', 'SIGMA_MINUS_N3_k3'])\n"
     ]
    }
   ],
   "source": [
    "new_op = ops3.SIGMA_MINUS(3, 3, save=True)\n",
    "print(ops3.keys())"
   ]
  },
  {
   "attachments": {},
   "cell_type": "markdown",
   "metadata": {},
   "source": [
    "We see that the operator library was updated and that when the operator is called it is loaded from the operator libray rather than being computed."
   ]
  },
  {
   "cell_type": "code",
   "execution_count": 23,
   "metadata": {},
   "outputs": [
    {
     "name": "stdout",
     "output_type": "stream",
     "text": [
      "dict_keys(['PAULI_X', 'PAULI_Y', 'PAULI_Z', 'PAULI_I', 'PAULI_I_4x4', 'SIGMA_MINUS_N3_k3'])\n",
      "[[0.+0.j 0.+0.j 0.+0.j 0.+0.j 0.+0.j 0.+0.j 0.+0.j 0.+0.j]\n",
      " [2.+0.j 0.+0.j 0.+0.j 0.+0.j 0.+0.j 0.+0.j 0.+0.j 0.+0.j]\n",
      " [0.+0.j 0.+0.j 0.+0.j 0.+0.j 0.+0.j 0.+0.j 0.+0.j 0.+0.j]\n",
      " [0.+0.j 0.+0.j 2.+0.j 0.+0.j 0.+0.j 0.+0.j 0.+0.j 0.+0.j]\n",
      " [0.+0.j 0.+0.j 0.+0.j 0.+0.j 0.+0.j 0.+0.j 0.+0.j 0.+0.j]\n",
      " [0.+0.j 0.+0.j 0.+0.j 0.+0.j 2.+0.j 0.+0.j 0.+0.j 0.+0.j]\n",
      " [0.+0.j 0.+0.j 0.+0.j 0.+0.j 0.+0.j 0.+0.j 0.+0.j 0.+0.j]\n",
      " [0.+0.j 0.+0.j 0.+0.j 0.+0.j 0.+0.j 0.+0.j 2.+0.j 0.+0.j]]\n"
     ]
    }
   ],
   "source": [
    "ops5 = matr.Operator(filename=filename)\n",
    "print(ops5.keys())\n",
    "\n",
    "new_op = ops5.SIGMA_MINUS(3, 3)\n",
    "print(new_op)"
   ]
  },
  {
   "attachments": {},
   "cell_type": "markdown",
   "metadata": {},
   "source": [
    "Removing the `.npz` file at the end"
   ]
  },
  {
   "cell_type": "code",
   "execution_count": 24,
   "metadata": {},
   "outputs": [],
   "source": [
    "path = os.path.join(tutorial_data_dir, 'Operator Library.npz')\n",
    "os.remove(path)"
   ]
  }
 ],
 "metadata": {
  "kernelspec": {
   "display_name": "qudipy",
   "language": "python",
   "name": "qudipy"
  },
  "language_info": {
   "codemirror_mode": {
    "name": "ipython",
    "version": 3
   },
   "file_extension": ".py",
   "mimetype": "text/x-python",
   "name": "python",
   "nbconvert_exporter": "python",
   "pygments_lexer": "ipython3",
   "version": "3.10.9"
  },
  "vscode": {
   "interpreter": {
    "hash": "e578d8067294a0e12f26277bff9ed8584467d02be91fa033d4cae8f63cc059a3"
   }
  }
 },
 "nbformat": 4,
 "nbformat_minor": 4
}
